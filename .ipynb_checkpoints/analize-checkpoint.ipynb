{
 "cells": [
  {
   "cell_type": "code",
   "execution_count": null,
   "id": "f52f641f-f550-41fc-9170-2e7219cf306f",
   "metadata": {},
   "outputs": [],
   "source": [
    "import pandas as pd\n",
    "import numpy as np\n",
    "import sklearn as sl\n",
    "import seaborn as sns\n",
    "\n",
    "import math as m"
   ]
  },
  {
   "cell_type": "code",
   "execution_count": null,
   "id": "bfdd13cf-f43e-424b-ac02-a37917f3752b",
   "metadata": {},
   "outputs": [],
   "source": [
    "ds = pd.read_csv('./data/train.csv', index_col='id')\n",
    "ds.head(3)"
   ]
  },
  {
   "cell_type": "code",
   "execution_count": null,
   "id": "225b2a90-6bcc-428c-bef5-a81b2e672d7f",
   "metadata": {},
   "outputs": [],
   "source": [
    "ds_ss = pd.read_csv('./data/sample_submission.csv', index_col='id')\n",
    "ds_ss.head(3)"
   ]
  },
  {
   "cell_type": "code",
   "execution_count": null,
   "id": "bd1c8e1d-3e02-4f14-81b4-3d6842628b4b",
   "metadata": {},
   "outputs": [],
   "source": [
    "ds_ss.loc[ds_ss['stress'] != 1]"
   ]
  },
  {
   "cell_type": "code",
   "execution_count": null,
   "id": "2ba9c9de-7e5b-48da-9ae0-4e4cd9b06293",
   "metadata": {},
   "outputs": [],
   "source": [
    "ds_test = pd.read_csv('./data/test.csv', index_col='id')\n",
    "ds_test.head(3)"
   ]
  },
  {
   "cell_type": "code",
   "execution_count": null,
   "id": "abfc2a84-c601-4141-aec0-70cf960dc6fa",
   "metadata": {},
   "outputs": [],
   "source": [
    "pd.set_option('display.max_rows', 10)\n",
    "ds_test.describe()"
   ]
  },
  {
   "cell_type": "raw",
   "id": "baa73029-e30e-49f9-8c69-e89edfdb0210",
   "metadata": {},
   "source": [
    "ds_ss['stress']"
   ]
  },
  {
   "cell_type": "raw",
   "id": "eee74f9b-5e9e-4d33-9a5f-dccc935871cd",
   "metadata": {},
   "source": [
    "sns.histplot(data = {\"stress\": ds_ss['stress']}, \n",
    "             kde=True)"
   ]
  },
  {
   "cell_type": "code",
   "execution_count": null,
   "id": "db8fbfda-9627-43ae-a49b-efe02945cd12",
   "metadata": {},
   "outputs": [],
   "source": [
    "ds.describe()"
   ]
  },
  {
   "cell_type": "markdown",
   "id": "9658a29e-07fb-49cc-89de-9efed7646cfc",
   "metadata": {},
   "source": [
    "# Поиск шумов"
   ]
  },
  {
   "cell_type": "raw",
   "id": "f747efc0-0038-433e-bafb-daa127d62c97",
   "metadata": {},
   "source": [
    "Проверка на дурака: ударение на согласную букву не ставится!"
   ]
  },
  {
   "cell_type": "code",
   "execution_count": null,
   "id": "56a2aa4f-b34b-46bf-b39f-9c1f8eb6d712",
   "metadata": {},
   "outputs": [],
   "source": [
    "ds_copy = ds.copy()"
   ]
  },
  {
   "cell_type": "raw",
   "id": "1051a84d-0832-4917-af64-5be8994b1d6f",
   "metadata": {},
   "source": [
    "# «а» «у» «о» «и» «э» «ы» «я» «ю» «е» «ё»\n",
    "vowels = ['а', 'е', 'ё', 'у', 'о', 'и', 'э', 'ы', 'ю', 'я']\n",
    "ds_ = ds.apply(lambda df: df.word[df.stress - 1] in vowels, axis=1)\n",
    "ds_"
   ]
  },
  {
   "cell_type": "code",
   "execution_count": null,
   "id": "f6c23602-0f46-4c42-847f-f6a2a0ec1560",
   "metadata": {},
   "outputs": [],
   "source": [
    "# «а» «у» «о» «и» «э» «ы» «я» «ю» «е» «ё»\n",
    "vowels = ['а', 'е', 'ё', 'у', 'о', 'и', 'э', 'ы', 'ю', 'я']"
   ]
  },
  {
   "cell_type": "markdown",
   "id": "9082886e-fe90-4d6e-b7b8-9353b1d7e989",
   "metadata": {},
   "source": [
    "#  Анализ данных"
   ]
  },
  {
   "cell_type": "code",
   "execution_count": null,
   "id": "73edf54f-fccc-4b98-9d00-15a7f089549f",
   "metadata": {},
   "outputs": [],
   "source": [
    "ds[1000:1030]"
   ]
  },
  {
   "cell_type": "markdown",
   "id": "12d607f8-9288-410f-a6fa-df60997df096",
   "metadata": {},
   "source": [
    "* можно на выход подавать номер слога\n",
    "* можно на выход подавать номер ударной буквы, тогда НС будет как бы бинарно классифицировать падает ли на эту букву ударение"
   ]
  },
  {
   "cell_type": "markdown",
   "id": "91f9f21f-b420-4e34-a8d8-93add2ec8b3e",
   "metadata": {},
   "source": [
    "# Посчитаем длину слов"
   ]
  },
  {
   "cell_type": "code",
   "execution_count": null,
   "id": "12bb0223-3a11-440d-9764-c8c641de827c",
   "metadata": {},
   "outputs": [],
   "source": [
    "ds['words_lenght'] = [len(word) for word in ds['word']]\n",
    "ds.sample(5)"
   ]
  },
  {
   "cell_type": "code",
   "execution_count": null,
   "id": "b6bafe92-9f60-433c-a82c-c7bd5bf72c08",
   "metadata": {},
   "outputs": [],
   "source": [
    "max_words_lenght = np.max(ds['words_lenght'])\n",
    "max_words_lenght"
   ]
  },
  {
   "cell_type": "code",
   "execution_count": null,
   "id": "7eaf3036-84b2-4ea5-a961-de0404b71d50",
   "metadata": {},
   "outputs": [],
   "source": [
    "ds['lemmas_lenght'] = [len(word) for word in ds['lemma']]\n",
    "ds.sample(5)"
   ]
  },
  {
   "cell_type": "code",
   "execution_count": null,
   "id": "dd18a56f-fdce-4758-8979-ddfdc06cd414",
   "metadata": {},
   "outputs": [],
   "source": [
    "max_lemms_lenght = np.max(ds['lemmas_lenght'])\n",
    "max_lemms_lenght"
   ]
  },
  {
   "cell_type": "code",
   "execution_count": null,
   "id": "e7e33dea-132d-47f1-b41b-c53f31546aeb",
   "metadata": {},
   "outputs": [],
   "source": [
    "min_lemms_lenght = np.min(ds['lemmas_lenght'])\n",
    "min_lemms_lenght"
   ]
  },
  {
   "cell_type": "code",
   "execution_count": null,
   "id": "c7bccebd-2734-40d4-ba1d-5f98aa5e93da",
   "metadata": {},
   "outputs": [],
   "source": [
    "ds.loc[ds['lemmas_lenght'] <= 2]"
   ]
  },
  {
   "cell_type": "raw",
   "id": "9c3cdf4e-76ff-46df-ab7d-8c6bd6f4aac3",
   "metadata": {},
   "source": [
    "Заводим список возможных слов из двух букв"
   ]
  },
  {
   "cell_type": "code",
   "execution_count": null,
   "id": "5c202d6d-889d-4748-918a-bb1d025b5bd0",
   "metadata": {},
   "outputs": [],
   "source": [
    "two_letter_words = ['еж', 'мы', 'уж', 'ус', 'яз', 'юг']"
   ]
  },
  {
   "cell_type": "code",
   "execution_count": null,
   "id": "9a268b7b-d0ce-4725-ab4f-2d49f8dbb46c",
   "metadata": {},
   "outputs": [],
   "source": [
    "very_short_words = ds.loc[(ds['lemmas_lenght'] <= 2) & (~ds['lemma'].isin(two_letter_words))]"
   ]
  },
  {
   "cell_type": "code",
   "execution_count": null,
   "id": "efe240a8-5300-4e85-9ce3-d9f2a3a9aa4d",
   "metadata": {},
   "outputs": [],
   "source": [
    "ds = ds.drop(index=very_short_words.index, axis=1)"
   ]
  },
  {
   "cell_type": "code",
   "execution_count": null,
   "id": "30542b69-2f10-4ffb-9311-a74d85df3df4",
   "metadata": {},
   "outputs": [],
   "source": [
    "bad_indexes = ds.loc[(ds['num_syllables'] == 1) & (~ds['lemma'].isin(two_letter_words))].index\n",
    "ds = ds.drop(index=bad_indexes, axis=1)\n",
    "len(bad_indexes)"
   ]
  },
  {
   "cell_type": "code",
   "execution_count": null,
   "id": "8b84fd7b-09a8-4c92-b1ef-8aebb11aecfd",
   "metadata": {},
   "outputs": [],
   "source": [
    "# pd.set_option('display.max_rows', None)\n",
    "three_letters_words = ds.loc[(ds['lemmas_lenght'] == 3) & (ds['words_lenght'] == 3)]\n",
    "three_letters_words"
   ]
  },
  {
   "cell_type": "raw",
   "id": "9b090d2e-7011-4df2-93d1-55b36eaeada7",
   "metadata": {},
   "source": [
    "единственный вариант который я вижу это перебрать эти 147 слов руками и удалить какие-то совсем уж не понятные"
   ]
  },
  {
   "cell_type": "raw",
   "id": "4a1f674a-a67d-4322-99fa-d6acc5dd38d2",
   "metadata": {},
   "source": [
    "Однако так как тут в основном имена в целом наверное будет не большой потерей если я их удалю все"
   ]
  },
  {
   "cell_type": "code",
   "execution_count": null,
   "id": "b6bc0ede-42a5-4838-9c5c-5f92f181b547",
   "metadata": {},
   "outputs": [],
   "source": []
  },
  {
   "cell_type": "code",
   "execution_count": null,
   "id": "8d668f5c-f1ab-4556-8d5a-cfe9bac83fa9",
   "metadata": {},
   "outputs": [],
   "source": [
    "len(ds['word'].unique())"
   ]
  },
  {
   "cell_type": "code",
   "execution_count": null,
   "id": "e06c49fe-c4cb-47de-9e55-a10a78358823",
   "metadata": {},
   "outputs": [],
   "source": [
    "len(ds['word'])"
   ]
  },
  {
   "cell_type": "code",
   "execution_count": null,
   "id": "5b50a693-ff61-4826-bde0-a9532e183548",
   "metadata": {},
   "outputs": [],
   "source": []
  },
  {
   "cell_type": "code",
   "execution_count": null,
   "id": "da00d83d-ac5a-4c44-ae55-5a925223c433",
   "metadata": {},
   "outputs": [],
   "source": [
    "ds.describe()"
   ]
  },
  {
   "cell_type": "code",
   "execution_count": null,
   "id": "6a06c945-0563-4bf7-a0ea-05e86aab546e",
   "metadata": {},
   "outputs": [],
   "source": [
    "ds.sample(1)"
   ]
  },
  {
   "cell_type": "code",
   "execution_count": null,
   "id": "c0302f29-534c-40e9-b31e-4253d508ec5e",
   "metadata": {},
   "outputs": [],
   "source": [
    "sns.histplot(data = {\"stress\": ds['stress']}, \n",
    "             kde=True)"
   ]
  },
  {
   "cell_type": "code",
   "execution_count": null,
   "id": "a0cd4b05-d5f2-47f8-9252-205d5548cbcf",
   "metadata": {},
   "outputs": [],
   "source": [
    "len(ds.loc[ds['stress'] == 6])"
   ]
  },
  {
   "cell_type": "code",
   "execution_count": null,
   "id": "c5902cd8-9f61-4fd9-b4f5-15fda8a1c815",
   "metadata": {},
   "outputs": [],
   "source": [
    "len(ds.loc[ds['stress'] == 5])"
   ]
  },
  {
   "cell_type": "code",
   "execution_count": null,
   "id": "5c080c68-1d5e-461c-b10c-bcc57eab7528",
   "metadata": {},
   "outputs": [],
   "source": [
    "len(ds.loc[ds['stress'] == 4])"
   ]
  },
  {
   "cell_type": "raw",
   "id": "ef23859c-ad4a-4bcd-bf84-deb0098c8c98",
   "metadata": {},
   "source": [
    "Как мы видим выборка очень сильно разбалансирована, попробуем немного выровнять их колличество дублированием до 15000 значений"
   ]
  },
  {
   "cell_type": "markdown",
   "id": "f3b7a6d4-323e-4723-a25e-497592358d62",
   "metadata": {},
   "source": [
    "## Выяснение весов классов"
   ]
  },
  {
   "cell_type": "code",
   "execution_count": null,
   "id": "83e966b7-ac13-4077-9680-6c2d80988e55",
   "metadata": {},
   "outputs": [],
   "source": [
    "from sklearn.ensemble import RandomForestClassifier\n",
    "from sklearn.utils.class_weight import compute_class_weight"
   ]
  },
  {
   "cell_type": "code",
   "execution_count": null,
   "id": "ce9169ca-698e-4a2c-9074-dab179f8f808",
   "metadata": {},
   "outputs": [],
   "source": [
    "# Получение весов классов\n",
    "class_weights = compute_class_weight('balanced', classes=np.unique(ds['stress']), y=ds['stress'])\n",
    "class_weights"
   ]
  },
  {
   "cell_type": "code",
   "execution_count": null,
   "id": "2b3682ab-14ed-48ce-a91f-fdb97d7f502f",
   "metadata": {},
   "outputs": [],
   "source": [
    "ds.loc[ds['stress'] == 2]"
   ]
  },
  {
   "cell_type": "markdown",
   "id": "dff76882-c913-4f41-b7c8-c3fc9a613d89",
   "metadata": {},
   "source": [
    "## Балансировка даных в ручную"
   ]
  },
  {
   "cell_type": "markdown",
   "id": "d498f99d-1a6f-4689-a2f9-3340486189e2",
   "metadata": {},
   "source": [
    "## Unsamplyng"
   ]
  },
  {
   "cell_type": "code",
   "execution_count": null,
   "id": "1aeaf9ae-ed99-4ac5-a5b3-68040aa1f09f",
   "metadata": {},
   "outputs": [],
   "source": [
    "ds.loc[ds['lemma'] == 'яшка']"
   ]
  },
  {
   "cell_type": "code",
   "execution_count": null,
   "id": "ee67ec15-ae9b-4d6c-bd3c-d1dcfd742aaf",
   "metadata": {},
   "outputs": [],
   "source": [
    "df_empty = ds[0:0]\n",
    "df_empty"
   ]
  },
  {
   "cell_type": "raw",
   "id": "c416f9c5-3956-4309-af96-6e7c77e0c8b7",
   "metadata": {},
   "source": [
    "Undersample 2 class"
   ]
  },
  {
   "cell_type": "code",
   "execution_count": null,
   "id": "b31d10cc-7b62-455d-be2e-8815d6730388",
   "metadata": {},
   "outputs": [],
   "source": [
    "uniq_lemma_2 = np.unique(ds.loc[ds['stress'] == 2]['lemma'])\n",
    "len(uniq_lemma_2)"
   ]
  },
  {
   "cell_type": "code",
   "execution_count": null,
   "id": "0f4fb2d5-742f-47a1-943f-66c6d79a2dbf",
   "metadata": {},
   "outputs": [],
   "source": [
    "nds_2 = df_empty"
   ]
  },
  {
   "cell_type": "code",
   "execution_count": null,
   "id": "56e07be7-c9a8-4fad-ab5e-a81e81205a7e",
   "metadata": {},
   "outputs": [],
   "source": [
    "for uniq_lemma in uniq_lemma_2:\n",
    "    one_uniq_lemmas_word = ds.loc[(ds['lemma'] == uniq_lemma) & (ds['stress'] == 2)].sample(1)\n",
    "    nds_2 = pd.concat([nds_2, one_uniq_lemmas_word], ignore_index=True, axis=0)\n",
    "nds_2.reset_index(drop=True)"
   ]
  },
  {
   "cell_type": "raw",
   "id": "c7a0f05c-e419-4bd2-8aef-5376a56450fc",
   "metadata": {},
   "source": [
    "Undersample 3 class"
   ]
  },
  {
   "cell_type": "code",
   "execution_count": null,
   "id": "9811041c-fee1-4be1-97cd-a872af814202",
   "metadata": {},
   "outputs": [],
   "source": [
    "uniq_lemma_3 = np.unique(ds.loc[ds['stress'] == 3]['lemma'])\n",
    "len(uniq_lemma_3)"
   ]
  },
  {
   "cell_type": "code",
   "execution_count": null,
   "id": "13e28bcd-add4-490e-8ae7-4eb2cfb44a42",
   "metadata": {},
   "outputs": [],
   "source": [
    "nds_3 = df_empty"
   ]
  },
  {
   "cell_type": "code",
   "execution_count": null,
   "id": "a6dc7c11-44a2-47ff-8a07-085e5538f2a8",
   "metadata": {},
   "outputs": [],
   "source": [
    "for uniq_lemma in uniq_lemma_3:\n",
    "    one_uniq_lemmas_word = ds.loc[(ds['lemma'] == uniq_lemma) & (ds['stress'] == 3)].sample(1)\n",
    "    nds_3 = pd.concat([nds_3, one_uniq_lemmas_word], ignore_index=True, axis=0)\n",
    "nds_3.reset_index(drop=True)"
   ]
  },
  {
   "cell_type": "markdown",
   "id": "d880993e-2b88-4316-a8b7-3d97a1ed70c4",
   "metadata": {},
   "source": [
    "## Create a 1 class datas"
   ]
  },
  {
   "cell_type": "code",
   "execution_count": null,
   "id": "0d97eb8d-a949-4cdb-8369-083e69593e6d",
   "metadata": {},
   "outputs": [],
   "source": [
    "uniq_lemma_1 = np.unique(ds.loc[ds['stress'] == 1]['lemma'])\n",
    "len(uniq_lemma_1)"
   ]
  },
  {
   "cell_type": "raw",
   "id": "e3ca432e-05a8-401a-b5ce-b831311ffb3d",
   "metadata": {},
   "source": [
    "Берем по 2 примера 1 класса для колличества"
   ]
  },
  {
   "cell_type": "code",
   "execution_count": null,
   "id": "7b182ca9-50a3-4739-9c66-6cc4e122e687",
   "metadata": {},
   "outputs": [],
   "source": [
    "nds_1 = df_empty"
   ]
  },
  {
   "cell_type": "code",
   "execution_count": null,
   "id": "ac43b56e-bb54-4d1f-bd00-a6b85c9e2793",
   "metadata": {},
   "outputs": [],
   "source": [
    "for uniq_lemma in uniq_lemma_1:\n",
    "    try:\n",
    "        one_uniq_lemmas_word = ds.loc[(ds['lemma'] == uniq_lemma) & (ds['stress'] == 1)].sample(2)\n",
    "    except ValueError:\n",
    "        one_uniq_lemmas_word = ds.loc[(ds['lemma'] == uniq_lemma) & (ds['stress'] == 1)].sample(1)\n",
    "    nds_1 = pd.concat([nds_1, one_uniq_lemmas_word], ignore_index=True, axis=0)\n",
    "nds_1.reset_index(drop=True)"
   ]
  },
  {
   "cell_type": "raw",
   "id": "9fbbaed0-0121-45c8-b208-71b7bfbb1233",
   "metadata": {},
   "source": [
    "words_with_1_s = ds.loc[ds['stress'] == 1].reset_index(drop=True)"
   ]
  },
  {
   "cell_type": "markdown",
   "id": "6cfbafa9-c509-4eed-9e2f-b7e6b07f1f1c",
   "metadata": {},
   "source": [
    "## Create new DS with 1 and new 2 and 3 classes"
   ]
  },
  {
   "cell_type": "code",
   "execution_count": null,
   "id": "71aee6b0-04d4-48d7-8fc0-d5b4b361feda",
   "metadata": {},
   "outputs": [],
   "source": [
    "nds = pd.concat([nds_1, nds_2, nds_3], ignore_index=True, axis=0)\n",
    "nds = nds.reset_index(drop=True)"
   ]
  },
  {
   "cell_type": "markdown",
   "id": "88e775ee-3a20-4a17-a1ff-560b085b7b0f",
   "metadata": {},
   "source": [
    "## Oversampling"
   ]
  },
  {
   "cell_type": "code",
   "execution_count": null,
   "id": "2138910f-cb94-4c0f-9515-799ece66f4de",
   "metadata": {},
   "outputs": [],
   "source": [
    "words_with_4_s = ds.loc[ds['stress'] == 4].reset_index(drop=True)\n",
    "for _ in range(0, int(10000/len(words_with_4_s))):\n",
    "    nds = pd.concat([nds, words_with_4_s], ignore_index=True, axis=0)\n",
    "    nds.reset_index(drop=True)"
   ]
  },
  {
   "cell_type": "code",
   "execution_count": null,
   "id": "e0def568-19c7-49db-b9c9-2d009703a04f",
   "metadata": {},
   "outputs": [],
   "source": [
    "words_with_5_s = ds.loc[ds['stress'] == 5].reset_index(drop=True)"
   ]
  },
  {
   "cell_type": "code",
   "execution_count": null,
   "id": "e6e94245-a2dc-4b04-bb27-4350c473c49c",
   "metadata": {},
   "outputs": [],
   "source": [
    "words_with_6_s = ds.loc[ds['stress'] == 6].reset_index(drop=True)"
   ]
  },
  {
   "cell_type": "code",
   "execution_count": null,
   "id": "c6c752c0-2f57-431d-a28c-5dbb5b2c00c6",
   "metadata": {},
   "outputs": [],
   "source": [
    "nds = pd.concat([nds, words_with_5_s, words_with_6_s], ignore_index=True, axis=0)\n",
    "nds = nds.reset_index(drop=True)"
   ]
  },
  {
   "cell_type": "code",
   "execution_count": null,
   "id": "b9633c25-54eb-43d9-8439-77531af31c58",
   "metadata": {},
   "outputs": [],
   "source": [
    "words_with_5_s = ds.loc[ds['stress'] == 5].reset_index(drop=True)\n",
    "for _ in range(0, int(10000/len(words_with_5_s))):\n",
    "    nds = pd.concat([nds, words_with_5_s], ignore_index=True, axis=0)\n",
    "    nds.reset_index(drop=True)"
   ]
  },
  {
   "cell_type": "code",
   "execution_count": null,
   "id": "53868307-7d5f-486e-8610-11eefa4f1753",
   "metadata": {},
   "outputs": [],
   "source": [
    "words_with_6_s = ds.loc[ds['stress'] == 6].reset_index(drop=True)\n",
    "for _ in range(0, int(10000/len(words_with_6_s))):\n",
    "    nds = pd.concat([nds, words_with_6_s], ignore_index=True, axis=0)\n",
    "    nds.reset_index(drop=True)"
   ]
  },
  {
   "cell_type": "code",
   "execution_count": null,
   "id": "72641764-47af-4393-8f27-8d85cb52cd7b",
   "metadata": {},
   "outputs": [],
   "source": [
    "sns.histplot(data = {\"stress\": nds['stress']}, \n",
    "             kde=True)"
   ]
  },
  {
   "cell_type": "code",
   "execution_count": null,
   "id": "afa8e9e2-c0bd-4b2c-adaa-b6855a4ccfdd",
   "metadata": {},
   "outputs": [],
   "source": [
    "sns.histplot(data = {\"words_lenght\": nds['words_lenght']}, \n",
    "             kde=True)"
   ]
  },
  {
   "cell_type": "code",
   "execution_count": null,
   "id": "05a66e52-dbdd-4def-b940-21b2ae0f38eb",
   "metadata": {},
   "outputs": [],
   "source": [
    "nds.loc[nds['words_lenght'] == 13]"
   ]
  },
  {
   "cell_type": "markdown",
   "id": "e7604dd1-8e29-4d5c-b10c-efc310968d70",
   "metadata": {
    "jp-MarkdownHeadingCollapsed": true
   },
   "source": [
    "### Old experiments"
   ]
  },
  {
   "cell_type": "raw",
   "id": "46e7ad5f-f217-4f8d-9f80-bfc6b21f2c93",
   "metadata": {},
   "source": [
    "Было принято опасное решение удалить эти данные, так как их крайне мало"
   ]
  },
  {
   "cell_type": "raw",
   "id": "3b0a4b13-c60d-4822-9913-c4a0bff3c500",
   "metadata": {},
   "source": [
    "ds = ds.drop(index=bad_words_4.index, axis=1)"
   ]
  },
  {
   "cell_type": "raw",
   "id": "4256512c-0882-4fb4-bd26-2a3c6a091309",
   "metadata": {},
   "source": [
    "ds = ds.drop(index=bad_words_5.index, axis=1)"
   ]
  },
  {
   "cell_type": "raw",
   "id": "b6f0d3e8-928b-40f9-a1b3-07512fb8d03a",
   "metadata": {},
   "source": [
    "ds = ds.drop(index=bad_words_6.index, axis=1)"
   ]
  },
  {
   "cell_type": "raw",
   "id": "ad233a6a-12bb-40db-a78d-040b7f813232",
   "metadata": {},
   "source": [
    "words_with_1_s = ds.loc[ds['stress'] == 1]\n",
    "ds = pd.concat([ds, words_with_1_s.sample(int(15000 - len(words_with_1_s)))], ignore_index=True, axis=0)\n",
    "ds.reset_index(drop=True)"
   ]
  },
  {
   "cell_type": "raw",
   "id": "68fad727-01af-41f0-a12c-04a5cda41754",
   "metadata": {},
   "source": [
    "Удалим случайные слова из многочисленных случаев"
   ]
  },
  {
   "cell_type": "raw",
   "id": "66e786c1-4f5d-4075-9626-376c8f2a9ccf",
   "metadata": {},
   "source": [
    "words_with_2_s = ds.loc[ds['stress'] == 2]\n",
    "ids = words_with_2_s.sample(int(m.sqrt((len(words_with_2_s) - 15000)**2))).index\n",
    "ds = ds.drop(index=ids, axis=1)\n",
    "ds.reset_index(drop=True)"
   ]
  },
  {
   "cell_type": "raw",
   "id": "f68cb034-2448-4934-8da9-e5ea8f5e4ff1",
   "metadata": {},
   "source": [
    "words_with_3_s = ds.loc[ds['stress'] == 3]\n",
    "ids = words_with_3_s.sample(int(m.sqrt((len(words_with_3_s) - 15000)**2))).index\n",
    "ds = ds.drop(index=ids, axis=1)\n",
    "ds.reset_index(drop=True)"
   ]
  },
  {
   "cell_type": "raw",
   "id": "a2dcb818-0736-4132-bf0e-dd38d2db804a",
   "metadata": {},
   "source": [
    "words_with_4_s = ds.loc[ds['stress'] == 4]\n",
    "ids = words_with_4_s.sample(int(m.sqrt((len(words_with_4_s) - 15000)**2))).index\n",
    "ds = ds.drop(index=ids, axis=1)\n",
    "ds.reset_index(drop=True)"
   ]
  },
  {
   "cell_type": "code",
   "execution_count": null,
   "id": "c2f16778-fc83-4c23-a427-20558d782dcc",
   "metadata": {},
   "outputs": [],
   "source": []
  },
  {
   "cell_type": "raw",
   "id": "db18f118-8990-41df-a12f-987c676b0b20",
   "metadata": {},
   "source": [
    "sns.histplot(data = {\"stress\": ds['stress']}, \n",
    "             kde=True)"
   ]
  },
  {
   "cell_type": "code",
   "execution_count": null,
   "id": "950a9a01-d89a-4149-abbc-a4441174f29d",
   "metadata": {},
   "outputs": [],
   "source": []
  },
  {
   "cell_type": "raw",
   "id": "6e2fd780-5790-42a1-9ac3-105074783e85",
   "metadata": {},
   "source": [
    "ds = ds.drop(index=three_letters_words.index, axis=1)"
   ]
  },
  {
   "cell_type": "raw",
   "id": "6eca3d4a-ea3b-4d5d-9649-04102be56068",
   "metadata": {},
   "source": [
    "pd.set_option('display.max_rows', 5)"
   ]
  },
  {
   "cell_type": "raw",
   "id": "f1c107f7-46ca-458b-883f-004acbcd58dc",
   "metadata": {},
   "source": [
    "ds.loc[ds['num_syllables'] == 2]"
   ]
  },
  {
   "cell_type": "raw",
   "id": "6faed54f-1bc7-4f12-a62f-015add7aca0d",
   "metadata": {},
   "source": [
    "ds.sample(5)"
   ]
  },
  {
   "cell_type": "markdown",
   "id": "8ac89a45-93ae-4a39-86ab-a34e7fa7a91d",
   "metadata": {},
   "source": [
    "# Токенизируем слово и лемму"
   ]
  },
  {
   "cell_type": "code",
   "execution_count": null,
   "id": "b8c8c6f1-5224-4f10-8996-16ea6dedddc4",
   "metadata": {},
   "outputs": [],
   "source": [
    "nds = pd.concat([nds, nds], ignore_index=True, axis=0)\n",
    "ds = nds.reset_index(drop=True)"
   ]
  },
  {
   "cell_type": "raw",
   "id": "76c4afc5-944f-4d8b-a07b-f5f3d359f37a",
   "metadata": {},
   "source": [
    "ds = nds"
   ]
  },
  {
   "cell_type": "raw",
   "id": "8c76269d-b769-424b-89f0-8b685bb312cc",
   "metadata": {},
   "source": [
    "# Tokenize words\n",
    "for id_ in ds['id']:\n",
    "    word = ds.loc[ds['id'] == 8288]['word'].name\n",
    "    word_len = len(word)\n",
    "    for i in range(0, max_words_lenght):\n",
    "        ds[]\n",
    "        \n",
    "        \n",
    "    "
   ]
  },
  {
   "cell_type": "code",
   "execution_count": null,
   "id": "afa16ff6-65c7-42e7-8b74-92ed469cbd96",
   "metadata": {
    "scrolled": true
   },
   "outputs": [],
   "source": [
    "letter_list = ['а', 'б', 'в', 'г', 'д', 'е', 'ё', 'ж', 'з', 'и', 'й', 'к', 'л', 'м', 'н', 'о', 'п', 'р', 'с', 'т', 'у', 'ф', 'х', 'ц', 'ч', 'ш', 'щ', 'ъ', 'ы', 'ь', 'э', 'ю', 'я']\n",
    "letter_by_number = {}\n",
    "i = 1\n",
    "for letter in letter_list:\n",
    "    letter_by_number[letter] = i\n",
    "    i+=1\n",
    "letter_by_number"
   ]
  },
  {
   "cell_type": "code",
   "execution_count": null,
   "id": "71b690c9-96be-4457-a9eb-982cf9c1ec56",
   "metadata": {},
   "outputs": [],
   "source": [
    "len(letter_by_number)"
   ]
  },
  {
   "cell_type": "raw",
   "id": "9d85d181-c4f9-430a-8185-b4dc434ada8e",
   "metadata": {},
   "source": [
    "ds.loc[ds['id'] == 0, 'word'] = 'румЯной'"
   ]
  },
  {
   "cell_type": "raw",
   "id": "b356004c-4b4c-47e9-97d8-a5611b6febff",
   "metadata": {},
   "source": [
    "ds.loc[ds['id'] == 0]"
   ]
  },
  {
   "cell_type": "raw",
   "id": "58ea186f-e05a-48de-bde7-7b1afac3c8de",
   "metadata": {},
   "source": [
    "# Добавим еще указатель на то глассная ли это буква (1) или нет"
   ]
  },
  {
   "cell_type": "code",
   "execution_count": null,
   "id": "77d279d0-a1d4-4bcc-b2f2-c5c8b603d4c9",
   "metadata": {},
   "outputs": [],
   "source": [
    "# Tokenize words\n",
    "for i in range(0, max_words_lenght):\n",
    "    ds[f'wl{i+1}'] = [(letter_by_number[word[i]] if len(word) > i else 0) for word in ds['word']]\n",
    "    # is letter vowel?\n",
    "    # ds[f'is_wl_v{i+1}'] = [(1 if (len(word) > i and word[i] in vowels) else 0) for word in ds['word']]\n",
    "    # # How many vowels in the word?\n",
    "    # i = 0\n",
    "    # num_lemmas_syllables = 0\n",
    "    # for id_ in ds['id']:\n",
    "    #     word = ds.loc[ds['id'] == id_]['word']\n",
    "    #     for letter in word:\n",
    "    #         if letter in vowels:\n",
    "    #             num_lemmas_syllables += 1\n",
    "    #     ds.loc[ds['id'] == id_, 'num_lemmas_syllables'] = num_lemmas_syllables"
   ]
  },
  {
   "cell_type": "raw",
   "id": "5f5875e7-2b14-4ba2-9711-ee47ea5bd060",
   "metadata": {},
   "source": [
    "# Tokenize lemms\n",
    "for i in range(0, max_lemms_lenght):\n",
    "    ds[f'll{i+1}'] = [(letter_by_number[lemma[i]] if len(lemma) > i else 0) for lemma in ds['lemma']]\n",
    "    # is letter vowel?\n",
    "    ds[f'is_ll_v{i+1}'] = [(1 if (len(lemma) > i and lemma[i] in vowels) else 0) for lemma in ds['lemma']]"
   ]
  },
  {
   "cell_type": "raw",
   "id": "b291e51e-7e41-41ea-8bd4-cd089e89dc0a",
   "metadata": {},
   "source": [
    "ds.loc[ds['wl20'] != 0]"
   ]
  },
  {
   "cell_type": "raw",
   "id": "83f2a1cd-db63-4801-97ef-61732783a537",
   "metadata": {},
   "source": [
    "from sklearn import preprocessing \n",
    "\n",
    "label_encoder = preprocessing.LabelEncoder() \n",
    "  \n",
    "# Encode labels in column 'species'. \n",
    "df['species']= label_encoder.fit_transform(df['species']) "
   ]
  },
  {
   "cell_type": "raw",
   "id": "ec235daf-5f83-4478-9c21-7c8487f687d1",
   "metadata": {},
   "source": [
    "ds.replace({'fruit': {'banana': -1, 'apple': 1}, 'color': {'yellow': -1, 'red': 1}},inplace=True)"
   ]
  },
  {
   "cell_type": "raw",
   "id": "9a59d654-1738-469e-ac2c-aac225d2b5ce",
   "metadata": {},
   "source": [
    "Для колонок:\n",
    "pd.set_option('display.max_columns', None)\n",
    "Для строк:\n",
    "pd.set_option('display.max_rows', None)"
   ]
  },
  {
   "cell_type": "code",
   "execution_count": null,
   "id": "cbe1ba3d-19e5-40a2-9033-cd1d71d7cd8d",
   "metadata": {},
   "outputs": [],
   "source": [
    "# pd.set_option('display.max_columns', None)\n",
    "ds.sample(3)"
   ]
  },
  {
   "cell_type": "raw",
   "id": "d2d7b177-56a4-4e38-b1fa-29b11c729917",
   "metadata": {},
   "source": [
    "ds.loc[ds['is_ll_v20'] != 0]"
   ]
  },
  {
   "cell_type": "code",
   "execution_count": null,
   "id": "f4b1c406-49ed-4578-a7e2-65deb1675f20",
   "metadata": {
    "scrolled": true
   },
   "outputs": [],
   "source": [
    "# pd.set_option('display.max_columns', None)\n",
    "ds.drop(['word', 'lemma'], axis=1).corr()"
   ]
  },
  {
   "cell_type": "code",
   "execution_count": null,
   "id": "e06d3860-5aab-45bc-8c63-97f6a1422e55",
   "metadata": {
    "scrolled": true
   },
   "outputs": [],
   "source": [
    "ds.drop(['word', 'lemma', 'words_lenght', 'lemmas_lenght'], axis=1).corr()['stress'].to_list()"
   ]
  },
  {
   "cell_type": "markdown",
   "id": "0e664a51-9e4b-48ec-bdc3-b8201c7fcd80",
   "metadata": {},
   "source": [
    "# Prepare data"
   ]
  },
  {
   "cell_type": "code",
   "execution_count": null,
   "id": "45f80d9f-ecf8-474e-aa4b-6668c27229b1",
   "metadata": {},
   "outputs": [],
   "source": [
    "from tensorflow.keras.layers import Dense, Input, Dropout, BatchNormalization, LeakyReLU, Conv1D, MaxPooling1D, Embedding, Flatten\n",
    "import tensorflow as tf\n",
    "from tensorflow.keras import Sequential\n",
    "from sklearn.preprocessing import LabelEncoder, MinMaxScaler\n",
    "from sklearn.metrics import accuracy_score\n",
    "from sklearn.metrics import mean_squared_error, mean_absolute_error, r2_score\n",
    "\n",
    "from matplotlib import pyplot as plt\n",
    "import seaborn as sns\n",
    "\n",
    "%matplotlib inline"
   ]
  },
  {
   "cell_type": "code",
   "execution_count": null,
   "id": "3451e9a1-9200-45ba-9757-3fb85aeec0ce",
   "metadata": {},
   "outputs": [],
   "source": [
    "# ds_ = ds.drop(['id', 'word', 'lemma', 'words_lenght', 'lemmas_lenght'], axis=1)\n",
    "ds_ = ds.drop(['word', 'lemma'], axis=1)\n",
    "# ds_ = nds.drop(['word', 'lemma'], axis=1)"
   ]
  },
  {
   "cell_type": "code",
   "execution_count": null,
   "id": "52196729-fbbb-4bc4-a54c-7aa8c21c2f2c",
   "metadata": {},
   "outputs": [],
   "source": [
    "from sklearn.utils import shuffle\n",
    "ds_ = shuffle(ds_)"
   ]
  },
  {
   "cell_type": "code",
   "execution_count": null,
   "id": "0d4e3cb6-8adb-47ca-8779-dc0ae25329dc",
   "metadata": {},
   "outputs": [],
   "source": [
    "# X, y = df.values[:, :-1], df.values[:, -1]\n",
    "X = ds_.drop(['stress', 'num_syllables', 'words_lenght', 'lemmas_lenght'], axis=1)\n",
    "# y = ds_['stress']"
   ]
  },
  {
   "cell_type": "code",
   "execution_count": null,
   "id": "6d63eb02-d104-40ef-8e38-09d0b1ef0243",
   "metadata": {},
   "outputs": [],
   "source": [
    "from sklearn.preprocessing import OneHotEncoder\n",
    "encoder = OneHotEncoder(handle_unknown='ignore')\n",
    "y = pd.DataFrame(encoder.fit_transform(ds_[['stress']]).toarray())\n",
    "# y = pd.DataFrame(ds_[['stress']])"
   ]
  },
  {
   "cell_type": "code",
   "execution_count": null,
   "id": "6b81a7b4-9647-4e6f-8d68-625a6ef2ef3c",
   "metadata": {},
   "outputs": [],
   "source": [
    "# Получение весов классов\n",
    "class_weights = compute_class_weight('balanced', classes=np.unique(ds_['stress']), y=ds_['stress'])\n",
    "class_weights"
   ]
  },
  {
   "cell_type": "code",
   "execution_count": null,
   "id": "cf767577-f9e8-4aac-b7d6-b1bff176a6eb",
   "metadata": {},
   "outputs": [],
   "source": [
    "i = 0\n",
    "class_weights_dict = {}\n",
    "for e in class_weights:\n",
    "    class_weights_dict[e] = e\n",
    "    i+=1"
   ]
  },
  {
   "cell_type": "code",
   "execution_count": null,
   "id": "97539bbb-eb21-4973-8ebf-292fa5d6b0c9",
   "metadata": {},
   "outputs": [],
   "source": [
    "from sklearn.model_selection import train_test_split\n",
    "X_train, X_test, y_train, y_test = train_test_split(X, y, test_size = 0.1, shuffle=True)"
   ]
  },
  {
   "cell_type": "code",
   "execution_count": null,
   "id": "083ed451-1e72-4a16-b163-2fd587bc75cd",
   "metadata": {},
   "outputs": [],
   "source": [
    "pd.set_option('display.max_columns', None)\n",
    "X_train"
   ]
  },
  {
   "cell_type": "code",
   "execution_count": null,
   "id": "4179cc7e-9b47-4d8e-b3a0-849f4e402839",
   "metadata": {},
   "outputs": [],
   "source": [
    "y_train"
   ]
  },
  {
   "cell_type": "code",
   "execution_count": null,
   "id": "b0f58b77-afc6-466d-b39c-37d0b76075ee",
   "metadata": {},
   "outputs": [],
   "source": [
    "# Нормализуем данные\n",
    "scaler = MinMaxScaler()\n",
    "X_train = scaler.fit_transform(X_train)\n",
    "X_test = scaler.transform(X_test)\n",
    "# NN_normalizators.append(scaler) "
   ]
  },
  {
   "cell_type": "raw",
   "id": "6ccdd459-e48a-4ce7-80db-021520f32d15",
   "metadata": {},
   "source": [
    "X_train[0]"
   ]
  },
  {
   "cell_type": "code",
   "execution_count": null,
   "id": "cb71aa92-0eba-4dfe-ac1a-a5a5fe7b02c6",
   "metadata": {},
   "outputs": [],
   "source": [
    "n_futures = len(X.columns)\n",
    "n_futures"
   ]
  },
  {
   "cell_type": "markdown",
   "id": "08f02c5c-33f8-4047-8d4c-de5c26651358",
   "metadata": {},
   "source": [
    "# Trying Ansables"
   ]
  },
  {
   "cell_type": "raw",
   "id": "5e0257fd-35f2-4b88-9e82-4daaaba251f6",
   "metadata": {},
   "source": [
    "from sklearn.tree import DecisionTreeClassifier\n",
    "from sklearn.ensemble import AdaBoostClassifier"
   ]
  },
  {
   "cell_type": "raw",
   "id": "9f57f217-38bc-49d1-8ea1-118f76ba6828",
   "metadata": {},
   "source": [
    "# Create base classifier decision tree\n",
    "tree = DecisionTreeClassifier(criterion='entropy', \n",
    "                              max_depth=20,\n",
    "                              max_leaf_nodes=10,\n",
    "                              # random_state=1\n",
    "                             )\n",
    "                              "
   ]
  },
  {
   "cell_type": "raw",
   "id": "2ce0bf7d-2e2a-406f-bc46-77f713be98e1",
   "metadata": {},
   "source": [
    "weak_learner = DecisionTreeClassifier(max_leaf_nodes=8, )\n",
    "n_estimators = 300"
   ]
  },
  {
   "cell_type": "raw",
   "id": "cf57a47a-5343-46bb-bdf7-38f90b8e7b1a",
   "metadata": {},
   "source": [
    "# Create AdaBoost classifier\n",
    "ada = AdaBoostClassifier(estimator=tree,  # base_estimator in old version\n",
    "                         n_estimators=500, \n",
    "                         learning_rate=0.1,\n",
    "                         random_state=1)"
   ]
  },
  {
   "cell_type": "raw",
   "id": "7589eb14-f77b-4b64-b401-b849ae5f4e88",
   "metadata": {},
   "source": [
    "ada = AdaBoostClassifier(estimator=tree,\n",
    "                         n_estimators=500,\n",
    "                         algorithm=\"SAMME\",\n",
    "                         learning_rate=0.1,\n",
    "                         random_state=1,\n",
    "                        ).fit(X_train, y_train['stress'])"
   ]
  },
  {
   "cell_type": "raw",
   "id": "b84ea419-3bb9-431e-a3e8-98c7a8fede97",
   "metadata": {},
   "source": [
    "y_train_pred = ada.predict(X_train)\n",
    "y_test_pred = ada.predict(X_test)\n",
    "\n",
    "ada_train = accuracy_score(y_train, y_train_pred) \n",
    "ada_test = accuracy_score(y_test, y_test_pred) "
   ]
  },
  {
   "cell_type": "raw",
   "id": "0e4851f5-6113-46dd-9593-1729bf35add8",
   "metadata": {},
   "source": [
    "ada_test = accuracy_score(y_test, y_test_pred) \n",
    "print('Decision AdaBoost train/test %.3f/%.3f'\n",
    "      % (ada_train, ada_test))"
   ]
  },
  {
   "cell_type": "raw",
   "id": "d4bf164b-8c4f-4e1b-ab0b-8601a08e931d",
   "metadata": {},
   "source": [
    "# Train simple tree classifier\n",
    "\n",
    "tree = tree.fit(X_train, y_train)\n",
    "y_train_pred = tree.predict(X_train)\n",
    "y_test_pred = tree.predict(X_test)\n",
    "\n",
    "tree_train = accuracy_score(y_train, y_train_pred)\n",
    "tree_test = accuracy_score(y_test, y_test_pred)\n",
    "print('Decision tree train/test accuracies %.3f/%.3f'\n",
    "      % (tree_train, tree_test))"
   ]
  },
  {
   "cell_type": "raw",
   "id": "0fcf5ec1-0d02-4a49-9211-afca5a11234f",
   "metadata": {},
   "source": [
    "# Train AdaBoost classifier\n",
    "\n",
    "ada = ada.fit(X_train, y_train.values.ravel())\n",
    "y_train_pred = ada.predict(X_train)\n",
    "y_test_pred = ada.predict(X_test)\n",
    "\n",
    "ada_train = accuracy_score(y_train, y_train_pred) \n",
    "ada_test = accuracy_score(y_test, y_test_pred) \n",
    "print('Decision AdaBoost train/test %.3f/%.3f'\n",
    "      % (ada_train, ada_test))"
   ]
  },
  {
   "cell_type": "markdown",
   "id": "8d5dad31-209c-4f06-8990-28340dd05ac3",
   "metadata": {},
   "source": [
    "# Trying AI"
   ]
  },
  {
   "cell_type": "code",
   "execution_count": null,
   "id": "f8348d01-50f1-459d-8e76-4af92a875b33",
   "metadata": {},
   "outputs": [],
   "source": [
    "def get_model():\n",
    "    # Create a model\n",
    "    model = Sequential()\n",
    "    \n",
    "    # model.add(BatchNormalization())\n",
    "    \n",
    "    # Add input layer\n",
    "    # model.add(Dense(83, activation='softmax', input_shape = (n_futures,) ))\n",
    "    # model.add(Dense(100, activation='relu', input_shape = (n_futures,) ))\n",
    "    model.add(Embedding(input_dim=n_futures*2, output_dim=40))\n",
    "    \n",
    "    # model.add(Dropout(0.1))\n",
    "    # model.add(Dense(100, activation='relu'))\n",
    "    \n",
    "    model.add(Dropout(0.1))\n",
    "    # model.add(Dropout(0.25))\n",
    "    \n",
    "    model.add(BatchNormalization())\n",
    "    # model.add(Conv1D(filters=20 , kernel_size=4, strides=1, padding='same', activation='relu'))\n",
    "    model.add(Conv1D(filters=20, kernel_size=10, strides=1, padding='same', activation='elu'))\n",
    "    # model.add(MaxPooling1D(2))\n",
    "    model.add(MaxPooling1D(1))\n",
    "    \n",
    "    # model.add(Dense(100, activation='relu', input_shape = (n_futures,) ))\n",
    "    \n",
    "    model.add(Dense(200, activation='relu'))\n",
    "    model.add(Dropout(0.1))\n",
    "    # model.add(Dense(100, activation='relu'))\n",
    "    # model.add(Dropout(0.1))\n",
    "    # model.add(Dense(100, activation='relu'))\n",
    "    \n",
    "    # model.add(Conv1D(filters=20 , kernel_size=4, strides=1, padding='same', activation='relu'))\n",
    "    # model.add(MaxPooling1D(2))\n",
    "    # model.add(Dense(100, activation='relu'))\n",
    "    \n",
    "    # model.add(Dropout(0.2))\n",
    "    \n",
    "    model.add(BatchNormalization())\n",
    "    \n",
    "    model.add(Flatten())\n",
    "    \n",
    "    # output layer\n",
    "    model.add(Dense(6, activation='softmax'))\n",
    "    \n",
    "    # Compile the model\n",
    "    model.compile(optimizer=tf.keras.optimizers.Adam(learning_rate=0.001),\n",
    "                  # optimizer='adam', \n",
    "                  # optimizer='rmsprop',\n",
    "                  loss='categorical_crossentropy', \n",
    "                  metrics=['accuracy'],\n",
    "                 )\n",
    "    return model"
   ]
  },
  {
   "cell_type": "code",
   "execution_count": null,
   "id": "a783d855-42a4-4001-83fd-e8d151c38af5",
   "metadata": {},
   "outputs": [],
   "source": [
    "# # # Compile\n",
    "\n",
    "# # model.compile(loss='mse',              \n",
    "# #               # optimizer=Adam(learning_rate=0.2), \n",
    "# #               # optimizer='adam',\n",
    "# #               optimizer=tf.keras.optimizers.Nadam(learning_rate=0.001),\n",
    "# #               # metrics=['mae'])\n",
    "# #               metrics=['mse'])\n",
    "\n",
    "model = get_model()\n",
    "print(model.summary()) # Выводим структуру сети\n",
    "# Train NN\n",
    "history=model.fit(X_train,\n",
    "                  y_train,\n",
    "                  batch_size=300,\n",
    "                  epochs=50,\n",
    "                  class_weight=class_weights_dict,\n",
    "                  # Подавляем вывол протоколов обучения.\n",
    "                  # verbose=0,\n",
    "                  # Используем 20% обучающих данных для валидации.\n",
    "                  # validation_split = 0.2)\n",
    "                 )\n",
    "\n"
   ]
  },
  {
   "cell_type": "code",
   "execution_count": null,
   "id": "b405ff11-e827-4b15-b055-b81f7f194b2e",
   "metadata": {},
   "outputs": [],
   "source": [
    "plt.plot(history.history['accuracy'])\n",
    "# plt.plot(history.history['hindle'])\n",
    "plt.show()"
   ]
  },
  {
   "cell_type": "raw",
   "id": "fa223a1f-74e5-43ef-a741-970cb8003984",
   "metadata": {},
   "source": [
    "test_predictions = model.predict(X_test)"
   ]
  },
  {
   "cell_type": "raw",
   "id": "fa03c34b-1ec7-4c6e-8a07-97b90ddce0dc",
   "metadata": {},
   "source": [
    "accuracy_score(y_test, test_predictions.flatten()) \n",
    "# print('Decision AdaBoost train/test %.3f/%.3f'\n",
    "#       % (ada_train, ada_test))\n"
   ]
  },
  {
   "cell_type": "raw",
   "id": "8b4abfa6-cefd-4b25-83c0-5d213ab80356",
   "metadata": {},
   "source": [
    "test_predictions = model.predict(X_test).flatten()\n",
    "\n",
    "a = plt.axes(aspect='equal')\n",
    "plt.scatter(y_test, test_predictions)\n",
    "plt.xlabel('Истинные значения')\n",
    "plt.ylabel('Предсказанные значения')\n",
    "lims = [0, 10]\n",
    "plt.xlim(lims)\n",
    "plt.ylim(lims)\n",
    "_ = plt.plot(lims, lims)\n",
    "plt.show()"
   ]
  },
  {
   "cell_type": "raw",
   "id": "c2e4d67a-d4c9-453f-a1df-b5b4b1edf3ea",
   "metadata": {},
   "source": [
    "from sklearn.metrics import roc_curve"
   ]
  },
  {
   "cell_type": "raw",
   "id": "f71d2428-5f0f-4470-ba7e-3fea313a11c2",
   "metadata": {},
   "source": [
    "sns.set(font_scale=1.5)\n",
    "sns.set_color_codes(\"muted\")\n",
    "\n",
    "plt.figure(figsize=(10, 8))\n",
    "# fpr, tpr, thresholds = roc_curve(y_test, lr.predict_proba(X_test)[:,1], pos_label=1)\n",
    "fpr, tpr, thresholds = roc_curve(y_test, model.predict(X_test)[:,1], pos_label=1)\n",
    "lw = 2\n",
    "plt.plot(fpr, tpr, lw=lw, label='ROC curve ')\n",
    "plt.plot([0, 1], [0, 1])\n",
    "plt.xlim([0.0, 1.0])\n",
    "plt.ylim([0.0, 1.05])\n",
    "plt.xlabel('False Positive Rate')\n",
    "plt.ylabel('True Positive Rate')\n",
    "plt.title('ROC curve')\n",
    "plt.savefig(\"ROC.png\")\n",
    "plt.show()"
   ]
  },
  {
   "cell_type": "code",
   "execution_count": null,
   "id": "edd7e733-31fa-4554-94e6-3075feb36b48",
   "metadata": {
    "scrolled": true
   },
   "outputs": [],
   "source": [
    "X"
   ]
  },
  {
   "cell_type": "raw",
   "id": "ecb525f6-7808-43fd-bf7f-80ada031de27",
   "metadata": {},
   "source": [
    "kf = KFold(n_splits=3, shuffle=True, random_state=1)\n",
    "\n",
    "train, test = zip(*kf.split(X))"
   ]
  },
  {
   "cell_type": "code",
   "execution_count": null,
   "id": "e66c9f0b-0852-407d-a159-1b8ff9b0e1d3",
   "metadata": {},
   "outputs": [],
   "source": [
    "from sklearn.model_selection import KFold\n",
    "\n",
    "kFold = KFold(5, shuffle=True, random_state=1)\n",
    "\n",
    "for train, test in kFold.split(X, y):\n",
    "    model = None\n",
    "    model = get_model()\n",
    "    # history = model.evaluate(X.iloc[train, :], y.iloc[train, :]) #, X.iloc[test, :], y.iloc[test, :])\n",
    "    history=model.fit(X.iloc[train, :],\n",
    "                      y.iloc[train, :],\n",
    "                      batch_size=300,\n",
    "                      epochs=50,\n",
    "                      class_weight=class_weights_dict,\n",
    "                      # Подавляем вывол протоколов обучения.\n",
    "                      # verbose=0,\n",
    "                      # Используем 20% обучающих данных для валидации.\n",
    "                      # validation_split = 0.2)\n",
    "                     )\n",
    "    plt.plot(history.history['accuracy'])\n",
    "    # plt.plot(history.history['hindle'])\n",
    "    plt.show()"
   ]
  }
 ],
 "metadata": {
  "kernelspec": {
   "display_name": "Python 3 (ipykernel)",
   "language": "python",
   "name": "python3"
  },
  "language_info": {
   "codemirror_mode": {
    "name": "ipython",
    "version": 3
   },
   "file_extension": ".py",
   "mimetype": "text/x-python",
   "name": "python",
   "nbconvert_exporter": "python",
   "pygments_lexer": "ipython3",
   "version": "3.10.12"
  }
 },
 "nbformat": 4,
 "nbformat_minor": 5
}
