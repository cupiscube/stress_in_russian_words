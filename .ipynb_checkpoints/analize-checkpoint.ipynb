{
 "cells": [
  {
   "cell_type": "code",
   "execution_count": 1,
   "id": "f52f641f-f550-41fc-9170-2e7219cf306f",
   "metadata": {},
   "outputs": [],
   "source": [
    "import pandas as pd\n",
    "import numpy as np\n",
    "import sklearn as sl\n",
    "import seaborn as sns\n",
    "\n",
    "import math as m"
   ]
  },
  {
   "cell_type": "code",
   "execution_count": 2,
   "id": "bfdd13cf-f43e-424b-ac02-a37917f3752b",
   "metadata": {},
   "outputs": [
    {
     "data": {
      "text/html": [
       "<div>\n",
       "<style scoped>\n",
       "    .dataframe tbody tr th:only-of-type {\n",
       "        vertical-align: middle;\n",
       "    }\n",
       "\n",
       "    .dataframe tbody tr th {\n",
       "        vertical-align: top;\n",
       "    }\n",
       "\n",
       "    .dataframe thead th {\n",
       "        text-align: right;\n",
       "    }\n",
       "</style>\n",
       "<table border=\"1\" class=\"dataframe\">\n",
       "  <thead>\n",
       "    <tr style=\"text-align: right;\">\n",
       "      <th></th>\n",
       "      <th>word</th>\n",
       "      <th>stress</th>\n",
       "      <th>num_syllables</th>\n",
       "      <th>lemma</th>\n",
       "    </tr>\n",
       "    <tr>\n",
       "      <th>id</th>\n",
       "      <th></th>\n",
       "      <th></th>\n",
       "      <th></th>\n",
       "      <th></th>\n",
       "    </tr>\n",
       "  </thead>\n",
       "  <tbody>\n",
       "    <tr>\n",
       "      <th>0</th>\n",
       "      <td>румяной</td>\n",
       "      <td>2</td>\n",
       "      <td>3</td>\n",
       "      <td>румяный</td>\n",
       "    </tr>\n",
       "    <tr>\n",
       "      <th>1</th>\n",
       "      <td>цифрами</td>\n",
       "      <td>1</td>\n",
       "      <td>3</td>\n",
       "      <td>цифра</td>\n",
       "    </tr>\n",
       "    <tr>\n",
       "      <th>2</th>\n",
       "      <td>слугами</td>\n",
       "      <td>1</td>\n",
       "      <td>3</td>\n",
       "      <td>слуга</td>\n",
       "    </tr>\n",
       "  </tbody>\n",
       "</table>\n",
       "</div>"
      ],
      "text/plain": [
       "       word  stress  num_syllables    lemma\n",
       "id                                         \n",
       "0   румяной       2              3  румяный\n",
       "1   цифрами       1              3    цифра\n",
       "2   слугами       1              3    слуга"
      ]
     },
     "execution_count": 2,
     "metadata": {},
     "output_type": "execute_result"
    }
   ],
   "source": [
    "ds = pd.read_csv('./data/train.csv', index_col='id')\n",
    "ds.head(3)"
   ]
  },
  {
   "cell_type": "code",
   "execution_count": 3,
   "id": "225b2a90-6bcc-428c-bef5-a81b2e672d7f",
   "metadata": {},
   "outputs": [
    {
     "data": {
      "text/html": [
       "<div>\n",
       "<style scoped>\n",
       "    .dataframe tbody tr th:only-of-type {\n",
       "        vertical-align: middle;\n",
       "    }\n",
       "\n",
       "    .dataframe tbody tr th {\n",
       "        vertical-align: top;\n",
       "    }\n",
       "\n",
       "    .dataframe thead th {\n",
       "        text-align: right;\n",
       "    }\n",
       "</style>\n",
       "<table border=\"1\" class=\"dataframe\">\n",
       "  <thead>\n",
       "    <tr style=\"text-align: right;\">\n",
       "      <th></th>\n",
       "      <th>stress</th>\n",
       "    </tr>\n",
       "    <tr>\n",
       "      <th>id</th>\n",
       "      <th></th>\n",
       "    </tr>\n",
       "  </thead>\n",
       "  <tbody>\n",
       "    <tr>\n",
       "      <th>0</th>\n",
       "      <td>1</td>\n",
       "    </tr>\n",
       "    <tr>\n",
       "      <th>1</th>\n",
       "      <td>1</td>\n",
       "    </tr>\n",
       "    <tr>\n",
       "      <th>2</th>\n",
       "      <td>1</td>\n",
       "    </tr>\n",
       "  </tbody>\n",
       "</table>\n",
       "</div>"
      ],
      "text/plain": [
       "    stress\n",
       "id        \n",
       "0        1\n",
       "1        1\n",
       "2        1"
      ]
     },
     "execution_count": 3,
     "metadata": {},
     "output_type": "execute_result"
    }
   ],
   "source": [
    "ds_ss = pd.read_csv('./data/sample_submission.csv', index_col='id')\n",
    "ds_ss.head(3)"
   ]
  },
  {
   "cell_type": "code",
   "execution_count": 4,
   "id": "bd1c8e1d-3e02-4f14-81b4-3d6842628b4b",
   "metadata": {},
   "outputs": [
    {
     "data": {
      "text/html": [
       "<div>\n",
       "<style scoped>\n",
       "    .dataframe tbody tr th:only-of-type {\n",
       "        vertical-align: middle;\n",
       "    }\n",
       "\n",
       "    .dataframe tbody tr th {\n",
       "        vertical-align: top;\n",
       "    }\n",
       "\n",
       "    .dataframe thead th {\n",
       "        text-align: right;\n",
       "    }\n",
       "</style>\n",
       "<table border=\"1\" class=\"dataframe\">\n",
       "  <thead>\n",
       "    <tr style=\"text-align: right;\">\n",
       "      <th></th>\n",
       "      <th>stress</th>\n",
       "    </tr>\n",
       "    <tr>\n",
       "      <th>id</th>\n",
       "      <th></th>\n",
       "    </tr>\n",
       "  </thead>\n",
       "  <tbody>\n",
       "  </tbody>\n",
       "</table>\n",
       "</div>"
      ],
      "text/plain": [
       "Empty DataFrame\n",
       "Columns: [stress]\n",
       "Index: []"
      ]
     },
     "execution_count": 4,
     "metadata": {},
     "output_type": "execute_result"
    }
   ],
   "source": [
    "ds_ss.loc[ds_ss['stress'] != 1]"
   ]
  },
  {
   "cell_type": "code",
   "execution_count": 5,
   "id": "2ba9c9de-7e5b-48da-9ae0-4e4cd9b06293",
   "metadata": {},
   "outputs": [
    {
     "data": {
      "text/html": [
       "<div>\n",
       "<style scoped>\n",
       "    .dataframe tbody tr th:only-of-type {\n",
       "        vertical-align: middle;\n",
       "    }\n",
       "\n",
       "    .dataframe tbody tr th {\n",
       "        vertical-align: top;\n",
       "    }\n",
       "\n",
       "    .dataframe thead th {\n",
       "        text-align: right;\n",
       "    }\n",
       "</style>\n",
       "<table border=\"1\" class=\"dataframe\">\n",
       "  <thead>\n",
       "    <tr style=\"text-align: right;\">\n",
       "      <th></th>\n",
       "      <th>word</th>\n",
       "      <th>num_syllables</th>\n",
       "      <th>lemma</th>\n",
       "    </tr>\n",
       "    <tr>\n",
       "      <th>id</th>\n",
       "      <th></th>\n",
       "      <th></th>\n",
       "      <th></th>\n",
       "    </tr>\n",
       "  </thead>\n",
       "  <tbody>\n",
       "    <tr>\n",
       "      <th>0</th>\n",
       "      <td>эпилепсия</td>\n",
       "      <td>5</td>\n",
       "      <td>эпилепсия</td>\n",
       "    </tr>\n",
       "    <tr>\n",
       "      <th>1</th>\n",
       "      <td>относящейся</td>\n",
       "      <td>5</td>\n",
       "      <td>относиться</td>\n",
       "    </tr>\n",
       "    <tr>\n",
       "      <th>2</th>\n",
       "      <td>размышлениями</td>\n",
       "      <td>6</td>\n",
       "      <td>размышление</td>\n",
       "    </tr>\n",
       "  </tbody>\n",
       "</table>\n",
       "</div>"
      ],
      "text/plain": [
       "             word  num_syllables        lemma\n",
       "id                                           \n",
       "0       эпилепсия              5    эпилепсия\n",
       "1     относящейся              5   относиться\n",
       "2   размышлениями              6  размышление"
      ]
     },
     "execution_count": 5,
     "metadata": {},
     "output_type": "execute_result"
    }
   ],
   "source": [
    "ds_test = pd.read_csv('./data/test.csv', index_col='id')\n",
    "ds_test.head(3)"
   ]
  },
  {
   "cell_type": "code",
   "execution_count": 6,
   "id": "abfc2a84-c601-4141-aec0-70cf960dc6fa",
   "metadata": {},
   "outputs": [
    {
     "data": {
      "text/html": [
       "<div>\n",
       "<style scoped>\n",
       "    .dataframe tbody tr th:only-of-type {\n",
       "        vertical-align: middle;\n",
       "    }\n",
       "\n",
       "    .dataframe tbody tr th {\n",
       "        vertical-align: top;\n",
       "    }\n",
       "\n",
       "    .dataframe thead th {\n",
       "        text-align: right;\n",
       "    }\n",
       "</style>\n",
       "<table border=\"1\" class=\"dataframe\">\n",
       "  <thead>\n",
       "    <tr style=\"text-align: right;\">\n",
       "      <th></th>\n",
       "      <th>num_syllables</th>\n",
       "    </tr>\n",
       "  </thead>\n",
       "  <tbody>\n",
       "    <tr>\n",
       "      <th>count</th>\n",
       "      <td>29960.000000</td>\n",
       "    </tr>\n",
       "    <tr>\n",
       "      <th>mean</th>\n",
       "      <td>3.482410</td>\n",
       "    </tr>\n",
       "    <tr>\n",
       "      <th>std</th>\n",
       "      <td>1.152522</td>\n",
       "    </tr>\n",
       "    <tr>\n",
       "      <th>min</th>\n",
       "      <td>1.000000</td>\n",
       "    </tr>\n",
       "    <tr>\n",
       "      <th>25%</th>\n",
       "      <td>3.000000</td>\n",
       "    </tr>\n",
       "    <tr>\n",
       "      <th>50%</th>\n",
       "      <td>3.000000</td>\n",
       "    </tr>\n",
       "    <tr>\n",
       "      <th>75%</th>\n",
       "      <td>4.000000</td>\n",
       "    </tr>\n",
       "    <tr>\n",
       "      <th>max</th>\n",
       "      <td>6.000000</td>\n",
       "    </tr>\n",
       "  </tbody>\n",
       "</table>\n",
       "</div>"
      ],
      "text/plain": [
       "       num_syllables\n",
       "count   29960.000000\n",
       "mean        3.482410\n",
       "std         1.152522\n",
       "min         1.000000\n",
       "25%         3.000000\n",
       "50%         3.000000\n",
       "75%         4.000000\n",
       "max         6.000000"
      ]
     },
     "execution_count": 6,
     "metadata": {},
     "output_type": "execute_result"
    }
   ],
   "source": [
    "pd.set_option('display.max_rows', 10)\n",
    "ds_test.describe()"
   ]
  },
  {
   "cell_type": "raw",
   "id": "baa73029-e30e-49f9-8c69-e89edfdb0210",
   "metadata": {},
   "source": [
    "ds_ss['stress']"
   ]
  },
  {
   "cell_type": "raw",
   "id": "eee74f9b-5e9e-4d33-9a5f-dccc935871cd",
   "metadata": {},
   "source": [
    "sns.histplot(data = {\"stress\": ds_ss['stress']}, \n",
    "             kde=True)"
   ]
  },
  {
   "cell_type": "code",
   "execution_count": 7,
   "id": "db8fbfda-9627-43ae-a49b-efe02945cd12",
   "metadata": {},
   "outputs": [
    {
     "data": {
      "text/html": [
       "<div>\n",
       "<style scoped>\n",
       "    .dataframe tbody tr th:only-of-type {\n",
       "        vertical-align: middle;\n",
       "    }\n",
       "\n",
       "    .dataframe tbody tr th {\n",
       "        vertical-align: top;\n",
       "    }\n",
       "\n",
       "    .dataframe thead th {\n",
       "        text-align: right;\n",
       "    }\n",
       "</style>\n",
       "<table border=\"1\" class=\"dataframe\">\n",
       "  <thead>\n",
       "    <tr style=\"text-align: right;\">\n",
       "      <th></th>\n",
       "      <th>stress</th>\n",
       "      <th>num_syllables</th>\n",
       "    </tr>\n",
       "  </thead>\n",
       "  <tbody>\n",
       "    <tr>\n",
       "      <th>count</th>\n",
       "      <td>63438.000000</td>\n",
       "      <td>63438.000000</td>\n",
       "    </tr>\n",
       "    <tr>\n",
       "      <th>mean</th>\n",
       "      <td>2.209354</td>\n",
       "      <td>3.489691</td>\n",
       "    </tr>\n",
       "    <tr>\n",
       "      <th>std</th>\n",
       "      <td>0.912874</td>\n",
       "      <td>1.158803</td>\n",
       "    </tr>\n",
       "    <tr>\n",
       "      <th>min</th>\n",
       "      <td>1.000000</td>\n",
       "      <td>1.000000</td>\n",
       "    </tr>\n",
       "    <tr>\n",
       "      <th>25%</th>\n",
       "      <td>2.000000</td>\n",
       "      <td>3.000000</td>\n",
       "    </tr>\n",
       "    <tr>\n",
       "      <th>50%</th>\n",
       "      <td>2.000000</td>\n",
       "      <td>3.000000</td>\n",
       "    </tr>\n",
       "    <tr>\n",
       "      <th>75%</th>\n",
       "      <td>3.000000</td>\n",
       "      <td>4.000000</td>\n",
       "    </tr>\n",
       "    <tr>\n",
       "      <th>max</th>\n",
       "      <td>6.000000</td>\n",
       "      <td>6.000000</td>\n",
       "    </tr>\n",
       "  </tbody>\n",
       "</table>\n",
       "</div>"
      ],
      "text/plain": [
       "             stress  num_syllables\n",
       "count  63438.000000   63438.000000\n",
       "mean       2.209354       3.489691\n",
       "std        0.912874       1.158803\n",
       "min        1.000000       1.000000\n",
       "25%        2.000000       3.000000\n",
       "50%        2.000000       3.000000\n",
       "75%        3.000000       4.000000\n",
       "max        6.000000       6.000000"
      ]
     },
     "execution_count": 7,
     "metadata": {},
     "output_type": "execute_result"
    }
   ],
   "source": [
    "ds.describe()"
   ]
  },
  {
   "cell_type": "markdown",
   "id": "9658a29e-07fb-49cc-89de-9efed7646cfc",
   "metadata": {},
   "source": [
    "# Поиск шумов"
   ]
  },
  {
   "cell_type": "raw",
   "id": "f747efc0-0038-433e-bafb-daa127d62c97",
   "metadata": {},
   "source": [
    "Проверка на дурака: ударение на согласную букву не ставится!"
   ]
  },
  {
   "cell_type": "code",
   "execution_count": 8,
   "id": "56a2aa4f-b34b-46bf-b39f-9c1f8eb6d712",
   "metadata": {},
   "outputs": [],
   "source": [
    "ds_copy = ds.copy()"
   ]
  },
  {
   "cell_type": "raw",
   "id": "1051a84d-0832-4917-af64-5be8994b1d6f",
   "metadata": {},
   "source": [
    "# «а» «у» «о» «и» «э» «ы» «я» «ю» «е» «ё»\n",
    "vowels = ['а', 'е', 'ё', 'у', 'о', 'и', 'э', 'ы', 'ю', 'я']\n",
    "ds_ = ds.apply(lambda df: df.word[df.stress - 1] in vowels, axis=1)\n",
    "ds_"
   ]
  },
  {
   "cell_type": "code",
   "execution_count": 9,
   "id": "f6c23602-0f46-4c42-847f-f6a2a0ec1560",
   "metadata": {},
   "outputs": [],
   "source": [
    "# «а» «у» «о» «и» «э» «ы» «я» «ю» «е» «ё»\n",
    "vowels = ['а', 'е', 'ё', 'у', 'о', 'и', 'э', 'ы', 'ю', 'я']"
   ]
  },
  {
   "cell_type": "markdown",
   "id": "9082886e-fe90-4d6e-b7b8-9353b1d7e989",
   "metadata": {},
   "source": [
    "#  Анализ данных"
   ]
  },
  {
   "cell_type": "code",
   "execution_count": 10,
   "id": "73edf54f-fccc-4b98-9d00-15a7f089549f",
   "metadata": {},
   "outputs": [
    {
     "data": {
      "text/html": [
       "<div>\n",
       "<style scoped>\n",
       "    .dataframe tbody tr th:only-of-type {\n",
       "        vertical-align: middle;\n",
       "    }\n",
       "\n",
       "    .dataframe tbody tr th {\n",
       "        vertical-align: top;\n",
       "    }\n",
       "\n",
       "    .dataframe thead th {\n",
       "        text-align: right;\n",
       "    }\n",
       "</style>\n",
       "<table border=\"1\" class=\"dataframe\">\n",
       "  <thead>\n",
       "    <tr style=\"text-align: right;\">\n",
       "      <th></th>\n",
       "      <th>word</th>\n",
       "      <th>stress</th>\n",
       "      <th>num_syllables</th>\n",
       "      <th>lemma</th>\n",
       "    </tr>\n",
       "    <tr>\n",
       "      <th>id</th>\n",
       "      <th></th>\n",
       "      <th></th>\n",
       "      <th></th>\n",
       "      <th></th>\n",
       "    </tr>\n",
       "  </thead>\n",
       "  <tbody>\n",
       "    <tr>\n",
       "      <th>1000</th>\n",
       "      <td>тренировками</td>\n",
       "      <td>3</td>\n",
       "      <td>5</td>\n",
       "      <td>тренировка</td>\n",
       "    </tr>\n",
       "    <tr>\n",
       "      <th>1001</th>\n",
       "      <td>профиле</td>\n",
       "      <td>1</td>\n",
       "      <td>3</td>\n",
       "      <td>профиль</td>\n",
       "    </tr>\n",
       "    <tr>\n",
       "      <th>1002</th>\n",
       "      <td>звала</td>\n",
       "      <td>2</td>\n",
       "      <td>2</td>\n",
       "      <td>звать</td>\n",
       "    </tr>\n",
       "    <tr>\n",
       "      <th>1003</th>\n",
       "      <td>окружающими</td>\n",
       "      <td>3</td>\n",
       "      <td>6</td>\n",
       "      <td>окружающий</td>\n",
       "    </tr>\n",
       "    <tr>\n",
       "      <th>1004</th>\n",
       "      <td>трансплантации</td>\n",
       "      <td>3</td>\n",
       "      <td>5</td>\n",
       "      <td>трансплантация</td>\n",
       "    </tr>\n",
       "    <tr>\n",
       "      <th>...</th>\n",
       "      <td>...</td>\n",
       "      <td>...</td>\n",
       "      <td>...</td>\n",
       "      <td>...</td>\n",
       "    </tr>\n",
       "    <tr>\n",
       "      <th>1025</th>\n",
       "      <td>гибко</td>\n",
       "      <td>1</td>\n",
       "      <td>2</td>\n",
       "      <td>гибко</td>\n",
       "    </tr>\n",
       "    <tr>\n",
       "      <th>1026</th>\n",
       "      <td>протестующие</td>\n",
       "      <td>3</td>\n",
       "      <td>6</td>\n",
       "      <td>протестовать</td>\n",
       "    </tr>\n",
       "    <tr>\n",
       "      <th>1027</th>\n",
       "      <td>затянуло</td>\n",
       "      <td>3</td>\n",
       "      <td>4</td>\n",
       "      <td>затягивать</td>\n",
       "    </tr>\n",
       "    <tr>\n",
       "      <th>1028</th>\n",
       "      <td>анемометры</td>\n",
       "      <td>3</td>\n",
       "      <td>5</td>\n",
       "      <td>анемометр</td>\n",
       "    </tr>\n",
       "    <tr>\n",
       "      <th>1029</th>\n",
       "      <td>ген</td>\n",
       "      <td>1</td>\n",
       "      <td>1</td>\n",
       "      <td>ген</td>\n",
       "    </tr>\n",
       "  </tbody>\n",
       "</table>\n",
       "<p>30 rows × 4 columns</p>\n",
       "</div>"
      ],
      "text/plain": [
       "                word  stress  num_syllables           lemma\n",
       "id                                                         \n",
       "1000    тренировками       3              5      тренировка\n",
       "1001         профиле       1              3         профиль\n",
       "1002           звала       2              2           звать\n",
       "1003     окружающими       3              6      окружающий\n",
       "1004  трансплантации       3              5  трансплантация\n",
       "...              ...     ...            ...             ...\n",
       "1025           гибко       1              2           гибко\n",
       "1026    протестующие       3              6    протестовать\n",
       "1027        затянуло       3              4      затягивать\n",
       "1028      анемометры       3              5       анемометр\n",
       "1029             ген       1              1             ген\n",
       "\n",
       "[30 rows x 4 columns]"
      ]
     },
     "execution_count": 10,
     "metadata": {},
     "output_type": "execute_result"
    }
   ],
   "source": [
    "ds[1000:1030]"
   ]
  },
  {
   "cell_type": "markdown",
   "id": "12d607f8-9288-410f-a6fa-df60997df096",
   "metadata": {},
   "source": [
    "* можно на выход подавать номер слога\n",
    "* можно на выход подавать номер ударной буквы, тогда НС будет как бы бинарно классифицировать падает ли на эту букву ударение"
   ]
  },
  {
   "cell_type": "markdown",
   "id": "91f9f21f-b420-4e34-a8d8-93add2ec8b3e",
   "metadata": {},
   "source": [
    "# Посчитаем длину слов"
   ]
  },
  {
   "cell_type": "code",
   "execution_count": 11,
   "id": "12bb0223-3a11-440d-9764-c8c641de827c",
   "metadata": {},
   "outputs": [
    {
     "data": {
      "text/html": [
       "<div>\n",
       "<style scoped>\n",
       "    .dataframe tbody tr th:only-of-type {\n",
       "        vertical-align: middle;\n",
       "    }\n",
       "\n",
       "    .dataframe tbody tr th {\n",
       "        vertical-align: top;\n",
       "    }\n",
       "\n",
       "    .dataframe thead th {\n",
       "        text-align: right;\n",
       "    }\n",
       "</style>\n",
       "<table border=\"1\" class=\"dataframe\">\n",
       "  <thead>\n",
       "    <tr style=\"text-align: right;\">\n",
       "      <th></th>\n",
       "      <th>word</th>\n",
       "      <th>stress</th>\n",
       "      <th>num_syllables</th>\n",
       "      <th>lemma</th>\n",
       "      <th>words_lenght</th>\n",
       "    </tr>\n",
       "    <tr>\n",
       "      <th>id</th>\n",
       "      <th></th>\n",
       "      <th></th>\n",
       "      <th></th>\n",
       "      <th></th>\n",
       "      <th></th>\n",
       "    </tr>\n",
       "  </thead>\n",
       "  <tbody>\n",
       "    <tr>\n",
       "      <th>45332</th>\n",
       "      <td>сошелся</td>\n",
       "      <td>2</td>\n",
       "      <td>3</td>\n",
       "      <td>сходиться</td>\n",
       "      <td>7</td>\n",
       "    </tr>\n",
       "    <tr>\n",
       "      <th>47577</th>\n",
       "      <td>растворов</td>\n",
       "      <td>2</td>\n",
       "      <td>3</td>\n",
       "      <td>раствор</td>\n",
       "      <td>9</td>\n",
       "    </tr>\n",
       "    <tr>\n",
       "      <th>48001</th>\n",
       "      <td>средиземное</td>\n",
       "      <td>3</td>\n",
       "      <td>5</td>\n",
       "      <td>средиземное</td>\n",
       "      <td>11</td>\n",
       "    </tr>\n",
       "    <tr>\n",
       "      <th>12300</th>\n",
       "      <td>афин</td>\n",
       "      <td>1</td>\n",
       "      <td>2</td>\n",
       "      <td>афины</td>\n",
       "      <td>4</td>\n",
       "    </tr>\n",
       "    <tr>\n",
       "      <th>14982</th>\n",
       "      <td>талантливой</td>\n",
       "      <td>2</td>\n",
       "      <td>4</td>\n",
       "      <td>талантливый</td>\n",
       "      <td>11</td>\n",
       "    </tr>\n",
       "  </tbody>\n",
       "</table>\n",
       "</div>"
      ],
      "text/plain": [
       "              word  stress  num_syllables        lemma  words_lenght\n",
       "id                                                                  \n",
       "45332      сошелся       2              3    сходиться             7\n",
       "47577    растворов       2              3      раствор             9\n",
       "48001  средиземное       3              5  средиземное            11\n",
       "12300         афин       1              2        афины             4\n",
       "14982  талантливой       2              4  талантливый            11"
      ]
     },
     "execution_count": 11,
     "metadata": {},
     "output_type": "execute_result"
    }
   ],
   "source": [
    "ds['words_lenght'] = [len(word) for word in ds['word']]\n",
    "ds.sample(5)"
   ]
  },
  {
   "cell_type": "code",
   "execution_count": 12,
   "id": "b6bafe92-9f60-433c-a82c-c7bd5bf72c08",
   "metadata": {},
   "outputs": [
    {
     "data": {
      "text/plain": [
       "20"
      ]
     },
     "execution_count": 12,
     "metadata": {},
     "output_type": "execute_result"
    }
   ],
   "source": [
    "max_words_lenght = np.max(ds['words_lenght'])\n",
    "max_words_lenght"
   ]
  },
  {
   "cell_type": "code",
   "execution_count": 13,
   "id": "7eaf3036-84b2-4ea5-a961-de0404b71d50",
   "metadata": {},
   "outputs": [
    {
     "data": {
      "text/html": [
       "<div>\n",
       "<style scoped>\n",
       "    .dataframe tbody tr th:only-of-type {\n",
       "        vertical-align: middle;\n",
       "    }\n",
       "\n",
       "    .dataframe tbody tr th {\n",
       "        vertical-align: top;\n",
       "    }\n",
       "\n",
       "    .dataframe thead th {\n",
       "        text-align: right;\n",
       "    }\n",
       "</style>\n",
       "<table border=\"1\" class=\"dataframe\">\n",
       "  <thead>\n",
       "    <tr style=\"text-align: right;\">\n",
       "      <th></th>\n",
       "      <th>word</th>\n",
       "      <th>stress</th>\n",
       "      <th>num_syllables</th>\n",
       "      <th>lemma</th>\n",
       "      <th>words_lenght</th>\n",
       "      <th>lemmas_lenght</th>\n",
       "    </tr>\n",
       "    <tr>\n",
       "      <th>id</th>\n",
       "      <th></th>\n",
       "      <th></th>\n",
       "      <th></th>\n",
       "      <th></th>\n",
       "      <th></th>\n",
       "      <th></th>\n",
       "    </tr>\n",
       "  </thead>\n",
       "  <tbody>\n",
       "    <tr>\n",
       "      <th>28120</th>\n",
       "      <td>газоразрядные</td>\n",
       "      <td>4</td>\n",
       "      <td>6</td>\n",
       "      <td>газоразрядный</td>\n",
       "      <td>13</td>\n",
       "      <td>13</td>\n",
       "    </tr>\n",
       "    <tr>\n",
       "      <th>3808</th>\n",
       "      <td>пробудить</td>\n",
       "      <td>3</td>\n",
       "      <td>3</td>\n",
       "      <td>пробуждать</td>\n",
       "      <td>9</td>\n",
       "      <td>10</td>\n",
       "    </tr>\n",
       "    <tr>\n",
       "      <th>52066</th>\n",
       "      <td>фотосъемка</td>\n",
       "      <td>3</td>\n",
       "      <td>4</td>\n",
       "      <td>фотосъемка</td>\n",
       "      <td>10</td>\n",
       "      <td>10</td>\n",
       "    </tr>\n",
       "    <tr>\n",
       "      <th>52347</th>\n",
       "      <td>очерченные</td>\n",
       "      <td>2</td>\n",
       "      <td>5</td>\n",
       "      <td>очерчивать</td>\n",
       "      <td>10</td>\n",
       "      <td>10</td>\n",
       "    </tr>\n",
       "    <tr>\n",
       "      <th>28169</th>\n",
       "      <td>троицкий</td>\n",
       "      <td>1</td>\n",
       "      <td>3</td>\n",
       "      <td>троицкий</td>\n",
       "      <td>8</td>\n",
       "      <td>8</td>\n",
       "    </tr>\n",
       "  </tbody>\n",
       "</table>\n",
       "</div>"
      ],
      "text/plain": [
       "                word  stress  num_syllables          lemma  words_lenght  \\\n",
       "id                                                                         \n",
       "28120  газоразрядные       4              6  газоразрядный            13   \n",
       "3808       пробудить       3              3     пробуждать             9   \n",
       "52066     фотосъемка       3              4     фотосъемка            10   \n",
       "52347     очерченные       2              5     очерчивать            10   \n",
       "28169       троицкий       1              3       троицкий             8   \n",
       "\n",
       "       lemmas_lenght  \n",
       "id                    \n",
       "28120             13  \n",
       "3808              10  \n",
       "52066             10  \n",
       "52347             10  \n",
       "28169              8  "
      ]
     },
     "execution_count": 13,
     "metadata": {},
     "output_type": "execute_result"
    }
   ],
   "source": [
    "ds['lemmas_lenght'] = [len(word) for word in ds['lemma']]\n",
    "ds.sample(5)"
   ]
  },
  {
   "cell_type": "code",
   "execution_count": 14,
   "id": "dd18a56f-fdce-4758-8979-ddfdc06cd414",
   "metadata": {},
   "outputs": [
    {
     "data": {
      "text/plain": [
       "20"
      ]
     },
     "execution_count": 14,
     "metadata": {},
     "output_type": "execute_result"
    }
   ],
   "source": [
    "max_lemms_lenght = np.max(ds['lemmas_lenght'])\n",
    "max_lemms_lenght"
   ]
  },
  {
   "cell_type": "code",
   "execution_count": 15,
   "id": "e7e33dea-132d-47f1-b41b-c53f31546aeb",
   "metadata": {},
   "outputs": [
    {
     "data": {
      "text/plain": [
       "2"
      ]
     },
     "execution_count": 15,
     "metadata": {},
     "output_type": "execute_result"
    }
   ],
   "source": [
    "min_lemms_lenght = np.min(ds['lemmas_lenght'])\n",
    "min_lemms_lenght"
   ]
  },
  {
   "cell_type": "code",
   "execution_count": 16,
   "id": "c7bccebd-2734-40d4-ba1d-5f98aa5e93da",
   "metadata": {},
   "outputs": [
    {
     "data": {
      "text/html": [
       "<div>\n",
       "<style scoped>\n",
       "    .dataframe tbody tr th:only-of-type {\n",
       "        vertical-align: middle;\n",
       "    }\n",
       "\n",
       "    .dataframe tbody tr th {\n",
       "        vertical-align: top;\n",
       "    }\n",
       "\n",
       "    .dataframe thead th {\n",
       "        text-align: right;\n",
       "    }\n",
       "</style>\n",
       "<table border=\"1\" class=\"dataframe\">\n",
       "  <thead>\n",
       "    <tr style=\"text-align: right;\">\n",
       "      <th></th>\n",
       "      <th>word</th>\n",
       "      <th>stress</th>\n",
       "      <th>num_syllables</th>\n",
       "      <th>lemma</th>\n",
       "      <th>words_lenght</th>\n",
       "      <th>lemmas_lenght</th>\n",
       "    </tr>\n",
       "    <tr>\n",
       "      <th>id</th>\n",
       "      <th></th>\n",
       "      <th></th>\n",
       "      <th></th>\n",
       "      <th></th>\n",
       "      <th></th>\n",
       "      <th></th>\n",
       "    </tr>\n",
       "  </thead>\n",
       "  <tbody>\n",
       "    <tr>\n",
       "      <th>2994</th>\n",
       "      <td>уму</td>\n",
       "      <td>2</td>\n",
       "      <td>2</td>\n",
       "      <td>ум</td>\n",
       "      <td>3</td>\n",
       "      <td>2</td>\n",
       "    </tr>\n",
       "    <tr>\n",
       "      <th>4199</th>\n",
       "      <td>яру</td>\n",
       "      <td>1</td>\n",
       "      <td>2</td>\n",
       "      <td>яр</td>\n",
       "      <td>3</td>\n",
       "      <td>2</td>\n",
       "    </tr>\n",
       "    <tr>\n",
       "      <th>4738</th>\n",
       "      <td>ля</td>\n",
       "      <td>1</td>\n",
       "      <td>1</td>\n",
       "      <td>ля</td>\n",
       "      <td>2</td>\n",
       "      <td>2</td>\n",
       "    </tr>\n",
       "    <tr>\n",
       "      <th>6076</th>\n",
       "      <td>фе</td>\n",
       "      <td>1</td>\n",
       "      <td>1</td>\n",
       "      <td>фе</td>\n",
       "      <td>2</td>\n",
       "      <td>2</td>\n",
       "    </tr>\n",
       "    <tr>\n",
       "      <th>6191</th>\n",
       "      <td>ин</td>\n",
       "      <td>1</td>\n",
       "      <td>1</td>\n",
       "      <td>ин</td>\n",
       "      <td>2</td>\n",
       "      <td>2</td>\n",
       "    </tr>\n",
       "    <tr>\n",
       "      <th>...</th>\n",
       "      <td>...</td>\n",
       "      <td>...</td>\n",
       "      <td>...</td>\n",
       "      <td>...</td>\n",
       "      <td>...</td>\n",
       "      <td>...</td>\n",
       "    </tr>\n",
       "    <tr>\n",
       "      <th>59275</th>\n",
       "      <td>ша</td>\n",
       "      <td>1</td>\n",
       "      <td>1</td>\n",
       "      <td>ша</td>\n",
       "      <td>2</td>\n",
       "      <td>2</td>\n",
       "    </tr>\n",
       "    <tr>\n",
       "      <th>60673</th>\n",
       "      <td>мю</td>\n",
       "      <td>1</td>\n",
       "      <td>1</td>\n",
       "      <td>мю</td>\n",
       "      <td>2</td>\n",
       "      <td>2</td>\n",
       "    </tr>\n",
       "    <tr>\n",
       "      <th>61309</th>\n",
       "      <td>югу</td>\n",
       "      <td>1</td>\n",
       "      <td>2</td>\n",
       "      <td>юг</td>\n",
       "      <td>3</td>\n",
       "      <td>2</td>\n",
       "    </tr>\n",
       "    <tr>\n",
       "      <th>62254</th>\n",
       "      <td>эс</td>\n",
       "      <td>1</td>\n",
       "      <td>1</td>\n",
       "      <td>эс</td>\n",
       "      <td>2</td>\n",
       "      <td>2</td>\n",
       "    </tr>\n",
       "    <tr>\n",
       "      <th>62440</th>\n",
       "      <td>усе</td>\n",
       "      <td>1</td>\n",
       "      <td>2</td>\n",
       "      <td>ус</td>\n",
       "      <td>3</td>\n",
       "      <td>2</td>\n",
       "    </tr>\n",
       "  </tbody>\n",
       "</table>\n",
       "<p>87 rows × 6 columns</p>\n",
       "</div>"
      ],
      "text/plain": [
       "      word  stress  num_syllables lemma  words_lenght  lemmas_lenght\n",
       "id                                                                  \n",
       "2994   уму       2              2    ум             3              2\n",
       "4199   яру       1              2    яр             3              2\n",
       "4738    ля       1              1    ля             2              2\n",
       "6076    фе       1              1    фе             2              2\n",
       "6191    ин       1              1    ин             2              2\n",
       "...    ...     ...            ...   ...           ...            ...\n",
       "59275   ша       1              1    ша             2              2\n",
       "60673   мю       1              1    мю             2              2\n",
       "61309  югу       1              2    юг             3              2\n",
       "62254   эс       1              1    эс             2              2\n",
       "62440  усе       1              2    ус             3              2\n",
       "\n",
       "[87 rows x 6 columns]"
      ]
     },
     "execution_count": 16,
     "metadata": {},
     "output_type": "execute_result"
    }
   ],
   "source": [
    "ds.loc[ds['lemmas_lenght'] <= 2]"
   ]
  },
  {
   "cell_type": "raw",
   "id": "9c3cdf4e-76ff-46df-ab7d-8c6bd6f4aac3",
   "metadata": {},
   "source": [
    "Заводим список возможных слов из двух букв"
   ]
  },
  {
   "cell_type": "code",
   "execution_count": 17,
   "id": "5c202d6d-889d-4748-918a-bb1d025b5bd0",
   "metadata": {},
   "outputs": [],
   "source": [
    "two_letter_words = ['еж', 'мы', 'уж', 'ус', 'яз', 'юг']"
   ]
  },
  {
   "cell_type": "code",
   "execution_count": 18,
   "id": "9a268b7b-d0ce-4725-ab4f-2d49f8dbb46c",
   "metadata": {},
   "outputs": [],
   "source": [
    "very_short_words = ds.loc[(ds['lemmas_lenght'] <= 2) & (~ds['lemma'].isin(two_letter_words))]"
   ]
  },
  {
   "cell_type": "code",
   "execution_count": 19,
   "id": "efe240a8-5300-4e85-9ce3-d9f2a3a9aa4d",
   "metadata": {},
   "outputs": [],
   "source": [
    "ds = ds.drop(index=very_short_words.index, axis=1)"
   ]
  },
  {
   "cell_type": "code",
   "execution_count": 20,
   "id": "30542b69-2f10-4ffb-9311-a74d85df3df4",
   "metadata": {},
   "outputs": [
    {
     "data": {
      "text/plain": [
       "1318"
      ]
     },
     "execution_count": 20,
     "metadata": {},
     "output_type": "execute_result"
    }
   ],
   "source": [
    "bad_indexes = ds.loc[(ds['num_syllables'] == 1) & (~ds['lemma'].isin(two_letter_words))].index\n",
    "ds = ds.drop(index=bad_indexes, axis=1)\n",
    "len(bad_indexes)"
   ]
  },
  {
   "cell_type": "code",
   "execution_count": 21,
   "id": "8b84fd7b-09a8-4c92-b1ef-8aebb11aecfd",
   "metadata": {},
   "outputs": [
    {
     "data": {
      "text/html": [
       "<div>\n",
       "<style scoped>\n",
       "    .dataframe tbody tr th:only-of-type {\n",
       "        vertical-align: middle;\n",
       "    }\n",
       "\n",
       "    .dataframe tbody tr th {\n",
       "        vertical-align: top;\n",
       "    }\n",
       "\n",
       "    .dataframe thead th {\n",
       "        text-align: right;\n",
       "    }\n",
       "</style>\n",
       "<table border=\"1\" class=\"dataframe\">\n",
       "  <thead>\n",
       "    <tr style=\"text-align: right;\">\n",
       "      <th></th>\n",
       "      <th>word</th>\n",
       "      <th>stress</th>\n",
       "      <th>num_syllables</th>\n",
       "      <th>lemma</th>\n",
       "      <th>words_lenght</th>\n",
       "      <th>lemmas_lenght</th>\n",
       "    </tr>\n",
       "    <tr>\n",
       "      <th>id</th>\n",
       "      <th></th>\n",
       "      <th></th>\n",
       "      <th></th>\n",
       "      <th></th>\n",
       "      <th></th>\n",
       "      <th></th>\n",
       "    </tr>\n",
       "  </thead>\n",
       "  <tbody>\n",
       "    <tr>\n",
       "      <th>591</th>\n",
       "      <td>тыя</td>\n",
       "      <td>1</td>\n",
       "      <td>2</td>\n",
       "      <td>тыя</td>\n",
       "      <td>3</td>\n",
       "      <td>3</td>\n",
       "    </tr>\n",
       "    <tr>\n",
       "      <th>966</th>\n",
       "      <td>гаи</td>\n",
       "      <td>1</td>\n",
       "      <td>2</td>\n",
       "      <td>гаи</td>\n",
       "      <td>3</td>\n",
       "      <td>3</td>\n",
       "    </tr>\n",
       "    <tr>\n",
       "      <th>1047</th>\n",
       "      <td>эва</td>\n",
       "      <td>1</td>\n",
       "      <td>2</td>\n",
       "      <td>эва</td>\n",
       "      <td>3</td>\n",
       "      <td>3</td>\n",
       "    </tr>\n",
       "    <tr>\n",
       "      <th>1239</th>\n",
       "      <td>эла</td>\n",
       "      <td>1</td>\n",
       "      <td>2</td>\n",
       "      <td>эла</td>\n",
       "      <td>3</td>\n",
       "      <td>3</td>\n",
       "    </tr>\n",
       "    <tr>\n",
       "      <th>2054</th>\n",
       "      <td>ное</td>\n",
       "      <td>1</td>\n",
       "      <td>2</td>\n",
       "      <td>ной</td>\n",
       "      <td>3</td>\n",
       "      <td>3</td>\n",
       "    </tr>\n",
       "    <tr>\n",
       "      <th>...</th>\n",
       "      <td>...</td>\n",
       "      <td>...</td>\n",
       "      <td>...</td>\n",
       "      <td>...</td>\n",
       "      <td>...</td>\n",
       "      <td>...</td>\n",
       "    </tr>\n",
       "    <tr>\n",
       "      <th>62213</th>\n",
       "      <td>эго</td>\n",
       "      <td>1</td>\n",
       "      <td>2</td>\n",
       "      <td>эго</td>\n",
       "      <td>3</td>\n",
       "      <td>3</td>\n",
       "    </tr>\n",
       "    <tr>\n",
       "      <th>62526</th>\n",
       "      <td>абэ</td>\n",
       "      <td>1</td>\n",
       "      <td>2</td>\n",
       "      <td>абэ</td>\n",
       "      <td>3</td>\n",
       "      <td>3</td>\n",
       "    </tr>\n",
       "    <tr>\n",
       "      <th>62722</th>\n",
       "      <td>ама</td>\n",
       "      <td>1</td>\n",
       "      <td>2</td>\n",
       "      <td>ама</td>\n",
       "      <td>3</td>\n",
       "      <td>3</td>\n",
       "    </tr>\n",
       "    <tr>\n",
       "      <th>62776</th>\n",
       "      <td>уху</td>\n",
       "      <td>1</td>\n",
       "      <td>2</td>\n",
       "      <td>уха</td>\n",
       "      <td>3</td>\n",
       "      <td>3</td>\n",
       "    </tr>\n",
       "    <tr>\n",
       "      <th>63410</th>\n",
       "      <td>яша</td>\n",
       "      <td>1</td>\n",
       "      <td>2</td>\n",
       "      <td>яша</td>\n",
       "      <td>3</td>\n",
       "      <td>3</td>\n",
       "    </tr>\n",
       "  </tbody>\n",
       "</table>\n",
       "<p>147 rows × 6 columns</p>\n",
       "</div>"
      ],
      "text/plain": [
       "      word  stress  num_syllables lemma  words_lenght  lemmas_lenght\n",
       "id                                                                  \n",
       "591    тыя       1              2   тыя             3              3\n",
       "966    гаи       1              2   гаи             3              3\n",
       "1047   эва       1              2   эва             3              3\n",
       "1239   эла       1              2   эла             3              3\n",
       "2054   ное       1              2   ной             3              3\n",
       "...    ...     ...            ...   ...           ...            ...\n",
       "62213  эго       1              2   эго             3              3\n",
       "62526  абэ       1              2   абэ             3              3\n",
       "62722  ама       1              2   ама             3              3\n",
       "62776  уху       1              2   уха             3              3\n",
       "63410  яша       1              2   яша             3              3\n",
       "\n",
       "[147 rows x 6 columns]"
      ]
     },
     "execution_count": 21,
     "metadata": {},
     "output_type": "execute_result"
    }
   ],
   "source": [
    "# pd.set_option('display.max_rows', None)\n",
    "three_letters_words = ds.loc[(ds['lemmas_lenght'] == 3) & (ds['words_lenght'] == 3)]\n",
    "three_letters_words"
   ]
  },
  {
   "cell_type": "raw",
   "id": "9b090d2e-7011-4df2-93d1-55b36eaeada7",
   "metadata": {},
   "source": [
    "единственный вариант который я вижу это перебрать эти 147 слов руками и удалить какие-то совсем уж не понятные"
   ]
  },
  {
   "cell_type": "raw",
   "id": "4a1f674a-a67d-4322-99fa-d6acc5dd38d2",
   "metadata": {},
   "source": [
    "Однако так как тут в основном имена в целом наверное будет не большой потерей если я их удалю все"
   ]
  },
  {
   "cell_type": "code",
   "execution_count": null,
   "id": "b6bc0ede-42a5-4838-9c5c-5f92f181b547",
   "metadata": {},
   "outputs": [],
   "source": []
  },
  {
   "cell_type": "code",
   "execution_count": 22,
   "id": "8d668f5c-f1ab-4556-8d5a-cfe9bac83fa9",
   "metadata": {},
   "outputs": [
    {
     "data": {
      "text/plain": [
       "62043"
      ]
     },
     "execution_count": 22,
     "metadata": {},
     "output_type": "execute_result"
    }
   ],
   "source": [
    "len(ds['word'].unique())"
   ]
  },
  {
   "cell_type": "code",
   "execution_count": 23,
   "id": "e06c49fe-c4cb-47de-9e55-a10a78358823",
   "metadata": {},
   "outputs": [
    {
     "data": {
      "text/plain": [
       "62043"
      ]
     },
     "execution_count": 23,
     "metadata": {},
     "output_type": "execute_result"
    }
   ],
   "source": [
    "len(ds['word'])"
   ]
  },
  {
   "cell_type": "code",
   "execution_count": null,
   "id": "5b50a693-ff61-4826-bde0-a9532e183548",
   "metadata": {},
   "outputs": [],
   "source": []
  },
  {
   "cell_type": "code",
   "execution_count": 24,
   "id": "da00d83d-ac5a-4c44-ae55-5a925223c433",
   "metadata": {},
   "outputs": [
    {
     "data": {
      "text/html": [
       "<div>\n",
       "<style scoped>\n",
       "    .dataframe tbody tr th:only-of-type {\n",
       "        vertical-align: middle;\n",
       "    }\n",
       "\n",
       "    .dataframe tbody tr th {\n",
       "        vertical-align: top;\n",
       "    }\n",
       "\n",
       "    .dataframe thead th {\n",
       "        text-align: right;\n",
       "    }\n",
       "</style>\n",
       "<table border=\"1\" class=\"dataframe\">\n",
       "  <thead>\n",
       "    <tr style=\"text-align: right;\">\n",
       "      <th></th>\n",
       "      <th>stress</th>\n",
       "      <th>num_syllables</th>\n",
       "      <th>words_lenght</th>\n",
       "      <th>lemmas_lenght</th>\n",
       "    </tr>\n",
       "  </thead>\n",
       "  <tbody>\n",
       "    <tr>\n",
       "      <th>count</th>\n",
       "      <td>62043.000000</td>\n",
       "      <td>62043.000000</td>\n",
       "      <td>62043.000000</td>\n",
       "      <td>62043.000000</td>\n",
       "    </tr>\n",
       "    <tr>\n",
       "      <th>mean</th>\n",
       "      <td>2.236417</td>\n",
       "      <td>3.545235</td>\n",
       "      <td>8.500492</td>\n",
       "      <td>8.387473</td>\n",
       "    </tr>\n",
       "    <tr>\n",
       "      <th>std</th>\n",
       "      <td>0.904789</td>\n",
       "      <td>1.110072</td>\n",
       "      <td>2.442989</td>\n",
       "      <td>2.567415</td>\n",
       "    </tr>\n",
       "    <tr>\n",
       "      <th>min</th>\n",
       "      <td>1.000000</td>\n",
       "      <td>1.000000</td>\n",
       "      <td>2.000000</td>\n",
       "      <td>2.000000</td>\n",
       "    </tr>\n",
       "    <tr>\n",
       "      <th>25%</th>\n",
       "      <td>2.000000</td>\n",
       "      <td>3.000000</td>\n",
       "      <td>7.000000</td>\n",
       "      <td>7.000000</td>\n",
       "    </tr>\n",
       "    <tr>\n",
       "      <th>50%</th>\n",
       "      <td>2.000000</td>\n",
       "      <td>3.000000</td>\n",
       "      <td>8.000000</td>\n",
       "      <td>8.000000</td>\n",
       "    </tr>\n",
       "    <tr>\n",
       "      <th>75%</th>\n",
       "      <td>3.000000</td>\n",
       "      <td>4.000000</td>\n",
       "      <td>10.000000</td>\n",
       "      <td>10.000000</td>\n",
       "    </tr>\n",
       "    <tr>\n",
       "      <th>max</th>\n",
       "      <td>6.000000</td>\n",
       "      <td>6.000000</td>\n",
       "      <td>20.000000</td>\n",
       "      <td>20.000000</td>\n",
       "    </tr>\n",
       "  </tbody>\n",
       "</table>\n",
       "</div>"
      ],
      "text/plain": [
       "             stress  num_syllables  words_lenght  lemmas_lenght\n",
       "count  62043.000000   62043.000000  62043.000000   62043.000000\n",
       "mean       2.236417       3.545235      8.500492       8.387473\n",
       "std        0.904789       1.110072      2.442989       2.567415\n",
       "min        1.000000       1.000000      2.000000       2.000000\n",
       "25%        2.000000       3.000000      7.000000       7.000000\n",
       "50%        2.000000       3.000000      8.000000       8.000000\n",
       "75%        3.000000       4.000000     10.000000      10.000000\n",
       "max        6.000000       6.000000     20.000000      20.000000"
      ]
     },
     "execution_count": 24,
     "metadata": {},
     "output_type": "execute_result"
    }
   ],
   "source": [
    "ds.describe()"
   ]
  },
  {
   "cell_type": "code",
   "execution_count": 25,
   "id": "6a06c945-0563-4bf7-a0ea-05e86aab546e",
   "metadata": {},
   "outputs": [
    {
     "data": {
      "text/html": [
       "<div>\n",
       "<style scoped>\n",
       "    .dataframe tbody tr th:only-of-type {\n",
       "        vertical-align: middle;\n",
       "    }\n",
       "\n",
       "    .dataframe tbody tr th {\n",
       "        vertical-align: top;\n",
       "    }\n",
       "\n",
       "    .dataframe thead th {\n",
       "        text-align: right;\n",
       "    }\n",
       "</style>\n",
       "<table border=\"1\" class=\"dataframe\">\n",
       "  <thead>\n",
       "    <tr style=\"text-align: right;\">\n",
       "      <th></th>\n",
       "      <th>word</th>\n",
       "      <th>stress</th>\n",
       "      <th>num_syllables</th>\n",
       "      <th>lemma</th>\n",
       "      <th>words_lenght</th>\n",
       "      <th>lemmas_lenght</th>\n",
       "    </tr>\n",
       "    <tr>\n",
       "      <th>id</th>\n",
       "      <th></th>\n",
       "      <th></th>\n",
       "      <th></th>\n",
       "      <th></th>\n",
       "      <th></th>\n",
       "      <th></th>\n",
       "    </tr>\n",
       "  </thead>\n",
       "  <tbody>\n",
       "    <tr>\n",
       "      <th>2507</th>\n",
       "      <td>грызет</td>\n",
       "      <td>2</td>\n",
       "      <td>2</td>\n",
       "      <td>грызть</td>\n",
       "      <td>6</td>\n",
       "      <td>6</td>\n",
       "    </tr>\n",
       "  </tbody>\n",
       "</table>\n",
       "</div>"
      ],
      "text/plain": [
       "        word  stress  num_syllables   lemma  words_lenght  lemmas_lenght\n",
       "id                                                                      \n",
       "2507  грызет       2              2  грызть             6              6"
      ]
     },
     "execution_count": 25,
     "metadata": {},
     "output_type": "execute_result"
    }
   ],
   "source": [
    "ds.sample(1)"
   ]
  },
  {
   "cell_type": "code",
   "execution_count": 26,
   "id": "c0302f29-534c-40e9-b31e-4253d508ec5e",
   "metadata": {},
   "outputs": [
    {
     "data": {
      "text/plain": [
       "<Axes: ylabel='Count'>"
      ]
     },
     "execution_count": 26,
     "metadata": {},
     "output_type": "execute_result"
    },
    {
     "data": {
      "image/png": "[encoded data removed]",
      "text/plain": [
       "<Figure size 640x480 with 1 Axes>"
      ]
     },
     "metadata": {},
     "output_type": "display_data"
    }
   ],
   "source": [
    "sns.histplot(data = {\"stress\": ds['stress']}, \n",
    "             kde=True)"
   ]
  },
  {
   "cell_type": "code",
   "execution_count": 27,
   "id": "a0cd4b05-d5f2-47f8-9252-205d5548cbcf",
   "metadata": {},
   "outputs": [
    {
     "data": {
      "text/plain": [
       "24"
      ]
     },
     "execution_count": 27,
     "metadata": {},
     "output_type": "execute_result"
    }
   ],
   "source": [
    "len(ds.loc[ds['stress'] == 6])"
   ]
  },
  {
   "cell_type": "code",
   "execution_count": 28,
   "id": "c5902cd8-9f61-4fd9-b4f5-15fda8a1c815",
   "metadata": {},
   "outputs": [
    {
     "data": {
      "text/plain": [
       "535"
      ]
     },
     "execution_count": 28,
     "metadata": {},
     "output_type": "execute_result"
    }
   ],
   "source": [
    "len(ds.loc[ds['stress'] == 5])"
   ]
  },
  {
   "cell_type": "code",
   "execution_count": 29,
   "id": "5c080c68-1d5e-461c-b10c-bcc57eab7528",
   "metadata": {},
   "outputs": [
    {
     "data": {
      "text/plain": [
       "4180"
      ]
     },
     "execution_count": 29,
     "metadata": {},
     "output_type": "execute_result"
    }
   ],
   "source": [
    "len(ds.loc[ds['stress'] == 4])"
   ]
  },
  {
   "cell_type": "raw",
   "id": "ef23859c-ad4a-4bcd-bf84-deb0098c8c98",
   "metadata": {},
   "source": [
    "Как мы видим выборка очень сильно разбалансирована, попробуем немного выровнять их колличество дублированием до 15000 значений"
   ]
  },
  {
   "cell_type": "markdown",
   "id": "f3b7a6d4-323e-4723-a25e-497592358d62",
   "metadata": {},
   "source": [
    "## Выяснение весов классов"
   ]
  },
  {
   "cell_type": "code",
   "execution_count": 30,
   "id": "83e966b7-ac13-4077-9680-6c2d80988e55",
   "metadata": {},
   "outputs": [],
   "source": [
    "from sklearn.ensemble import RandomForestClassifier\n",
    "from sklearn.utils.class_weight import compute_class_weight"
   ]
  },
  {
   "cell_type": "code",
   "execution_count": 31,
   "id": "ce9169ca-698e-4a2c-9074-dab179f8f808",
   "metadata": {},
   "outputs": [
    {
     "data": {
      "text/plain": [
       "array([7.45744988e-01, 4.14199880e-01, 5.59762897e-01, 2.47380383e+00,\n",
       "       1.93280374e+01, 4.30854167e+02])"
      ]
     },
     "execution_count": 31,
     "metadata": {},
     "output_type": "execute_result"
    }
   ],
   "source": [
    "# Получение весов классов\n",
    "class_weights = compute_class_weight('balanced', classes=np.unique(ds['stress']), y=ds['stress'])\n",
    "class_weights"
   ]
  },
  {
   "cell_type": "code",
   "execution_count": 32,
   "id": "2b3682ab-14ed-48ce-a91f-fdb97d7f502f",
   "metadata": {},
   "outputs": [
    {
     "data": {
      "text/html": [
       "<div>\n",
       "<style scoped>\n",
       "    .dataframe tbody tr th:only-of-type {\n",
       "        vertical-align: middle;\n",
       "    }\n",
       "\n",
       "    .dataframe tbody tr th {\n",
       "        vertical-align: top;\n",
       "    }\n",
       "\n",
       "    .dataframe thead th {\n",
       "        text-align: right;\n",
       "    }\n",
       "</style>\n",
       "<table border=\"1\" class=\"dataframe\">\n",
       "  <thead>\n",
       "    <tr style=\"text-align: right;\">\n",
       "      <th></th>\n",
       "      <th>word</th>\n",
       "      <th>stress</th>\n",
       "      <th>num_syllables</th>\n",
       "      <th>lemma</th>\n",
       "      <th>words_lenght</th>\n",
       "      <th>lemmas_lenght</th>\n",
       "    </tr>\n",
       "    <tr>\n",
       "      <th>id</th>\n",
       "      <th></th>\n",
       "      <th></th>\n",
       "      <th></th>\n",
       "      <th></th>\n",
       "      <th></th>\n",
       "      <th></th>\n",
       "    </tr>\n",
       "  </thead>\n",
       "  <tbody>\n",
       "    <tr>\n",
       "      <th>0</th>\n",
       "      <td>румяной</td>\n",
       "      <td>2</td>\n",
       "      <td>3</td>\n",
       "      <td>румяный</td>\n",
       "      <td>7</td>\n",
       "      <td>7</td>\n",
       "    </tr>\n",
       "    <tr>\n",
       "      <th>5</th>\n",
       "      <td>купюру</td>\n",
       "      <td>2</td>\n",
       "      <td>3</td>\n",
       "      <td>купюра</td>\n",
       "      <td>6</td>\n",
       "      <td>6</td>\n",
       "    </tr>\n",
       "    <tr>\n",
       "      <th>7</th>\n",
       "      <td>культурной</td>\n",
       "      <td>2</td>\n",
       "      <td>3</td>\n",
       "      <td>культурный</td>\n",
       "      <td>10</td>\n",
       "      <td>10</td>\n",
       "    </tr>\n",
       "    <tr>\n",
       "      <th>9</th>\n",
       "      <td>маркерные</td>\n",
       "      <td>2</td>\n",
       "      <td>4</td>\n",
       "      <td>маркерный</td>\n",
       "      <td>9</td>\n",
       "      <td>9</td>\n",
       "    </tr>\n",
       "    <tr>\n",
       "      <th>11</th>\n",
       "      <td>кровавым</td>\n",
       "      <td>2</td>\n",
       "      <td>3</td>\n",
       "      <td>кровавый</td>\n",
       "      <td>8</td>\n",
       "      <td>8</td>\n",
       "    </tr>\n",
       "    <tr>\n",
       "      <th>...</th>\n",
       "      <td>...</td>\n",
       "      <td>...</td>\n",
       "      <td>...</td>\n",
       "      <td>...</td>\n",
       "      <td>...</td>\n",
       "      <td>...</td>\n",
       "    </tr>\n",
       "    <tr>\n",
       "      <th>63433</th>\n",
       "      <td>экзамена</td>\n",
       "      <td>2</td>\n",
       "      <td>4</td>\n",
       "      <td>экзамен</td>\n",
       "      <td>8</td>\n",
       "      <td>7</td>\n",
       "    </tr>\n",
       "    <tr>\n",
       "      <th>63434</th>\n",
       "      <td>культурой</td>\n",
       "      <td>2</td>\n",
       "      <td>3</td>\n",
       "      <td>культура</td>\n",
       "      <td>9</td>\n",
       "      <td>8</td>\n",
       "    </tr>\n",
       "    <tr>\n",
       "      <th>63435</th>\n",
       "      <td>объемной</td>\n",
       "      <td>2</td>\n",
       "      <td>3</td>\n",
       "      <td>объемный</td>\n",
       "      <td>8</td>\n",
       "      <td>8</td>\n",
       "    </tr>\n",
       "    <tr>\n",
       "      <th>63436</th>\n",
       "      <td>участком</td>\n",
       "      <td>2</td>\n",
       "      <td>3</td>\n",
       "      <td>участок</td>\n",
       "      <td>8</td>\n",
       "      <td>7</td>\n",
       "    </tr>\n",
       "    <tr>\n",
       "      <th>63437</th>\n",
       "      <td>ташкента</td>\n",
       "      <td>2</td>\n",
       "      <td>3</td>\n",
       "      <td>ташкент</td>\n",
       "      <td>8</td>\n",
       "      <td>7</td>\n",
       "    </tr>\n",
       "  </tbody>\n",
       "</table>\n",
       "<p>24965 rows × 6 columns</p>\n",
       "</div>"
      ],
      "text/plain": [
       "             word  stress  num_syllables       lemma  words_lenght  \\\n",
       "id                                                                   \n",
       "0         румяной       2              3     румяный             7   \n",
       "5          купюру       2              3      купюра             6   \n",
       "7      культурной       2              3  культурный            10   \n",
       "9       маркерные       2              4   маркерный             9   \n",
       "11       кровавым       2              3    кровавый             8   \n",
       "...           ...     ...            ...         ...           ...   \n",
       "63433    экзамена       2              4     экзамен             8   \n",
       "63434   культурой       2              3    культура             9   \n",
       "63435    объемной       2              3    объемный             8   \n",
       "63436    участком       2              3     участок             8   \n",
       "63437    ташкента       2              3     ташкент             8   \n",
       "\n",
       "       lemmas_lenght  \n",
       "id                    \n",
       "0                  7  \n",
       "5                  6  \n",
       "7                 10  \n",
       "9                  9  \n",
       "11                 8  \n",
       "...              ...  \n",
       "63433              7  \n",
       "63434              8  \n",
       "63435              8  \n",
       "63436              7  \n",
       "63437              7  \n",
       "\n",
       "[24965 rows x 6 columns]"
      ]
     },
     "execution_count": 32,
     "metadata": {},
     "output_type": "execute_result"
    }
   ],
   "source": [
    "ds.loc[ds['stress'] == 2]"
   ]
  },
  {
   "cell_type": "markdown",
   "id": "dff76882-c913-4f41-b7c8-c3fc9a613d89",
   "metadata": {},
   "source": [
    "## Балансировка даных в ручную"
   ]
  },
  {
   "cell_type": "markdown",
   "id": "d498f99d-1a6f-4689-a2f9-3340486189e2",
   "metadata": {},
   "source": [
    "## Unsamplyng"
   ]
  },
  {
   "cell_type": "code",
   "execution_count": 33,
   "id": "1aeaf9ae-ed99-4ac5-a5b3-68040aa1f09f",
   "metadata": {},
   "outputs": [
    {
     "data": {
      "text/html": [
       "<div>\n",
       "<style scoped>\n",
       "    .dataframe tbody tr th:only-of-type {\n",
       "        vertical-align: middle;\n",
       "    }\n",
       "\n",
       "    .dataframe tbody tr th {\n",
       "        vertical-align: top;\n",
       "    }\n",
       "\n",
       "    .dataframe thead th {\n",
       "        text-align: right;\n",
       "    }\n",
       "</style>\n",
       "<table border=\"1\" class=\"dataframe\">\n",
       "  <thead>\n",
       "    <tr style=\"text-align: right;\">\n",
       "      <th></th>\n",
       "      <th>word</th>\n",
       "      <th>stress</th>\n",
       "      <th>num_syllables</th>\n",
       "      <th>lemma</th>\n",
       "      <th>words_lenght</th>\n",
       "      <th>lemmas_lenght</th>\n",
       "    </tr>\n",
       "    <tr>\n",
       "      <th>id</th>\n",
       "      <th></th>\n",
       "      <th></th>\n",
       "      <th></th>\n",
       "      <th></th>\n",
       "      <th></th>\n",
       "      <th></th>\n",
       "    </tr>\n",
       "  </thead>\n",
       "  <tbody>\n",
       "    <tr>\n",
       "      <th>360</th>\n",
       "      <td>яшка</td>\n",
       "      <td>2</td>\n",
       "      <td>2</td>\n",
       "      <td>яшка</td>\n",
       "      <td>4</td>\n",
       "      <td>4</td>\n",
       "    </tr>\n",
       "  </tbody>\n",
       "</table>\n",
       "</div>"
      ],
      "text/plain": [
       "     word  stress  num_syllables lemma  words_lenght  lemmas_lenght\n",
       "id                                                                 \n",
       "360  яшка       2              2  яшка             4              4"
      ]
     },
     "execution_count": 33,
     "metadata": {},
     "output_type": "execute_result"
    }
   ],
   "source": [
    "ds.loc[ds['lemma'] == 'яшка']"
   ]
  },
  {
   "cell_type": "code",
   "execution_count": 34,
   "id": "ee67ec15-ae9b-4d6c-bd3c-d1dcfd742aaf",
   "metadata": {},
   "outputs": [
    {
     "data": {
      "text/html": [
       "<div>\n",
       "<style scoped>\n",
       "    .dataframe tbody tr th:only-of-type {\n",
       "        vertical-align: middle;\n",
       "    }\n",
       "\n",
       "    .dataframe tbody tr th {\n",
       "        vertical-align: top;\n",
       "    }\n",
       "\n",
       "    .dataframe thead th {\n",
       "        text-align: right;\n",
       "    }\n",
       "</style>\n",
       "<table border=\"1\" class=\"dataframe\">\n",
       "  <thead>\n",
       "    <tr style=\"text-align: right;\">\n",
       "      <th></th>\n",
       "      <th>word</th>\n",
       "      <th>stress</th>\n",
       "      <th>num_syllables</th>\n",
       "      <th>lemma</th>\n",
       "      <th>words_lenght</th>\n",
       "      <th>lemmas_lenght</th>\n",
       "    </tr>\n",
       "    <tr>\n",
       "      <th>id</th>\n",
       "      <th></th>\n",
       "      <th></th>\n",
       "      <th></th>\n",
       "      <th></th>\n",
       "      <th></th>\n",
       "      <th></th>\n",
       "    </tr>\n",
       "  </thead>\n",
       "  <tbody>\n",
       "  </tbody>\n",
       "</table>\n",
       "</div>"
      ],
      "text/plain": [
       "Empty DataFrame\n",
       "Columns: [word, stress, num_syllables, lemma, words_lenght, lemmas_lenght]\n",
       "Index: []"
      ]
     },
     "execution_count": 34,
     "metadata": {},
     "output_type": "execute_result"
    }
   ],
   "source": [
    "df_empty = ds[0:0]\n",
    "df_empty"
   ]
  },
  {
   "cell_type": "raw",
   "id": "c416f9c5-3956-4309-af96-6e7c77e0c8b7",
   "metadata": {},
   "source": [
    "Undersample 2 class"
   ]
  },
  {
   "cell_type": "code",
   "execution_count": 35,
   "id": "b31d10cc-7b62-455d-be2e-8815d6730388",
   "metadata": {},
   "outputs": [
    {
     "data": {
      "text/plain": [
       "9808"
      ]
     },
     "execution_count": 35,
     "metadata": {},
     "output_type": "execute_result"
    }
   ],
   "source": [
    "uniq_lemma_2 = np.unique(ds.loc[ds['stress'] == 2]['lemma'])\n",
    "len(uniq_lemma_2)"
   ]
  },
  {
   "cell_type": "code",
   "execution_count": 36,
   "id": "0f4fb2d5-742f-47a1-943f-66c6d79a2dbf",
   "metadata": {},
   "outputs": [],
   "source": [
    "nds_2 = df_empty"
   ]
  },
  {
   "cell_type": "code",
   "execution_count": 37,
   "id": "56e07be7-c9a8-4fad-ab5e-a81e81205a7e",
   "metadata": {},
   "outputs": [
    {
     "data": {
      "text/html": [
       "<div>\n",
       "<style scoped>\n",
       "    .dataframe tbody tr th:only-of-type {\n",
       "        vertical-align: middle;\n",
       "    }\n",
       "\n",
       "    .dataframe tbody tr th {\n",
       "        vertical-align: top;\n",
       "    }\n",
       "\n",
       "    .dataframe thead th {\n",
       "        text-align: right;\n",
       "    }\n",
       "</style>\n",
       "<table border=\"1\" class=\"dataframe\">\n",
       "  <thead>\n",
       "    <tr style=\"text-align: right;\">\n",
       "      <th></th>\n",
       "      <th>word</th>\n",
       "      <th>stress</th>\n",
       "      <th>num_syllables</th>\n",
       "      <th>lemma</th>\n",
       "      <th>words_lenght</th>\n",
       "      <th>lemmas_lenght</th>\n",
       "    </tr>\n",
       "  </thead>\n",
       "  <tbody>\n",
       "    <tr>\n",
       "      <th>0</th>\n",
       "      <td>аббас</td>\n",
       "      <td>2</td>\n",
       "      <td>2</td>\n",
       "      <td>аббас</td>\n",
       "      <td>5</td>\n",
       "      <td>5</td>\n",
       "    </tr>\n",
       "    <tr>\n",
       "      <th>1</th>\n",
       "      <td>аббата</td>\n",
       "      <td>2</td>\n",
       "      <td>3</td>\n",
       "      <td>аббат</td>\n",
       "      <td>6</td>\n",
       "      <td>5</td>\n",
       "    </tr>\n",
       "    <tr>\n",
       "      <th>2</th>\n",
       "      <td>аббатства</td>\n",
       "      <td>2</td>\n",
       "      <td>3</td>\n",
       "      <td>аббатство</td>\n",
       "      <td>9</td>\n",
       "      <td>9</td>\n",
       "    </tr>\n",
       "    <tr>\n",
       "      <th>3</th>\n",
       "      <td>абдул</td>\n",
       "      <td>2</td>\n",
       "      <td>2</td>\n",
       "      <td>абдул</td>\n",
       "      <td>5</td>\n",
       "      <td>5</td>\n",
       "    </tr>\n",
       "    <tr>\n",
       "      <th>4</th>\n",
       "      <td>абзацем</td>\n",
       "      <td>2</td>\n",
       "      <td>3</td>\n",
       "      <td>абзац</td>\n",
       "      <td>7</td>\n",
       "      <td>5</td>\n",
       "    </tr>\n",
       "    <tr>\n",
       "      <th>...</th>\n",
       "      <td>...</td>\n",
       "      <td>...</td>\n",
       "      <td>...</td>\n",
       "      <td>...</td>\n",
       "      <td>...</td>\n",
       "      <td>...</td>\n",
       "    </tr>\n",
       "    <tr>\n",
       "      <th>9803</th>\n",
       "      <td>ясны</td>\n",
       "      <td>2</td>\n",
       "      <td>2</td>\n",
       "      <td>ясный</td>\n",
       "      <td>4</td>\n",
       "      <td>5</td>\n",
       "    </tr>\n",
       "    <tr>\n",
       "      <th>9804</th>\n",
       "      <td>ясон</td>\n",
       "      <td>2</td>\n",
       "      <td>2</td>\n",
       "      <td>ясон</td>\n",
       "      <td>4</td>\n",
       "      <td>4</td>\n",
       "    </tr>\n",
       "    <tr>\n",
       "      <th>9805</th>\n",
       "      <td>ячейка</td>\n",
       "      <td>2</td>\n",
       "      <td>3</td>\n",
       "      <td>ячейка</td>\n",
       "      <td>6</td>\n",
       "      <td>6</td>\n",
       "    </tr>\n",
       "    <tr>\n",
       "      <th>9806</th>\n",
       "      <td>ячмень</td>\n",
       "      <td>2</td>\n",
       "      <td>2</td>\n",
       "      <td>ячмень</td>\n",
       "      <td>6</td>\n",
       "      <td>6</td>\n",
       "    </tr>\n",
       "    <tr>\n",
       "      <th>9807</th>\n",
       "      <td>яшка</td>\n",
       "      <td>2</td>\n",
       "      <td>2</td>\n",
       "      <td>яшка</td>\n",
       "      <td>4</td>\n",
       "      <td>4</td>\n",
       "    </tr>\n",
       "  </tbody>\n",
       "</table>\n",
       "<p>9808 rows × 6 columns</p>\n",
       "</div>"
      ],
      "text/plain": [
       "           word  stress  num_syllables      lemma  words_lenght  lemmas_lenght\n",
       "0         аббас       2              2      аббас             5              5\n",
       "1        аббата       2              3      аббат             6              5\n",
       "2     аббатства       2              3  аббатство             9              9\n",
       "3         абдул       2              2      абдул             5              5\n",
       "4       абзацем       2              3      абзац             7              5\n",
       "...         ...     ...            ...        ...           ...            ...\n",
       "9803       ясны       2              2      ясный             4              5\n",
       "9804       ясон       2              2       ясон             4              4\n",
       "9805     ячейка       2              3     ячейка             6              6\n",
       "9806     ячмень       2              2     ячмень             6              6\n",
       "9807       яшка       2              2       яшка             4              4\n",
       "\n",
       "[9808 rows x 6 columns]"
      ]
     },
     "execution_count": 37,
     "metadata": {},
     "output_type": "execute_result"
    }
   ],
   "source": [
    "for uniq_lemma in uniq_lemma_2:\n",
    "    one_uniq_lemmas_word = ds.loc[(ds['lemma'] == uniq_lemma) & (ds['stress'] == 2)].sample(1)\n",
    "    nds_2 = pd.concat([nds_2, one_uniq_lemmas_word], ignore_index=True, axis=0)\n",
    "nds_2.reset_index(drop=True)"
   ]
  },
  {
   "cell_type": "raw",
   "id": "c7a0f05c-e419-4bd2-8aef-5376a56450fc",
   "metadata": {},
   "source": [
    "Undersample 3 class"
   ]
  },
  {
   "cell_type": "code",
   "execution_count": 38,
   "id": "9811041c-fee1-4be1-97cd-a872af814202",
   "metadata": {},
   "outputs": [
    {
     "data": {
      "text/plain": [
       "7158"
      ]
     },
     "execution_count": 38,
     "metadata": {},
     "output_type": "execute_result"
    }
   ],
   "source": [
    "uniq_lemma_3 = np.unique(ds.loc[ds['stress'] == 3]['lemma'])\n",
    "len(uniq_lemma_3)"
   ]
  },
  {
   "cell_type": "code",
   "execution_count": 39,
   "id": "13e28bcd-add4-490e-8ae7-4eb2cfb44a42",
   "metadata": {},
   "outputs": [],
   "source": [
    "nds_3 = df_empty"
   ]
  },
  {
   "cell_type": "code",
   "execution_count": 40,
   "id": "a6dc7c11-44a2-47ff-8a07-085e5538f2a8",
   "metadata": {},
   "outputs": [
    {
     "data": {
      "text/html": [
       "<div>\n",
       "<style scoped>\n",
       "    .dataframe tbody tr th:only-of-type {\n",
       "        vertical-align: middle;\n",
       "    }\n",
       "\n",
       "    .dataframe tbody tr th {\n",
       "        vertical-align: top;\n",
       "    }\n",
       "\n",
       "    .dataframe thead th {\n",
       "        text-align: right;\n",
       "    }\n",
       "</style>\n",
       "<table border=\"1\" class=\"dataframe\">\n",
       "  <thead>\n",
       "    <tr style=\"text-align: right;\">\n",
       "      <th></th>\n",
       "      <th>word</th>\n",
       "      <th>stress</th>\n",
       "      <th>num_syllables</th>\n",
       "      <th>lemma</th>\n",
       "      <th>words_lenght</th>\n",
       "      <th>lemmas_lenght</th>\n",
       "    </tr>\n",
       "  </thead>\n",
       "  <tbody>\n",
       "    <tr>\n",
       "      <th>0</th>\n",
       "      <td>аарон</td>\n",
       "      <td>3</td>\n",
       "      <td>3</td>\n",
       "      <td>аарон</td>\n",
       "      <td>5</td>\n",
       "      <td>5</td>\n",
       "    </tr>\n",
       "    <tr>\n",
       "      <th>1</th>\n",
       "      <td>абажуром</td>\n",
       "      <td>3</td>\n",
       "      <td>4</td>\n",
       "      <td>абажур</td>\n",
       "      <td>8</td>\n",
       "      <td>6</td>\n",
       "    </tr>\n",
       "    <tr>\n",
       "      <th>2</th>\n",
       "      <td>абаза</td>\n",
       "      <td>3</td>\n",
       "      <td>3</td>\n",
       "      <td>абаз</td>\n",
       "      <td>5</td>\n",
       "      <td>4</td>\n",
       "    </tr>\n",
       "    <tr>\n",
       "      <th>3</th>\n",
       "      <td>абганерово</td>\n",
       "      <td>3</td>\n",
       "      <td>5</td>\n",
       "      <td>абганерово</td>\n",
       "      <td>10</td>\n",
       "      <td>10</td>\n",
       "    </tr>\n",
       "    <tr>\n",
       "      <th>4</th>\n",
       "      <td>абдула</td>\n",
       "      <td>3</td>\n",
       "      <td>3</td>\n",
       "      <td>абдул</td>\n",
       "      <td>6</td>\n",
       "      <td>5</td>\n",
       "    </tr>\n",
       "    <tr>\n",
       "      <th>...</th>\n",
       "      <td>...</td>\n",
       "      <td>...</td>\n",
       "      <td>...</td>\n",
       "      <td>...</td>\n",
       "      <td>...</td>\n",
       "      <td>...</td>\n",
       "    </tr>\n",
       "    <tr>\n",
       "      <th>7153</th>\n",
       "      <td>ясновидящая</td>\n",
       "      <td>3</td>\n",
       "      <td>6</td>\n",
       "      <td>ясновидящая</td>\n",
       "      <td>11</td>\n",
       "      <td>11</td>\n",
       "    </tr>\n",
       "    <tr>\n",
       "      <th>7154</th>\n",
       "      <td>ясновидящие</td>\n",
       "      <td>3</td>\n",
       "      <td>6</td>\n",
       "      <td>ясновидящий</td>\n",
       "      <td>11</td>\n",
       "      <td>11</td>\n",
       "    </tr>\n",
       "    <tr>\n",
       "      <th>7155</th>\n",
       "      <td>ясногорск</td>\n",
       "      <td>3</td>\n",
       "      <td>3</td>\n",
       "      <td>ясногорск</td>\n",
       "      <td>9</td>\n",
       "      <td>9</td>\n",
       "    </tr>\n",
       "    <tr>\n",
       "      <th>7156</th>\n",
       "      <td>ястребов</td>\n",
       "      <td>3</td>\n",
       "      <td>3</td>\n",
       "      <td>ястреб</td>\n",
       "      <td>8</td>\n",
       "      <td>6</td>\n",
       "    </tr>\n",
       "    <tr>\n",
       "      <th>7157</th>\n",
       "      <td>ячменя</td>\n",
       "      <td>3</td>\n",
       "      <td>3</td>\n",
       "      <td>ячмень</td>\n",
       "      <td>6</td>\n",
       "      <td>6</td>\n",
       "    </tr>\n",
       "  </tbody>\n",
       "</table>\n",
       "<p>7158 rows × 6 columns</p>\n",
       "</div>"
      ],
      "text/plain": [
       "             word  stress  num_syllables        lemma  words_lenght  \\\n",
       "0           аарон       3              3        аарон             5   \n",
       "1        абажуром       3              4       абажур             8   \n",
       "2           абаза       3              3         абаз             5   \n",
       "3      абганерово       3              5   абганерово            10   \n",
       "4          абдула       3              3        абдул             6   \n",
       "...           ...     ...            ...          ...           ...   \n",
       "7153  ясновидящая       3              6  ясновидящая            11   \n",
       "7154  ясновидящие       3              6  ясновидящий            11   \n",
       "7155    ясногорск       3              3    ясногорск             9   \n",
       "7156     ястребов       3              3       ястреб             8   \n",
       "7157       ячменя       3              3       ячмень             6   \n",
       "\n",
       "      lemmas_lenght  \n",
       "0                 5  \n",
       "1                 6  \n",
       "2                 4  \n",
       "3                10  \n",
       "4                 5  \n",
       "...             ...  \n",
       "7153             11  \n",
       "7154             11  \n",
       "7155              9  \n",
       "7156              6  \n",
       "7157              6  \n",
       "\n",
       "[7158 rows x 6 columns]"
      ]
     },
     "execution_count": 40,
     "metadata": {},
     "output_type": "execute_result"
    }
   ],
   "source": [
    "for uniq_lemma in uniq_lemma_3:\n",
    "    one_uniq_lemmas_word = ds.loc[(ds['lemma'] == uniq_lemma) & (ds['stress'] == 3)].sample(1)\n",
    "    nds_3 = pd.concat([nds_3, one_uniq_lemmas_word], ignore_index=True, axis=0)\n",
    "nds_3.reset_index(drop=True)"
   ]
  },
  {
   "cell_type": "markdown",
   "id": "d880993e-2b88-4316-a8b7-3d97a1ed70c4",
   "metadata": {},
   "source": [
    "## Create a 1 class datas"
   ]
  },
  {
   "cell_type": "code",
   "execution_count": 41,
   "id": "0d97eb8d-a949-4cdb-8369-083e69593e6d",
   "metadata": {},
   "outputs": [
    {
     "data": {
      "text/plain": [
       "5827"
      ]
     },
     "execution_count": 41,
     "metadata": {},
     "output_type": "execute_result"
    }
   ],
   "source": [
    "uniq_lemma_1 = np.unique(ds.loc[ds['stress'] == 1]['lemma'])\n",
    "len(uniq_lemma_1)"
   ]
  },
  {
   "cell_type": "raw",
   "id": "e3ca432e-05a8-401a-b5ce-b831311ffb3d",
   "metadata": {},
   "source": [
    "Берем по 2 примера 1 класса для колличества"
   ]
  },
  {
   "cell_type": "code",
   "execution_count": 42,
   "id": "7b182ca9-50a3-4739-9c66-6cc4e122e687",
   "metadata": {},
   "outputs": [],
   "source": [
    "nds_1 = df_empty"
   ]
  },
  {
   "cell_type": "code",
   "execution_count": 43,
   "id": "ac43b56e-bb54-4d1f-bd00-a6b85c9e2793",
   "metadata": {},
   "outputs": [
    {
     "data": {
      "text/html": [
       "<div>\n",
       "<style scoped>\n",
       "    .dataframe tbody tr th:only-of-type {\n",
       "        vertical-align: middle;\n",
       "    }\n",
       "\n",
       "    .dataframe tbody tr th {\n",
       "        vertical-align: top;\n",
       "    }\n",
       "\n",
       "    .dataframe thead th {\n",
       "        text-align: right;\n",
       "    }\n",
       "</style>\n",
       "<table border=\"1\" class=\"dataframe\">\n",
       "  <thead>\n",
       "    <tr style=\"text-align: right;\">\n",
       "      <th></th>\n",
       "      <th>word</th>\n",
       "      <th>stress</th>\n",
       "      <th>num_syllables</th>\n",
       "      <th>lemma</th>\n",
       "      <th>words_lenght</th>\n",
       "      <th>lemmas_lenght</th>\n",
       "    </tr>\n",
       "  </thead>\n",
       "  <tbody>\n",
       "    <tr>\n",
       "      <th>0</th>\n",
       "      <td>абхазия</td>\n",
       "      <td>1</td>\n",
       "      <td>4</td>\n",
       "      <td>абхазия</td>\n",
       "      <td>7</td>\n",
       "      <td>7</td>\n",
       "    </tr>\n",
       "    <tr>\n",
       "      <th>1</th>\n",
       "      <td>абхазию</td>\n",
       "      <td>1</td>\n",
       "      <td>4</td>\n",
       "      <td>абхазия</td>\n",
       "      <td>7</td>\n",
       "      <td>7</td>\n",
       "    </tr>\n",
       "    <tr>\n",
       "      <th>2</th>\n",
       "      <td>абэ</td>\n",
       "      <td>1</td>\n",
       "      <td>2</td>\n",
       "      <td>абэ</td>\n",
       "      <td>3</td>\n",
       "      <td>3</td>\n",
       "    </tr>\n",
       "    <tr>\n",
       "      <th>3</th>\n",
       "      <td>авва</td>\n",
       "      <td>1</td>\n",
       "      <td>2</td>\n",
       "      <td>авва</td>\n",
       "      <td>4</td>\n",
       "      <td>4</td>\n",
       "    </tr>\n",
       "    <tr>\n",
       "      <th>4</th>\n",
       "      <td>августу</td>\n",
       "      <td>1</td>\n",
       "      <td>3</td>\n",
       "      <td>август</td>\n",
       "      <td>7</td>\n",
       "      <td>6</td>\n",
       "    </tr>\n",
       "    <tr>\n",
       "      <th>...</th>\n",
       "      <td>...</td>\n",
       "      <td>...</td>\n",
       "      <td>...</td>\n",
       "      <td>...</td>\n",
       "      <td>...</td>\n",
       "      <td>...</td>\n",
       "    </tr>\n",
       "    <tr>\n",
       "      <th>8880</th>\n",
       "      <td>ящера</td>\n",
       "      <td>1</td>\n",
       "      <td>3</td>\n",
       "      <td>ящер</td>\n",
       "      <td>5</td>\n",
       "      <td>4</td>\n",
       "    </tr>\n",
       "    <tr>\n",
       "      <th>8881</th>\n",
       "      <td>ящерица</td>\n",
       "      <td>1</td>\n",
       "      <td>4</td>\n",
       "      <td>ящерица</td>\n",
       "      <td>7</td>\n",
       "      <td>7</td>\n",
       "    </tr>\n",
       "    <tr>\n",
       "      <th>8882</th>\n",
       "      <td>ящериц</td>\n",
       "      <td>1</td>\n",
       "      <td>3</td>\n",
       "      <td>ящерица</td>\n",
       "      <td>6</td>\n",
       "      <td>7</td>\n",
       "    </tr>\n",
       "    <tr>\n",
       "      <th>8883</th>\n",
       "      <td>ящиков</td>\n",
       "      <td>1</td>\n",
       "      <td>3</td>\n",
       "      <td>ящик</td>\n",
       "      <td>6</td>\n",
       "      <td>4</td>\n",
       "    </tr>\n",
       "    <tr>\n",
       "      <th>8884</th>\n",
       "      <td>ящикам</td>\n",
       "      <td>1</td>\n",
       "      <td>3</td>\n",
       "      <td>ящик</td>\n",
       "      <td>6</td>\n",
       "      <td>4</td>\n",
       "    </tr>\n",
       "  </tbody>\n",
       "</table>\n",
       "<p>8885 rows × 6 columns</p>\n",
       "</div>"
      ],
      "text/plain": [
       "         word  stress  num_syllables    lemma  words_lenght  lemmas_lenght\n",
       "0     абхазия       1              4  абхазия             7              7\n",
       "1     абхазию       1              4  абхазия             7              7\n",
       "2         абэ       1              2      абэ             3              3\n",
       "3        авва       1              2     авва             4              4\n",
       "4     августу       1              3   август             7              6\n",
       "...       ...     ...            ...      ...           ...            ...\n",
       "8880    ящера       1              3     ящер             5              4\n",
       "8881  ящерица       1              4  ящерица             7              7\n",
       "8882   ящериц       1              3  ящерица             6              7\n",
       "8883   ящиков       1              3     ящик             6              4\n",
       "8884   ящикам       1              3     ящик             6              4\n",
       "\n",
       "[8885 rows x 6 columns]"
      ]
     },
     "execution_count": 43,
     "metadata": {},
     "output_type": "execute_result"
    }
   ],
   "source": [
    "for uniq_lemma in uniq_lemma_1:\n",
    "    try:\n",
    "        one_uniq_lemmas_word = ds.loc[(ds['lemma'] == uniq_lemma) & (ds['stress'] == 1)].sample(2)\n",
    "    except ValueError:\n",
    "        one_uniq_lemmas_word = ds.loc[(ds['lemma'] == uniq_lemma) & (ds['stress'] == 1)].sample(1)\n",
    "    nds_1 = pd.concat([nds_1, one_uniq_lemmas_word], ignore_index=True, axis=0)\n",
    "nds_1.reset_index(drop=True)"
   ]
  },
  {
   "cell_type": "raw",
   "id": "9fbbaed0-0121-45c8-b208-71b7bfbb1233",
   "metadata": {},
   "source": [
    "words_with_1_s = ds.loc[ds['stress'] == 1].reset_index(drop=True)"
   ]
  },
  {
   "cell_type": "markdown",
   "id": "6cfbafa9-c509-4eed-9e2f-b7e6b07f1f1c",
   "metadata": {},
   "source": [
    "## Create new DS with 1 and new 2 and 3 classes"
   ]
  },
  {
   "cell_type": "code",
   "execution_count": 44,
   "id": "71aee6b0-04d4-48d7-8fc0-d5b4b361feda",
   "metadata": {},
   "outputs": [],
   "source": [
    "nds = pd.concat([nds_1, nds_2, nds_3], ignore_index=True, axis=0)\n",
    "nds = nds.reset_index(drop=True)"
   ]
  },
  {
   "cell_type": "markdown",
   "id": "88e775ee-3a20-4a17-a1ff-560b085b7b0f",
   "metadata": {},
   "source": [
    "## Oversampling"
   ]
  },
  {
   "cell_type": "code",
   "execution_count": 45,
   "id": "2138910f-cb94-4c0f-9515-799ece66f4de",
   "metadata": {},
   "outputs": [],
   "source": [
    "words_with_4_s = ds.loc[ds['stress'] == 4].reset_index(drop=True)\n",
    "for _ in range(0, int(10000/len(words_with_4_s))):\n",
    "    nds = pd.concat([nds, words_with_4_s], ignore_index=True, axis=0)\n",
    "    nds.reset_index(drop=True)"
   ]
  },
  {
   "cell_type": "markdown",
   "id": "49f87570-4ba7-4c45-83b9-2ec7748e3f51",
   "metadata": {},
   "source": [
    "## Попробуем обойтись на 5 и 6 классы простым указанием весов классов"
   ]
  },
  {
   "cell_type": "code",
   "execution_count": 46,
   "id": "e0def568-19c7-49db-b9c9-2d009703a04f",
   "metadata": {},
   "outputs": [],
   "source": [
    "words_with_5_s = ds.loc[ds['stress'] == 5].reset_index(drop=True)"
   ]
  },
  {
   "cell_type": "code",
   "execution_count": 47,
   "id": "e6e94245-a2dc-4b04-bb27-4350c473c49c",
   "metadata": {},
   "outputs": [],
   "source": [
    "words_with_6_s = ds.loc[ds['stress'] == 6].reset_index(drop=True)"
   ]
  },
  {
   "cell_type": "code",
   "execution_count": 48,
   "id": "c6c752c0-2f57-431d-a28c-5dbb5b2c00c6",
   "metadata": {},
   "outputs": [],
   "source": [
    "nds = pd.concat([nds, words_with_5_s, words_with_6_s], ignore_index=True, axis=0)\n",
    "nds = nds.reset_index(drop=True)"
   ]
  },
  {
   "cell_type": "code",
   "execution_count": 49,
   "id": "b9633c25-54eb-43d9-8439-77531af31c58",
   "metadata": {},
   "outputs": [],
   "source": [
    "words_with_5_s = ds.loc[ds['stress'] == 5].reset_index(drop=True)\n",
    "for _ in range(0, int(10000/len(words_with_5_s))):\n",
    "    nds = pd.concat([nds, words_with_5_s], ignore_index=True, axis=0)\n",
    "    nds.reset_index(drop=True)"
   ]
  },
  {
   "cell_type": "code",
   "execution_count": 50,
   "id": "53868307-7d5f-486e-8610-11eefa4f1753",
   "metadata": {},
   "outputs": [],
   "source": [
    "words_with_6_s = ds.loc[ds['stress'] == 6].reset_index(drop=True)\n",
    "for _ in range(0, int(10000/len(words_with_6_s))):\n",
    "    nds = pd.concat([nds, words_with_6_s], ignore_index=True, axis=0)\n",
    "    nds.reset_index(drop=True)"
   ]
  },
  {
   "cell_type": "code",
   "execution_count": 51,
   "id": "72641764-47af-4393-8f27-8d85cb52cd7b",
   "metadata": {},
   "outputs": [
    {
     "data": {
      "text/plain": [
       "<Axes: ylabel='Count'>"
      ]
     },
     "execution_count": 51,
     "metadata": {},
     "output_type": "execute_result"
    },
    {
     "data": {
      "image/png": "[encoded data removed]",
      "text/plain": [
       "<Figure size 640x480 with 1 Axes>"
      ]
     },
     "metadata": {},
     "output_type": "display_data"
    }
   ],
   "source": [
    "sns.histplot(data = {\"stress\": nds['stress']}, \n",
    "             kde=True)"
   ]
  },
  {
   "cell_type": "code",
   "execution_count": 75,
   "id": "afa8e9e2-c0bd-4b2c-adaa-b6855a4ccfdd",
   "metadata": {},
   "outputs": [
    {
     "data": {
      "text/plain": [
       "<Axes: ylabel='Count'>"
      ]
     },
     "execution_count": 75,
     "metadata": {},
     "output_type": "execute_result"
    },
    {
     "data": {
      "image/png": "[encoded data removed]",
      "text/plain": [
       "<Figure size 640x480 with 1 Axes>"
      ]
     },
     "metadata": {},
     "output_type": "display_data"
    }
   ],
   "source": [
    "sns.histplot(data = {\"words_lenght\": nds['words_lenght']}, \n",
    "             kde=True)"
   ]
  },
  {
   "cell_type": "code",
   "execution_count": 76,
   "id": "05a66e52-dbdd-4def-b940-21b2ae0f38eb",
   "metadata": {},
   "outputs": [
    {
     "data": {
      "text/html": [
       "<div>\n",
       "<style scoped>\n",
       "    .dataframe tbody tr th:only-of-type {\n",
       "        vertical-align: middle;\n",
       "    }\n",
       "\n",
       "    .dataframe tbody tr th {\n",
       "        vertical-align: top;\n",
       "    }\n",
       "\n",
       "    .dataframe thead th {\n",
       "        text-align: right;\n",
       "    }\n",
       "</style>\n",
       "<table border=\"1\" class=\"dataframe\">\n",
       "  <thead>\n",
       "    <tr style=\"text-align: right;\">\n",
       "      <th></th>\n",
       "      <th>word</th>\n",
       "      <th>stress</th>\n",
       "      <th>num_syllables</th>\n",
       "      <th>lemma</th>\n",
       "      <th>words_lenght</th>\n",
       "      <th>lemmas_lenght</th>\n",
       "    </tr>\n",
       "  </thead>\n",
       "  <tbody>\n",
       "    <tr>\n",
       "      <th>5</th>\n",
       "      <td>августовского</td>\n",
       "      <td>1</td>\n",
       "      <td>5</td>\n",
       "      <td>августовский</td>\n",
       "      <td>13</td>\n",
       "      <td>12</td>\n",
       "    </tr>\n",
       "    <tr>\n",
       "      <th>105</th>\n",
       "      <td>архангельском</td>\n",
       "      <td>1</td>\n",
       "      <td>4</td>\n",
       "      <td>архангельский</td>\n",
       "      <td>13</td>\n",
       "      <td>13</td>\n",
       "    </tr>\n",
       "    <tr>\n",
       "      <th>...</th>\n",
       "      <td>...</td>\n",
       "      <td>...</td>\n",
       "      <td>...</td>\n",
       "      <td>...</td>\n",
       "      <td>...</td>\n",
       "      <td>...</td>\n",
       "    </tr>\n",
       "    <tr>\n",
       "      <th>108763</th>\n",
       "      <td>академгородок</td>\n",
       "      <td>6</td>\n",
       "      <td>6</td>\n",
       "      <td>академгородок</td>\n",
       "      <td>13</td>\n",
       "      <td>13</td>\n",
       "    </tr>\n",
       "    <tr>\n",
       "      <th>108765</th>\n",
       "      <td>переименовать</td>\n",
       "      <td>6</td>\n",
       "      <td>6</td>\n",
       "      <td>переименовывать</td>\n",
       "      <td>13</td>\n",
       "      <td>15</td>\n",
       "    </tr>\n",
       "  </tbody>\n",
       "</table>\n",
       "<p>16536 rows × 6 columns</p>\n",
       "</div>"
      ],
      "text/plain": [
       "                 word  stress  num_syllables            lemma  words_lenght  \\\n",
       "5       августовского       1              5     августовский            13   \n",
       "105     архангельском       1              4    архангельский            13   \n",
       "...               ...     ...            ...              ...           ...   \n",
       "108763  академгородок       6              6    академгородок            13   \n",
       "108765  переименовать       6              6  переименовывать            13   \n",
       "\n",
       "        lemmas_lenght  \n",
       "5                  12  \n",
       "105                13  \n",
       "...               ...  \n",
       "108763             13  \n",
       "108765             15  \n",
       "\n",
       "[16536 rows x 6 columns]"
      ]
     },
     "execution_count": 76,
     "metadata": {},
     "output_type": "execute_result"
    }
   ],
   "source": [
    "nds.loc[nds['words_lenght'] == 13]"
   ]
  },
  {
   "cell_type": "raw",
   "id": "46e7ad5f-f217-4f8d-9f80-bfc6b21f2c93",
   "metadata": {},
   "source": [
    "Было принято опасное решение удалить эти данные, так как их крайне мало"
   ]
  },
  {
   "cell_type": "raw",
   "id": "3b0a4b13-c60d-4822-9913-c4a0bff3c500",
   "metadata": {},
   "source": [
    "ds = ds.drop(index=bad_words_4.index, axis=1)"
   ]
  },
  {
   "cell_type": "raw",
   "id": "4256512c-0882-4fb4-bd26-2a3c6a091309",
   "metadata": {},
   "source": [
    "ds = ds.drop(index=bad_words_5.index, axis=1)"
   ]
  },
  {
   "cell_type": "raw",
   "id": "b6f0d3e8-928b-40f9-a1b3-07512fb8d03a",
   "metadata": {},
   "source": [
    "ds = ds.drop(index=bad_words_6.index, axis=1)"
   ]
  },
  {
   "cell_type": "raw",
   "id": "ad233a6a-12bb-40db-a78d-040b7f813232",
   "metadata": {},
   "source": [
    "words_with_1_s = ds.loc[ds['stress'] == 1]\n",
    "ds = pd.concat([ds, words_with_1_s.sample(int(15000 - len(words_with_1_s)))], ignore_index=True, axis=0)\n",
    "ds.reset_index(drop=True)"
   ]
  },
  {
   "cell_type": "raw",
   "id": "68fad727-01af-41f0-a12c-04a5cda41754",
   "metadata": {},
   "source": [
    "Удалим случайные слова из многочисленных случаев"
   ]
  },
  {
   "cell_type": "raw",
   "id": "66e786c1-4f5d-4075-9626-376c8f2a9ccf",
   "metadata": {},
   "source": [
    "words_with_2_s = ds.loc[ds['stress'] == 2]\n",
    "ids = words_with_2_s.sample(int(m.sqrt((len(words_with_2_s) - 15000)**2))).index\n",
    "ds = ds.drop(index=ids, axis=1)\n",
    "ds.reset_index(drop=True)"
   ]
  },
  {
   "cell_type": "raw",
   "id": "f68cb034-2448-4934-8da9-e5ea8f5e4ff1",
   "metadata": {},
   "source": [
    "words_with_3_s = ds.loc[ds['stress'] == 3]\n",
    "ids = words_with_3_s.sample(int(m.sqrt((len(words_with_3_s) - 15000)**2))).index\n",
    "ds = ds.drop(index=ids, axis=1)\n",
    "ds.reset_index(drop=True)"
   ]
  },
  {
   "cell_type": "raw",
   "id": "a2dcb818-0736-4132-bf0e-dd38d2db804a",
   "metadata": {},
   "source": [
    "words_with_4_s = ds.loc[ds['stress'] == 4]\n",
    "ids = words_with_4_s.sample(int(m.sqrt((len(words_with_4_s) - 15000)**2))).index\n",
    "ds = ds.drop(index=ids, axis=1)\n",
    "ds.reset_index(drop=True)"
   ]
  },
  {
   "cell_type": "code",
   "execution_count": null,
   "id": "c2f16778-fc83-4c23-a427-20558d782dcc",
   "metadata": {},
   "outputs": [],
   "source": []
  },
  {
   "cell_type": "raw",
   "id": "db18f118-8990-41df-a12f-987c676b0b20",
   "metadata": {},
   "source": [
    "sns.histplot(data = {\"stress\": ds['stress']}, \n",
    "             kde=True)"
   ]
  },
  {
   "cell_type": "code",
   "execution_count": null,
   "id": "950a9a01-d89a-4149-abbc-a4441174f29d",
   "metadata": {},
   "outputs": [],
   "source": []
  },
  {
   "cell_type": "raw",
   "id": "6e2fd780-5790-42a1-9ac3-105074783e85",
   "metadata": {},
   "source": [
    "ds = ds.drop(index=three_letters_words.index, axis=1)"
   ]
  },
  {
   "cell_type": "code",
   "execution_count": 53,
   "id": "50319068-e89e-4a5b-ac04-e4d299c6e2cd",
   "metadata": {},
   "outputs": [],
   "source": [
    "pd.set_option('display.max_rows', 5)"
   ]
  },
  {
   "cell_type": "raw",
   "id": "f1c107f7-46ca-458b-883f-004acbcd58dc",
   "metadata": {},
   "source": [
    "ds.loc[ds['num_syllables'] == 2]"
   ]
  },
  {
   "cell_type": "code",
   "execution_count": 54,
   "id": "be700cfc-6af1-4ee2-8e4a-9f53d609d026",
   "metadata": {},
   "outputs": [
    {
     "data": {
      "text/html": [
       "<div>\n",
       "<style scoped>\n",
       "    .dataframe tbody tr th:only-of-type {\n",
       "        vertical-align: middle;\n",
       "    }\n",
       "\n",
       "    .dataframe tbody tr th {\n",
       "        vertical-align: top;\n",
       "    }\n",
       "\n",
       "    .dataframe thead th {\n",
       "        text-align: right;\n",
       "    }\n",
       "</style>\n",
       "<table border=\"1\" class=\"dataframe\">\n",
       "  <thead>\n",
       "    <tr style=\"text-align: right;\">\n",
       "      <th></th>\n",
       "      <th>word</th>\n",
       "      <th>stress</th>\n",
       "      <th>num_syllables</th>\n",
       "      <th>lemma</th>\n",
       "      <th>words_lenght</th>\n",
       "      <th>lemmas_lenght</th>\n",
       "    </tr>\n",
       "    <tr>\n",
       "      <th>id</th>\n",
       "      <th></th>\n",
       "      <th></th>\n",
       "      <th></th>\n",
       "      <th></th>\n",
       "      <th></th>\n",
       "      <th></th>\n",
       "    </tr>\n",
       "  </thead>\n",
       "  <tbody>\n",
       "    <tr>\n",
       "      <th>39288</th>\n",
       "      <td>тараканов</td>\n",
       "      <td>3</td>\n",
       "      <td>4</td>\n",
       "      <td>таракан</td>\n",
       "      <td>9</td>\n",
       "      <td>7</td>\n",
       "    </tr>\n",
       "    <tr>\n",
       "      <th>47997</th>\n",
       "      <td>планшете</td>\n",
       "      <td>2</td>\n",
       "      <td>3</td>\n",
       "      <td>планшет</td>\n",
       "      <td>8</td>\n",
       "      <td>7</td>\n",
       "    </tr>\n",
       "    <tr>\n",
       "      <th>31435</th>\n",
       "      <td>мутантов</td>\n",
       "      <td>1</td>\n",
       "      <td>3</td>\n",
       "      <td>мутант</td>\n",
       "      <td>8</td>\n",
       "      <td>6</td>\n",
       "    </tr>\n",
       "    <tr>\n",
       "      <th>50019</th>\n",
       "      <td>страховщик</td>\n",
       "      <td>2</td>\n",
       "      <td>3</td>\n",
       "      <td>страховщик</td>\n",
       "      <td>10</td>\n",
       "      <td>10</td>\n",
       "    </tr>\n",
       "    <tr>\n",
       "      <th>10027</th>\n",
       "      <td>записана</td>\n",
       "      <td>2</td>\n",
       "      <td>4</td>\n",
       "      <td>записывать</td>\n",
       "      <td>8</td>\n",
       "      <td>10</td>\n",
       "    </tr>\n",
       "  </tbody>\n",
       "</table>\n",
       "</div>"
      ],
      "text/plain": [
       "             word  stress  num_syllables       lemma  words_lenght  \\\n",
       "id                                                                   \n",
       "39288   тараканов       3              4     таракан             9   \n",
       "47997    планшете       2              3     планшет             8   \n",
       "31435    мутантов       1              3      мутант             8   \n",
       "50019  страховщик       2              3  страховщик            10   \n",
       "10027    записана       2              4  записывать             8   \n",
       "\n",
       "       lemmas_lenght  \n",
       "id                    \n",
       "39288              7  \n",
       "47997              7  \n",
       "31435              6  \n",
       "50019             10  \n",
       "10027             10  "
      ]
     },
     "execution_count": 54,
     "metadata": {},
     "output_type": "execute_result"
    }
   ],
   "source": [
    "ds.sample(5)"
   ]
  },
  {
   "cell_type": "markdown",
   "id": "8ac89a45-93ae-4a39-86ab-a34e7fa7a91d",
   "metadata": {},
   "source": [
    "# Токенизируем слово и лемму"
   ]
  },
  {
   "cell_type": "code",
   "execution_count": 55,
   "id": "b8c8c6f1-5224-4f10-8996-16ea6dedddc4",
   "metadata": {},
   "outputs": [],
   "source": [
    "nds = pd.concat([nds, nds], ignore_index=True, axis=0)\n",
    "ds = nds.reset_index(drop=True)"
   ]
  },
  {
   "cell_type": "raw",
   "id": "76c4afc5-944f-4d8b-a07b-f5f3d359f37a",
   "metadata": {},
   "source": [
    "ds = nds"
   ]
  },
  {
   "cell_type": "raw",
   "id": "8c76269d-b769-424b-89f0-8b685bb312cc",
   "metadata": {},
   "source": [
    "# Tokenize words\n",
    "for id_ in ds['id']:\n",
    "    word = ds.loc[ds['id'] == 8288]['word'].name\n",
    "    word_len = len(word)\n",
    "    for i in range(0, max_words_lenght):\n",
    "        ds[]\n",
    "        \n",
    "        \n",
    "    "
   ]
  },
  {
   "cell_type": "code",
   "execution_count": 56,
   "id": "afa16ff6-65c7-42e7-8b74-92ed469cbd96",
   "metadata": {
    "scrolled": true
   },
   "outputs": [
    {
     "data": {
      "text/plain": [
       "{'а': 1,\n",
       " 'б': 2,\n",
       " 'в': 3,\n",
       " 'г': 4,\n",
       " 'д': 5,\n",
       " 'е': 6,\n",
       " 'ё': 7,\n",
       " 'ж': 8,\n",
       " 'з': 9,\n",
       " 'и': 10,\n",
       " 'й': 11,\n",
       " 'к': 12,\n",
       " 'л': 13,\n",
       " 'м': 14,\n",
       " 'н': 15,\n",
       " 'о': 16,\n",
       " 'п': 17,\n",
       " 'р': 18,\n",
       " 'с': 19,\n",
       " 'т': 20,\n",
       " 'у': 21,\n",
       " 'ф': 22,\n",
       " 'х': 23,\n",
       " 'ц': 24,\n",
       " 'ч': 25,\n",
       " 'ш': 26,\n",
       " 'щ': 27,\n",
       " 'ъ': 28,\n",
       " 'ы': 29,\n",
       " 'ь': 30,\n",
       " 'э': 31,\n",
       " 'ю': 32,\n",
       " 'я': 33}"
      ]
     },
     "execution_count": 56,
     "metadata": {},
     "output_type": "execute_result"
    }
   ],
   "source": [
    "letter_list = ['а', 'б', 'в', 'г', 'д', 'е', 'ё', 'ж', 'з', 'и', 'й', 'к', 'л', 'м', 'н', 'о', 'п', 'р', 'с', 'т', 'у', 'ф', 'х', 'ц', 'ч', 'ш', 'щ', 'ъ', 'ы', 'ь', 'э', 'ю', 'я']\n",
    "letter_by_number = {}\n",
    "i = 1\n",
    "for letter in letter_list:\n",
    "    letter_by_number[letter] = i\n",
    "    i+=1\n",
    "letter_by_number"
   ]
  },
  {
   "cell_type": "code",
   "execution_count": 57,
   "id": "71b690c9-96be-4457-a9eb-982cf9c1ec56",
   "metadata": {},
   "outputs": [
    {
     "data": {
      "text/plain": [
       "33"
      ]
     },
     "execution_count": 57,
     "metadata": {},
     "output_type": "execute_result"
    }
   ],
   "source": [
    "len(letter_by_number)"
   ]
  },
  {
   "cell_type": "raw",
   "id": "9d85d181-c4f9-430a-8185-b4dc434ada8e",
   "metadata": {},
   "source": [
    "ds.loc[ds['id'] == 0, 'word'] = 'румЯной'"
   ]
  },
  {
   "cell_type": "raw",
   "id": "b356004c-4b4c-47e9-97d8-a5611b6febff",
   "metadata": {},
   "source": [
    "ds.loc[ds['id'] == 0]"
   ]
  },
  {
   "cell_type": "raw",
   "id": "58ea186f-e05a-48de-bde7-7b1afac3c8de",
   "metadata": {},
   "source": [
    "# Добавим еще указатель на то глассная ли это буква (1) или нет"
   ]
  },
  {
   "cell_type": "code",
   "execution_count": 58,
   "id": "77d279d0-a1d4-4bcc-b2f2-c5c8b603d4c9",
   "metadata": {},
   "outputs": [],
   "source": [
    "# Tokenize words\n",
    "for i in range(0, max_words_lenght):\n",
    "    ds[f'wl{i+1}'] = [(letter_by_number[word[i]] if len(word) > i else 0) for word in ds['word']]\n",
    "    # is letter vowel?\n",
    "    # ds[f'is_wl_v{i+1}'] = [(1 if (len(word) > i and word[i] in vowels) else 0) for word in ds['word']]\n",
    "    # # How many vowels in the word?\n",
    "    # i = 0\n",
    "    # num_lemmas_syllables = 0\n",
    "    # for id_ in ds['id']:\n",
    "    #     word = ds.loc[ds['id'] == id_]['word']\n",
    "    #     for letter in word:\n",
    "    #         if letter in vowels:\n",
    "    #             num_lemmas_syllables += 1\n",
    "    #     ds.loc[ds['id'] == id_, 'num_lemmas_syllables'] = num_lemmas_syllables"
   ]
  },
  {
   "cell_type": "raw",
   "id": "5f5875e7-2b14-4ba2-9711-ee47ea5bd060",
   "metadata": {},
   "source": [
    "# Tokenize lemms\n",
    "for i in range(0, max_lemms_lenght):\n",
    "    ds[f'll{i+1}'] = [(letter_by_number[lemma[i]] if len(lemma) > i else 0) for lemma in ds['lemma']]\n",
    "    # is letter vowel?\n",
    "    ds[f'is_ll_v{i+1}'] = [(1 if (len(lemma) > i and lemma[i] in vowels) else 0) for lemma in ds['lemma']]"
   ]
  },
  {
   "cell_type": "raw",
   "id": "b291e51e-7e41-41ea-8bd4-cd089e89dc0a",
   "metadata": {},
   "source": [
    "ds.loc[ds['wl20'] != 0]"
   ]
  },
  {
   "cell_type": "raw",
   "id": "83f2a1cd-db63-4801-97ef-61732783a537",
   "metadata": {},
   "source": [
    "from sklearn import preprocessing \n",
    "\n",
    "label_encoder = preprocessing.LabelEncoder() \n",
    "  \n",
    "# Encode labels in column 'species'. \n",
    "df['species']= label_encoder.fit_transform(df['species']) "
   ]
  },
  {
   "cell_type": "raw",
   "id": "ec235daf-5f83-4478-9c21-7c8487f687d1",
   "metadata": {},
   "source": [
    "ds.replace({'fruit': {'banana': -1, 'apple': 1}, 'color': {'yellow': -1, 'red': 1}},inplace=True)"
   ]
  },
  {
   "cell_type": "raw",
   "id": "9a59d654-1738-469e-ac2c-aac225d2b5ce",
   "metadata": {},
   "source": [
    "Для колонок:\n",
    "pd.set_option('display.max_columns', None)\n",
    "Для строк:\n",
    "pd.set_option('display.max_rows', None)"
   ]
  },
  {
   "cell_type": "code",
   "execution_count": 59,
   "id": "cbe1ba3d-19e5-40a2-9033-cd1d71d7cd8d",
   "metadata": {},
   "outputs": [
    {
     "data": {
      "text/html": [
       "<div>\n",
       "<style scoped>\n",
       "    .dataframe tbody tr th:only-of-type {\n",
       "        vertical-align: middle;\n",
       "    }\n",
       "\n",
       "    .dataframe tbody tr th {\n",
       "        vertical-align: top;\n",
       "    }\n",
       "\n",
       "    .dataframe thead th {\n",
       "        text-align: right;\n",
       "    }\n",
       "</style>\n",
       "<table border=\"1\" class=\"dataframe\">\n",
       "  <thead>\n",
       "    <tr style=\"text-align: right;\">\n",
       "      <th></th>\n",
       "      <th>word</th>\n",
       "      <th>stress</th>\n",
       "      <th>num_syllables</th>\n",
       "      <th>lemma</th>\n",
       "      <th>words_lenght</th>\n",
       "      <th>lemmas_lenght</th>\n",
       "      <th>wl1</th>\n",
       "      <th>wl2</th>\n",
       "      <th>wl3</th>\n",
       "      <th>wl4</th>\n",
       "      <th>...</th>\n",
       "      <th>wl11</th>\n",
       "      <th>wl12</th>\n",
       "      <th>wl13</th>\n",
       "      <th>wl14</th>\n",
       "      <th>wl15</th>\n",
       "      <th>wl16</th>\n",
       "      <th>wl17</th>\n",
       "      <th>wl18</th>\n",
       "      <th>wl19</th>\n",
       "      <th>wl20</th>\n",
       "    </tr>\n",
       "  </thead>\n",
       "  <tbody>\n",
       "    <tr>\n",
       "      <th>104890</th>\n",
       "      <td>муниципалитет</td>\n",
       "      <td>6</td>\n",
       "      <td>6</td>\n",
       "      <td>муниципалитет</td>\n",
       "      <td>13</td>\n",
       "      <td>13</td>\n",
       "      <td>14</td>\n",
       "      <td>21</td>\n",
       "      <td>15</td>\n",
       "      <td>10</td>\n",
       "      <td>...</td>\n",
       "      <td>20</td>\n",
       "      <td>6</td>\n",
       "      <td>20</td>\n",
       "      <td>0</td>\n",
       "      <td>0</td>\n",
       "      <td>0</td>\n",
       "      <td>0</td>\n",
       "      <td>0</td>\n",
       "      <td>0</td>\n",
       "      <td>0</td>\n",
       "    </tr>\n",
       "    <tr>\n",
       "      <th>87036</th>\n",
       "      <td>соединяются</td>\n",
       "      <td>4</td>\n",
       "      <td>6</td>\n",
       "      <td>соединяться</td>\n",
       "      <td>11</td>\n",
       "      <td>11</td>\n",
       "      <td>19</td>\n",
       "      <td>16</td>\n",
       "      <td>6</td>\n",
       "      <td>5</td>\n",
       "      <td>...</td>\n",
       "      <td>33</td>\n",
       "      <td>0</td>\n",
       "      <td>0</td>\n",
       "      <td>0</td>\n",
       "      <td>0</td>\n",
       "      <td>0</td>\n",
       "      <td>0</td>\n",
       "      <td>0</td>\n",
       "      <td>0</td>\n",
       "      <td>0</td>\n",
       "    </tr>\n",
       "    <tr>\n",
       "      <th>35839</th>\n",
       "      <td>генпрокуратуру</td>\n",
       "      <td>5</td>\n",
       "      <td>6</td>\n",
       "      <td>генпрокуратура</td>\n",
       "      <td>14</td>\n",
       "      <td>14</td>\n",
       "      <td>4</td>\n",
       "      <td>6</td>\n",
       "      <td>15</td>\n",
       "      <td>17</td>\n",
       "      <td>...</td>\n",
       "      <td>20</td>\n",
       "      <td>21</td>\n",
       "      <td>18</td>\n",
       "      <td>21</td>\n",
       "      <td>0</td>\n",
       "      <td>0</td>\n",
       "      <td>0</td>\n",
       "      <td>0</td>\n",
       "      <td>0</td>\n",
       "      <td>0</td>\n",
       "    </tr>\n",
       "  </tbody>\n",
       "</table>\n",
       "<p>3 rows × 26 columns</p>\n",
       "</div>"
      ],
      "text/plain": [
       "                  word  stress  num_syllables           lemma  words_lenght  \\\n",
       "104890   муниципалитет       6              6   муниципалитет            13   \n",
       "87036      соединяются       4              6     соединяться            11   \n",
       "35839   генпрокуратуру       5              6  генпрокуратура            14   \n",
       "\n",
       "        lemmas_lenght  wl1  wl2  wl3  wl4  ...  wl11  wl12  wl13  wl14  wl15  \\\n",
       "104890             13   14   21   15   10  ...    20     6    20     0     0   \n",
       "87036              11   19   16    6    5  ...    33     0     0     0     0   \n",
       "35839              14    4    6   15   17  ...    20    21    18    21     0   \n",
       "\n",
       "        wl16  wl17  wl18  wl19  wl20  \n",
       "104890     0     0     0     0     0  \n",
       "87036      0     0     0     0     0  \n",
       "35839      0     0     0     0     0  \n",
       "\n",
       "[3 rows x 26 columns]"
      ]
     },
     "execution_count": 59,
     "metadata": {},
     "output_type": "execute_result"
    }
   ],
   "source": [
    "# pd.set_option('display.max_columns', None)\n",
    "ds.sample(3)"
   ]
  },
  {
   "cell_type": "raw",
   "id": "d2d7b177-56a4-4e38-b1fa-29b11c729917",
   "metadata": {},
   "source": [
    "ds.loc[ds['is_ll_v20'] != 0]"
   ]
  },
  {
   "cell_type": "code",
   "execution_count": 60,
   "id": "f4b1c406-49ed-4578-a7e2-65deb1675f20",
   "metadata": {
    "scrolled": true
   },
   "outputs": [
    {
     "data": {
      "text/html": [
       "<div>\n",
       "<style scoped>\n",
       "    .dataframe tbody tr th:only-of-type {\n",
       "        vertical-align: middle;\n",
       "    }\n",
       "\n",
       "    .dataframe tbody tr th {\n",
       "        vertical-align: top;\n",
       "    }\n",
       "\n",
       "    .dataframe thead th {\n",
       "        text-align: right;\n",
       "    }\n",
       "</style>\n",
       "<table border=\"1\" class=\"dataframe\">\n",
       "  <thead>\n",
       "    <tr style=\"text-align: right;\">\n",
       "      <th></th>\n",
       "      <th>stress</th>\n",
       "      <th>num_syllables</th>\n",
       "      <th>words_lenght</th>\n",
       "      <th>lemmas_lenght</th>\n",
       "      <th>wl1</th>\n",
       "      <th>wl2</th>\n",
       "      <th>wl3</th>\n",
       "      <th>wl4</th>\n",
       "      <th>wl5</th>\n",
       "      <th>wl6</th>\n",
       "      <th>...</th>\n",
       "      <th>wl11</th>\n",
       "      <th>wl12</th>\n",
       "      <th>wl13</th>\n",
       "      <th>wl14</th>\n",
       "      <th>wl15</th>\n",
       "      <th>wl16</th>\n",
       "      <th>wl17</th>\n",
       "      <th>wl18</th>\n",
       "      <th>wl19</th>\n",
       "      <th>wl20</th>\n",
       "    </tr>\n",
       "  </thead>\n",
       "  <tbody>\n",
       "    <tr>\n",
       "      <th>stress</th>\n",
       "      <td>1.000000</td>\n",
       "      <td>0.878616</td>\n",
       "      <td>0.804556</td>\n",
       "      <td>0.797148</td>\n",
       "      <td>0.086596</td>\n",
       "      <td>-0.040723</td>\n",
       "      <td>-0.083753</td>\n",
       "      <td>-0.106373</td>\n",
       "      <td>0.059459</td>\n",
       "      <td>0.123572</td>\n",
       "      <td>...</td>\n",
       "      <td>0.501072</td>\n",
       "      <td>0.543952</td>\n",
       "      <td>0.476246</td>\n",
       "      <td>0.349376</td>\n",
       "      <td>0.173924</td>\n",
       "      <td>0.155831</td>\n",
       "      <td>0.113236</td>\n",
       "      <td>0.021353</td>\n",
       "      <td>0.004430</td>\n",
       "      <td>0.002810</td>\n",
       "    </tr>\n",
       "    <tr>\n",
       "      <th>num_syllables</th>\n",
       "      <td>0.878616</td>\n",
       "      <td>1.000000</td>\n",
       "      <td>0.898269</td>\n",
       "      <td>0.864360</td>\n",
       "      <td>0.061552</td>\n",
       "      <td>-0.042184</td>\n",
       "      <td>-0.069379</td>\n",
       "      <td>-0.084389</td>\n",
       "      <td>0.066799</td>\n",
       "      <td>0.162397</td>\n",
       "      <td>...</td>\n",
       "      <td>0.583558</td>\n",
       "      <td>0.590118</td>\n",
       "      <td>0.506462</td>\n",
       "      <td>0.386393</td>\n",
       "      <td>0.229323</td>\n",
       "      <td>0.175241</td>\n",
       "      <td>0.108766</td>\n",
       "      <td>0.041512</td>\n",
       "      <td>0.020952</td>\n",
       "      <td>0.011720</td>\n",
       "    </tr>\n",
       "    <tr>\n",
       "      <th>...</th>\n",
       "      <td>...</td>\n",
       "      <td>...</td>\n",
       "      <td>...</td>\n",
       "      <td>...</td>\n",
       "      <td>...</td>\n",
       "      <td>...</td>\n",
       "      <td>...</td>\n",
       "      <td>...</td>\n",
       "      <td>...</td>\n",
       "      <td>...</td>\n",
       "      <td>...</td>\n",
       "      <td>...</td>\n",
       "      <td>...</td>\n",
       "      <td>...</td>\n",
       "      <td>...</td>\n",
       "      <td>...</td>\n",
       "      <td>...</td>\n",
       "      <td>...</td>\n",
       "      <td>...</td>\n",
       "      <td>...</td>\n",
       "      <td>...</td>\n",
       "    </tr>\n",
       "    <tr>\n",
       "      <th>wl19</th>\n",
       "      <td>0.004430</td>\n",
       "      <td>0.020952</td>\n",
       "      <td>0.057712</td>\n",
       "      <td>0.056330</td>\n",
       "      <td>0.008122</td>\n",
       "      <td>0.001032</td>\n",
       "      <td>-0.001237</td>\n",
       "      <td>0.009904</td>\n",
       "      <td>0.012763</td>\n",
       "      <td>-0.001660</td>\n",
       "      <td>...</td>\n",
       "      <td>0.033166</td>\n",
       "      <td>0.016540</td>\n",
       "      <td>0.026122</td>\n",
       "      <td>0.037253</td>\n",
       "      <td>0.049627</td>\n",
       "      <td>0.083522</td>\n",
       "      <td>0.123974</td>\n",
       "      <td>0.318456</td>\n",
       "      <td>1.000000</td>\n",
       "      <td>0.575675</td>\n",
       "    </tr>\n",
       "    <tr>\n",
       "      <th>wl20</th>\n",
       "      <td>0.002810</td>\n",
       "      <td>0.011720</td>\n",
       "      <td>0.034642</td>\n",
       "      <td>0.033421</td>\n",
       "      <td>0.007337</td>\n",
       "      <td>-0.009294</td>\n",
       "      <td>0.000171</td>\n",
       "      <td>0.028359</td>\n",
       "      <td>0.009392</td>\n",
       "      <td>-0.000502</td>\n",
       "      <td>...</td>\n",
       "      <td>0.033707</td>\n",
       "      <td>0.006040</td>\n",
       "      <td>0.018860</td>\n",
       "      <td>0.029675</td>\n",
       "      <td>0.004955</td>\n",
       "      <td>0.020677</td>\n",
       "      <td>0.073905</td>\n",
       "      <td>0.163224</td>\n",
       "      <td>0.575675</td>\n",
       "      <td>1.000000</td>\n",
       "    </tr>\n",
       "  </tbody>\n",
       "</table>\n",
       "<p>24 rows × 24 columns</p>\n",
       "</div>"
      ],
      "text/plain": [
       "                 stress  num_syllables  words_lenght  lemmas_lenght       wl1  \\\n",
       "stress         1.000000       0.878616      0.804556       0.797148  0.086596   \n",
       "num_syllables  0.878616       1.000000      0.898269       0.864360  0.061552   \n",
       "...                 ...            ...           ...            ...       ...   \n",
       "wl19           0.004430       0.020952      0.057712       0.056330  0.008122   \n",
       "wl20           0.002810       0.011720      0.034642       0.033421  0.007337   \n",
       "\n",
       "                    wl2       wl3       wl4       wl5       wl6  ...  \\\n",
       "stress        -0.040723 -0.083753 -0.106373  0.059459  0.123572  ...   \n",
       "num_syllables -0.042184 -0.069379 -0.084389  0.066799  0.162397  ...   \n",
       "...                 ...       ...       ...       ...       ...  ...   \n",
       "wl19           0.001032 -0.001237  0.009904  0.012763 -0.001660  ...   \n",
       "wl20          -0.009294  0.000171  0.028359  0.009392 -0.000502  ...   \n",
       "\n",
       "                   wl11      wl12      wl13      wl14      wl15      wl16  \\\n",
       "stress         0.501072  0.543952  0.476246  0.349376  0.173924  0.155831   \n",
       "num_syllables  0.583558  0.590118  0.506462  0.386393  0.229323  0.175241   \n",
       "...                 ...       ...       ...       ...       ...       ...   \n",
       "wl19           0.033166  0.016540  0.026122  0.037253  0.049627  0.083522   \n",
       "wl20           0.033707  0.006040  0.018860  0.029675  0.004955  0.020677   \n",
       "\n",
       "                   wl17      wl18      wl19      wl20  \n",
       "stress         0.113236  0.021353  0.004430  0.002810  \n",
       "num_syllables  0.108766  0.041512  0.020952  0.011720  \n",
       "...                 ...       ...       ...       ...  \n",
       "wl19           0.123974  0.318456  1.000000  0.575675  \n",
       "wl20           0.073905  0.163224  0.575675  1.000000  \n",
       "\n",
       "[24 rows x 24 columns]"
      ]
     },
     "execution_count": 60,
     "metadata": {},
     "output_type": "execute_result"
    }
   ],
   "source": [
    "# pd.set_option('display.max_columns', None)\n",
    "ds.drop(['word', 'lemma'], axis=1).corr()"
   ]
  },
  {
   "cell_type": "code",
   "execution_count": 61,
   "id": "e06d3860-5aab-45bc-8c63-97f6a1422e55",
   "metadata": {
    "scrolled": true
   },
   "outputs": [
    {
     "data": {
      "text/plain": [
       "[1.0,\n",
       " 0.8786157533497817,\n",
       " 0.08659601055925234,\n",
       " -0.04072271232002465,\n",
       " -0.08375308139592706,\n",
       " -0.10637298052046976,\n",
       " 0.05945850587314558,\n",
       " 0.1235716106284088,\n",
       " 0.21546674632510948,\n",
       " 0.3461320648793411,\n",
       " 0.4977173256914224,\n",
       " 0.5219652744788514,\n",
       " 0.5010719768185176,\n",
       " 0.5439518361750746,\n",
       " 0.4762462871850391,\n",
       " 0.3493758155770919,\n",
       " 0.17392383268309186,\n",
       " 0.1558311444924257,\n",
       " 0.11323577360123348,\n",
       " 0.021353371047680463,\n",
       " 0.004430174878256064,\n",
       " 0.0028102260609101514]"
      ]
     },
     "execution_count": 61,
     "metadata": {},
     "output_type": "execute_result"
    }
   ],
   "source": [
    "ds.drop(['word', 'lemma', 'words_lenght', 'lemmas_lenght'], axis=1).corr()['stress'].to_list()"
   ]
  },
  {
   "cell_type": "markdown",
   "id": "0e664a51-9e4b-48ec-bdc3-b8201c7fcd80",
   "metadata": {},
   "source": [
    "# Prepare data"
   ]
  },
  {
   "cell_type": "code",
   "execution_count": 62,
   "id": "45f80d9f-ecf8-474e-aa4b-6668c27229b1",
   "metadata": {},
   "outputs": [],
   "source": [
    "from tensorflow.keras.layers import Dense, Input, Dropout, BatchNormalization, LeakyReLU, Conv1D, MaxPooling1D, Embedding, Flatten\n",
    "import tensorflow as tf\n",
    "from tensorflow.keras import Sequential\n",
    "from sklearn.preprocessing import LabelEncoder, MinMaxScaler\n",
    "from sklearn.metrics import accuracy_score\n",
    "from sklearn.metrics import mean_squared_error, mean_absolute_error, r2_score\n",
    "\n",
    "from matplotlib import pyplot as plt\n",
    "import seaborn as sns\n",
    "\n",
    "%matplotlib inline"
   ]
  },
  {
   "cell_type": "code",
   "execution_count": 63,
   "id": "3451e9a1-9200-45ba-9757-3fb85aeec0ce",
   "metadata": {},
   "outputs": [],
   "source": [
    "# ds_ = ds.drop(['id', 'word', 'lemma', 'words_lenght', 'lemmas_lenght'], axis=1)\n",
    "ds_ = ds.drop(['word', 'lemma'], axis=1)\n",
    "# ds_ = nds.drop(['word', 'lemma'], axis=1)"
   ]
  },
  {
   "cell_type": "code",
   "execution_count": 64,
   "id": "52196729-fbbb-4bc4-a54c-7aa8c21c2f2c",
   "metadata": {},
   "outputs": [],
   "source": [
    "from sklearn.utils import shuffle\n",
    "ds_ = shuffle(ds_)"
   ]
  },
  {
   "cell_type": "code",
   "execution_count": 65,
   "id": "0d4e3cb6-8adb-47ca-8779-dc0ae25329dc",
   "metadata": {},
   "outputs": [],
   "source": [
    "# X, y = df.values[:, :-1], df.values[:, -1]\n",
    "X = ds_.drop(['stress', 'num_syllables', 'words_lenght', 'lemmas_lenght'], axis=1)\n",
    "# y = ds_['stress']"
   ]
  },
  {
   "cell_type": "code",
   "execution_count": 66,
   "id": "6d63eb02-d104-40ef-8e38-09d0b1ef0243",
   "metadata": {},
   "outputs": [],
   "source": [
    "from sklearn.preprocessing import OneHotEncoder\n",
    "encoder = OneHotEncoder(handle_unknown='ignore')\n",
    "y = pd.DataFrame(encoder.fit_transform(ds_[['stress']]).toarray())\n",
    "# y = pd.DataFrame(ds_[['stress']])"
   ]
  },
  {
   "cell_type": "code",
   "execution_count": 67,
   "id": "6b81a7b4-9647-4e6f-8d68-625a6ef2ef3c",
   "metadata": {},
   "outputs": [
    {
     "data": {
      "text/plain": [
       "array([1.02014631, 0.92414356, 1.2662755 , 1.08421053, 0.89168716,\n",
       "       0.90567546])"
      ]
     },
     "execution_count": 67,
     "metadata": {},
     "output_type": "execute_result"
    }
   ],
   "source": [
    "# Получение весов классов\n",
    "class_weights = compute_class_weight('balanced', classes=np.unique(ds_['stress']), y=ds_['stress'])\n",
    "class_weights"
   ]
  },
  {
   "cell_type": "code",
   "execution_count": 68,
   "id": "cf767577-f9e8-4aac-b7d6-b1bff176a6eb",
   "metadata": {},
   "outputs": [],
   "source": [
    "i = 0\n",
    "class_weights_dict = {}\n",
    "for e in class_weights:\n",
    "    class_weights_dict[e] = e\n",
    "    i+=1"
   ]
  },
  {
   "cell_type": "code",
   "execution_count": 69,
   "id": "97539bbb-eb21-4973-8ebf-292fa5d6b0c9",
   "metadata": {},
   "outputs": [],
   "source": [
    "from sklearn.model_selection import train_test_split\n",
    "X_train, X_test, y_train, y_test = train_test_split(X, y, test_size = 0.1, shuffle=True)"
   ]
  },
  {
   "cell_type": "code",
   "execution_count": 70,
   "id": "083ed451-1e72-4a16-b163-2fd587bc75cd",
   "metadata": {},
   "outputs": [
    {
     "data": {
      "text/html": [
       "<div>\n",
       "<style scoped>\n",
       "    .dataframe tbody tr th:only-of-type {\n",
       "        vertical-align: middle;\n",
       "    }\n",
       "\n",
       "    .dataframe tbody tr th {\n",
       "        vertical-align: top;\n",
       "    }\n",
       "\n",
       "    .dataframe thead th {\n",
       "        text-align: right;\n",
       "    }\n",
       "</style>\n",
       "<table border=\"1\" class=\"dataframe\">\n",
       "  <thead>\n",
       "    <tr style=\"text-align: right;\">\n",
       "      <th></th>\n",
       "      <th>wl1</th>\n",
       "      <th>wl2</th>\n",
       "      <th>wl3</th>\n",
       "      <th>wl4</th>\n",
       "      <th>wl5</th>\n",
       "      <th>wl6</th>\n",
       "      <th>wl7</th>\n",
       "      <th>wl8</th>\n",
       "      <th>wl9</th>\n",
       "      <th>wl10</th>\n",
       "      <th>wl11</th>\n",
       "      <th>wl12</th>\n",
       "      <th>wl13</th>\n",
       "      <th>wl14</th>\n",
       "      <th>wl15</th>\n",
       "      <th>wl16</th>\n",
       "      <th>wl17</th>\n",
       "      <th>wl18</th>\n",
       "      <th>wl19</th>\n",
       "      <th>wl20</th>\n",
       "    </tr>\n",
       "  </thead>\n",
       "  <tbody>\n",
       "    <tr>\n",
       "      <th>32966</th>\n",
       "      <td>17</td>\n",
       "      <td>18</td>\n",
       "      <td>16</td>\n",
       "      <td>12</td>\n",
       "      <td>21</td>\n",
       "      <td>18</td>\n",
       "      <td>1</td>\n",
       "      <td>20</td>\n",
       "      <td>21</td>\n",
       "      <td>18</td>\n",
       "      <td>21</td>\n",
       "      <td>0</td>\n",
       "      <td>0</td>\n",
       "      <td>0</td>\n",
       "      <td>0</td>\n",
       "      <td>0</td>\n",
       "      <td>0</td>\n",
       "      <td>0</td>\n",
       "      <td>0</td>\n",
       "      <td>0</td>\n",
       "    </tr>\n",
       "    <tr>\n",
       "      <th>35886</th>\n",
       "      <td>21</td>\n",
       "      <td>4</td>\n",
       "      <td>13</td>\n",
       "      <td>6</td>\n",
       "      <td>3</td>\n",
       "      <td>16</td>\n",
       "      <td>5</td>\n",
       "      <td>16</td>\n",
       "      <td>18</td>\n",
       "      <td>16</td>\n",
       "      <td>5</td>\n",
       "      <td>29</td>\n",
       "      <td>0</td>\n",
       "      <td>0</td>\n",
       "      <td>0</td>\n",
       "      <td>0</td>\n",
       "      <td>0</td>\n",
       "      <td>0</td>\n",
       "      <td>0</td>\n",
       "      <td>0</td>\n",
       "    </tr>\n",
       "    <tr>\n",
       "      <th>...</th>\n",
       "      <td>...</td>\n",
       "      <td>...</td>\n",
       "      <td>...</td>\n",
       "      <td>...</td>\n",
       "      <td>...</td>\n",
       "      <td>...</td>\n",
       "      <td>...</td>\n",
       "      <td>...</td>\n",
       "      <td>...</td>\n",
       "      <td>...</td>\n",
       "      <td>...</td>\n",
       "      <td>...</td>\n",
       "      <td>...</td>\n",
       "      <td>...</td>\n",
       "      <td>...</td>\n",
       "      <td>...</td>\n",
       "      <td>...</td>\n",
       "      <td>...</td>\n",
       "      <td>...</td>\n",
       "      <td>...</td>\n",
       "    </tr>\n",
       "    <tr>\n",
       "      <th>25583</th>\n",
       "      <td>25</td>\n",
       "      <td>6</td>\n",
       "      <td>2</td>\n",
       "      <td>21</td>\n",
       "      <td>18</td>\n",
       "      <td>6</td>\n",
       "      <td>12</td>\n",
       "      <td>10</td>\n",
       "      <td>0</td>\n",
       "      <td>0</td>\n",
       "      <td>0</td>\n",
       "      <td>0</td>\n",
       "      <td>0</td>\n",
       "      <td>0</td>\n",
       "      <td>0</td>\n",
       "      <td>0</td>\n",
       "      <td>0</td>\n",
       "      <td>0</td>\n",
       "      <td>0</td>\n",
       "      <td>0</td>\n",
       "    </tr>\n",
       "    <tr>\n",
       "      <th>19491</th>\n",
       "      <td>3</td>\n",
       "      <td>16</td>\n",
       "      <td>13</td>\n",
       "      <td>16</td>\n",
       "      <td>19</td>\n",
       "      <td>16</td>\n",
       "      <td>12</td>\n",
       "      <td>0</td>\n",
       "      <td>0</td>\n",
       "      <td>0</td>\n",
       "      <td>0</td>\n",
       "      <td>0</td>\n",
       "      <td>0</td>\n",
       "      <td>0</td>\n",
       "      <td>0</td>\n",
       "      <td>0</td>\n",
       "      <td>0</td>\n",
       "      <td>0</td>\n",
       "      <td>0</td>\n",
       "      <td>0</td>\n",
       "    </tr>\n",
       "  </tbody>\n",
       "</table>\n",
       "<p>97891 rows × 20 columns</p>\n",
       "</div>"
      ],
      "text/plain": [
       "       wl1  wl2  wl3  wl4  wl5  wl6  wl7  wl8  wl9  wl10  wl11  wl12  wl13  \\\n",
       "32966   17   18   16   12   21   18    1   20   21    18    21     0     0   \n",
       "35886   21    4   13    6    3   16    5   16   18    16     5    29     0   \n",
       "...    ...  ...  ...  ...  ...  ...  ...  ...  ...   ...   ...   ...   ...   \n",
       "25583   25    6    2   21   18    6   12   10    0     0     0     0     0   \n",
       "19491    3   16   13   16   19   16   12    0    0     0     0     0     0   \n",
       "\n",
       "       wl14  wl15  wl16  wl17  wl18  wl19  wl20  \n",
       "32966     0     0     0     0     0     0     0  \n",
       "35886     0     0     0     0     0     0     0  \n",
       "...     ...   ...   ...   ...   ...   ...   ...  \n",
       "25583     0     0     0     0     0     0     0  \n",
       "19491     0     0     0     0     0     0     0  \n",
       "\n",
       "[97891 rows x 20 columns]"
      ]
     },
     "execution_count": 70,
     "metadata": {},
     "output_type": "execute_result"
    }
   ],
   "source": [
    "pd.set_option('display.max_columns', None)\n",
    "X_train"
   ]
  },
  {
   "cell_type": "code",
   "execution_count": 71,
   "id": "4179cc7e-9b47-4d8e-b3a0-849f4e402839",
   "metadata": {},
   "outputs": [
    {
     "data": {
      "text/html": [
       "<div>\n",
       "<style scoped>\n",
       "    .dataframe tbody tr th:only-of-type {\n",
       "        vertical-align: middle;\n",
       "    }\n",
       "\n",
       "    .dataframe tbody tr th {\n",
       "        vertical-align: top;\n",
       "    }\n",
       "\n",
       "    .dataframe thead th {\n",
       "        text-align: right;\n",
       "    }\n",
       "</style>\n",
       "<table border=\"1\" class=\"dataframe\">\n",
       "  <thead>\n",
       "    <tr style=\"text-align: right;\">\n",
       "      <th></th>\n",
       "      <th>0</th>\n",
       "      <th>1</th>\n",
       "      <th>2</th>\n",
       "      <th>3</th>\n",
       "      <th>4</th>\n",
       "      <th>5</th>\n",
       "    </tr>\n",
       "  </thead>\n",
       "  <tbody>\n",
       "    <tr>\n",
       "      <th>33009</th>\n",
       "      <td>0.0</td>\n",
       "      <td>0.0</td>\n",
       "      <td>0.0</td>\n",
       "      <td>1.0</td>\n",
       "      <td>0.0</td>\n",
       "      <td>0.0</td>\n",
       "    </tr>\n",
       "    <tr>\n",
       "      <th>15714</th>\n",
       "      <td>0.0</td>\n",
       "      <td>0.0</td>\n",
       "      <td>0.0</td>\n",
       "      <td>0.0</td>\n",
       "      <td>1.0</td>\n",
       "      <td>0.0</td>\n",
       "    </tr>\n",
       "    <tr>\n",
       "      <th>...</th>\n",
       "      <td>...</td>\n",
       "      <td>...</td>\n",
       "      <td>...</td>\n",
       "      <td>...</td>\n",
       "      <td>...</td>\n",
       "      <td>...</td>\n",
       "    </tr>\n",
       "    <tr>\n",
       "      <th>34426</th>\n",
       "      <td>0.0</td>\n",
       "      <td>0.0</td>\n",
       "      <td>1.0</td>\n",
       "      <td>0.0</td>\n",
       "      <td>0.0</td>\n",
       "      <td>0.0</td>\n",
       "    </tr>\n",
       "    <tr>\n",
       "      <th>62649</th>\n",
       "      <td>0.0</td>\n",
       "      <td>0.0</td>\n",
       "      <td>1.0</td>\n",
       "      <td>0.0</td>\n",
       "      <td>0.0</td>\n",
       "      <td>0.0</td>\n",
       "    </tr>\n",
       "  </tbody>\n",
       "</table>\n",
       "<p>97891 rows × 6 columns</p>\n",
       "</div>"
      ],
      "text/plain": [
       "         0    1    2    3    4    5\n",
       "33009  0.0  0.0  0.0  1.0  0.0  0.0\n",
       "15714  0.0  0.0  0.0  0.0  1.0  0.0\n",
       "...    ...  ...  ...  ...  ...  ...\n",
       "34426  0.0  0.0  1.0  0.0  0.0  0.0\n",
       "62649  0.0  0.0  1.0  0.0  0.0  0.0\n",
       "\n",
       "[97891 rows x 6 columns]"
      ]
     },
     "execution_count": 71,
     "metadata": {},
     "output_type": "execute_result"
    }
   ],
   "source": [
    "y_train"
   ]
  },
  {
   "cell_type": "raw",
   "id": "f485f692-23e4-46c1-91f0-9342252f64c7",
   "metadata": {},
   "source": [
    "# Нормализуем данные\n",
    "scaler = MinMaxScaler()\n",
    "X_train = scaler.fit_transform(X_train)\n",
    "X_test = scaler.transform(X_test)\n",
    "# NN_normalizators.append(scaler) "
   ]
  },
  {
   "cell_type": "raw",
   "id": "6ccdd459-e48a-4ce7-80db-021520f32d15",
   "metadata": {},
   "source": [
    "X_train[0]"
   ]
  },
  {
   "cell_type": "code",
   "execution_count": 72,
   "id": "cb71aa92-0eba-4dfe-ac1a-a5a5fe7b02c6",
   "metadata": {},
   "outputs": [
    {
     "data": {
      "text/plain": [
       "20"
      ]
     },
     "execution_count": 72,
     "metadata": {},
     "output_type": "execute_result"
    }
   ],
   "source": [
    "n_futures = len(X.columns)\n",
    "n_futures"
   ]
  },
  {
   "cell_type": "markdown",
   "id": "08f02c5c-33f8-4047-8d4c-de5c26651358",
   "metadata": {},
   "source": [
    "# Trying Ansables"
   ]
  },
  {
   "cell_type": "raw",
   "id": "5e0257fd-35f2-4b88-9e82-4daaaba251f6",
   "metadata": {},
   "source": [
    "from sklearn.tree import DecisionTreeClassifier\n",
    "from sklearn.ensemble import AdaBoostClassifier"
   ]
  },
  {
   "cell_type": "raw",
   "id": "9f57f217-38bc-49d1-8ea1-118f76ba6828",
   "metadata": {},
   "source": [
    "# Create base classifier decision tree\n",
    "tree = DecisionTreeClassifier(criterion='entropy', \n",
    "                              max_depth=20,\n",
    "                              max_leaf_nodes=10,\n",
    "                              # random_state=1\n",
    "                             )\n",
    "                              "
   ]
  },
  {
   "cell_type": "raw",
   "id": "2ce0bf7d-2e2a-406f-bc46-77f713be98e1",
   "metadata": {},
   "source": [
    "weak_learner = DecisionTreeClassifier(max_leaf_nodes=8, )\n",
    "n_estimators = 300"
   ]
  },
  {
   "cell_type": "raw",
   "id": "cf57a47a-5343-46bb-bdf7-38f90b8e7b1a",
   "metadata": {},
   "source": [
    "# Create AdaBoost classifier\n",
    "ada = AdaBoostClassifier(estimator=tree,  # base_estimator in old version\n",
    "                         n_estimators=500, \n",
    "                         learning_rate=0.1,\n",
    "                         random_state=1)"
   ]
  },
  {
   "cell_type": "raw",
   "id": "7589eb14-f77b-4b64-b401-b849ae5f4e88",
   "metadata": {},
   "source": [
    "ada = AdaBoostClassifier(estimator=tree,\n",
    "                         n_estimators=500,\n",
    "                         algorithm=\"SAMME\",\n",
    "                         learning_rate=0.1,\n",
    "                         random_state=1,\n",
    "                        ).fit(X_train, y_train['stress'])"
   ]
  },
  {
   "cell_type": "raw",
   "id": "b84ea419-3bb9-431e-a3e8-98c7a8fede97",
   "metadata": {},
   "source": [
    "y_train_pred = ada.predict(X_train)\n",
    "y_test_pred = ada.predict(X_test)\n",
    "\n",
    "ada_train = accuracy_score(y_train, y_train_pred) \n",
    "ada_test = accuracy_score(y_test, y_test_pred) "
   ]
  },
  {
   "cell_type": "raw",
   "id": "0e4851f5-6113-46dd-9593-1729bf35add8",
   "metadata": {},
   "source": [
    "ada_test = accuracy_score(y_test, y_test_pred) \n",
    "print('Decision AdaBoost train/test %.3f/%.3f'\n",
    "      % (ada_train, ada_test))"
   ]
  },
  {
   "cell_type": "raw",
   "id": "d4bf164b-8c4f-4e1b-ab0b-8601a08e931d",
   "metadata": {},
   "source": [
    "# Train simple tree classifier\n",
    "\n",
    "tree = tree.fit(X_train, y_train)\n",
    "y_train_pred = tree.predict(X_train)\n",
    "y_test_pred = tree.predict(X_test)\n",
    "\n",
    "tree_train = accuracy_score(y_train, y_train_pred)\n",
    "tree_test = accuracy_score(y_test, y_test_pred)\n",
    "print('Decision tree train/test accuracies %.3f/%.3f'\n",
    "      % (tree_train, tree_test))"
   ]
  },
  {
   "cell_type": "raw",
   "id": "0fcf5ec1-0d02-4a49-9211-afca5a11234f",
   "metadata": {},
   "source": [
    "# Train AdaBoost classifier\n",
    "\n",
    "ada = ada.fit(X_train, y_train.values.ravel())\n",
    "y_train_pred = ada.predict(X_train)\n",
    "y_test_pred = ada.predict(X_test)\n",
    "\n",
    "ada_train = accuracy_score(y_train, y_train_pred) \n",
    "ada_test = accuracy_score(y_test, y_test_pred) \n",
    "print('Decision AdaBoost train/test %.3f/%.3f'\n",
    "      % (ada_train, ada_test))"
   ]
  },
  {
   "cell_type": "markdown",
   "id": "8d5dad31-209c-4f06-8990-28340dd05ac3",
   "metadata": {},
   "source": [
    "# Trying AI"
   ]
  },
  {
   "cell_type": "code",
   "execution_count": 134,
   "id": "f8348d01-50f1-459d-8e76-4af92a875b33",
   "metadata": {},
   "outputs": [],
   "source": [
    "# Create a model\n",
    "model = Sequential()\n",
    "\n",
    "# model.add(BatchNormalization())\n",
    "\n",
    "# Add input layer\n",
    "# model.add(Dense(83, activation='softmax', input_shape = (n_futures,) ))\n",
    "# model.add(Dense(100, activation='relu', input_shape = (n_futures,) ))\n",
    "model.add(Embedding(input_dim=40, output_dim=40))\n",
    "\n",
    "# model.add(Dropout(0.1))\n",
    "# model.add(Dense(100, activation='relu'))\n",
    "\n",
    "model.add(Dropout(0.1))\n",
    "# model.add(Dropout(0.25))\n",
    "\n",
    "model.add(BatchNormalization())\n",
    "# model.add(Conv1D(filters=20 , kernel_size=4, strides=1, padding='same', activation='relu'))\n",
    "model.add(Conv1D(filters=20, kernel_size=10, strides=1, padding='same', activation='selu'))\n",
    "# model.add(MaxPooling1D(2))\n",
    "model.add(MaxPooling1D(1))\n",
    "\n",
    "# model.add(Dense(100, activation='relu', input_shape = (n_futures,) ))\n",
    "\n",
    "model.add(Dense(100, activation='relu'))\n",
    "model.add(Dropout(0.1))\n",
    "# model.add(Dense(100, activation='relu'))\n",
    "# model.add(Dropout(0.1))\n",
    "# model.add(Dense(100, activation='relu'))\n",
    "\n",
    "# model.add(Conv1D(filters=20 , kernel_size=4, strides=1, padding='same', activation='relu'))\n",
    "# model.add(MaxPooling1D(2))\n",
    "# model.add(Dense(100, activation='relu'))\n",
    "\n",
    "model.add(Dropout(0.2))\n",
    "\n",
    "model.add(BatchNormalization())\n",
    "\n",
    "model.add(Flatten())\n",
    "\n",
    "# output layer\n",
    "model.add(Dense(6, activation='softmax'))\n",
    "\n",
    "# Compile the model\n",
    "model.compile(optimizer=tf.keras.optimizers.Adam(learning_rate=0.001),\n",
    "              # optimizer='adam', \n",
    "              # optimizer='rmsprop',\n",
    "              loss='categorical_crossentropy', \n",
    "              metrics=['accuracy'],\n",
    "             )"
   ]
  },
  {
   "cell_type": "code",
   "execution_count": 135,
   "id": "a783d855-42a4-4001-83fd-e8d151c38af5",
   "metadata": {},
   "outputs": [
    {
     "data": {
      "text/html": [
       "<pre style=\"white-space:pre;overflow-x:auto;line-height:normal;font-family:Menlo,'DejaVu Sans Mono',consolas,'Courier New',monospace\"><span style=\"font-weight: bold\">Model: \"sequential_25\"</span>\n",
       "</pre>\n"
      ],
      "text/plain": [
       "\u001b[1mModel: \"sequential_25\"\u001b[0m\n"
      ]
     },
     "metadata": {},
     "output_type": "display_data"
    },
    {
     "data": {
      "text/html": [
       "<pre style=\"white-space:pre;overflow-x:auto;line-height:normal;font-family:Menlo,'DejaVu Sans Mono',consolas,'Courier New',monospace\">┏━━━━━━━━━━━━━━━━━━━━━━━━━━━━━━━━━━━━━━┳━━━━━━━━━━━━━━━━━━━━━━━━━━━━━┳━━━━━━━━━━━━━━━━━┓\n",
       "┃<span style=\"font-weight: bold\"> Layer (type)                         </span>┃<span style=\"font-weight: bold\"> Output Shape                </span>┃<span style=\"font-weight: bold\">         Param # </span>┃\n",
       "┡━━━━━━━━━━━━━━━━━━━━━━━━━━━━━━━━━━━━━━╇━━━━━━━━━━━━━━━━━━━━━━━━━━━━━╇━━━━━━━━━━━━━━━━━┩\n",
       "│ embedding_25 (<span style=\"color: #0087ff; text-decoration-color: #0087ff\">Embedding</span>)             │ ?                           │     <span style=\"color: #00af00; text-decoration-color: #00af00\">0</span> (unbuilt) │\n",
       "├──────────────────────────────────────┼─────────────────────────────┼─────────────────┤\n",
       "│ dropout_81 (<span style=\"color: #0087ff; text-decoration-color: #0087ff\">Dropout</span>)                 │ ?                           │               <span style=\"color: #00af00; text-decoration-color: #00af00\">0</span> │\n",
       "├──────────────────────────────────────┼─────────────────────────────┼─────────────────┤\n",
       "│ batch_normalization_48               │ ?                           │     <span style=\"color: #00af00; text-decoration-color: #00af00\">0</span> (unbuilt) │\n",
       "│ (<span style=\"color: #0087ff; text-decoration-color: #0087ff\">BatchNormalization</span>)                 │                             │                 │\n",
       "├──────────────────────────────────────┼─────────────────────────────┼─────────────────┤\n",
       "│ conv1d_24 (<span style=\"color: #0087ff; text-decoration-color: #0087ff\">Conv1D</span>)                   │ ?                           │     <span style=\"color: #00af00; text-decoration-color: #00af00\">0</span> (unbuilt) │\n",
       "├──────────────────────────────────────┼─────────────────────────────┼─────────────────┤\n",
       "│ max_pooling1d_24 (<span style=\"color: #0087ff; text-decoration-color: #0087ff\">MaxPooling1D</span>)      │ ?                           │     <span style=\"color: #00af00; text-decoration-color: #00af00\">0</span> (unbuilt) │\n",
       "├──────────────────────────────────────┼─────────────────────────────┼─────────────────┤\n",
       "│ dense_67 (<span style=\"color: #0087ff; text-decoration-color: #0087ff\">Dense</span>)                     │ ?                           │     <span style=\"color: #00af00; text-decoration-color: #00af00\">0</span> (unbuilt) │\n",
       "├──────────────────────────────────────┼─────────────────────────────┼─────────────────┤\n",
       "│ dropout_82 (<span style=\"color: #0087ff; text-decoration-color: #0087ff\">Dropout</span>)                 │ ?                           │               <span style=\"color: #00af00; text-decoration-color: #00af00\">0</span> │\n",
       "├──────────────────────────────────────┼─────────────────────────────┼─────────────────┤\n",
       "│ batch_normalization_49               │ ?                           │     <span style=\"color: #00af00; text-decoration-color: #00af00\">0</span> (unbuilt) │\n",
       "│ (<span style=\"color: #0087ff; text-decoration-color: #0087ff\">BatchNormalization</span>)                 │                             │                 │\n",
       "├──────────────────────────────────────┼─────────────────────────────┼─────────────────┤\n",
       "│ flatten_24 (<span style=\"color: #0087ff; text-decoration-color: #0087ff\">Flatten</span>)                 │ ?                           │     <span style=\"color: #00af00; text-decoration-color: #00af00\">0</span> (unbuilt) │\n",
       "├──────────────────────────────────────┼─────────────────────────────┼─────────────────┤\n",
       "│ dense_68 (<span style=\"color: #0087ff; text-decoration-color: #0087ff\">Dense</span>)                     │ ?                           │     <span style=\"color: #00af00; text-decoration-color: #00af00\">0</span> (unbuilt) │\n",
       "└──────────────────────────────────────┴─────────────────────────────┴─────────────────┘\n",
       "</pre>\n"
      ],
      "text/plain": [
       "┏━━━━━━━━━━━━━━━━━━━━━━━━━━━━━━━━━━━━━━┳━━━━━━━━━━━━━━━━━━━━━━━━━━━━━┳━━━━━━━━━━━━━━━━━┓\n",
       "┃\u001b[1m \u001b[0m\u001b[1mLayer (type)                        \u001b[0m\u001b[1m \u001b[0m┃\u001b[1m \u001b[0m\u001b[1mOutput Shape               \u001b[0m\u001b[1m \u001b[0m┃\u001b[1m \u001b[0m\u001b[1m        Param #\u001b[0m\u001b[1m \u001b[0m┃\n",
       "┡━━━━━━━━━━━━━━━━━━━━━━━━━━━━━━━━━━━━━━╇━━━━━━━━━━━━━━━━━━━━━━━━━━━━━╇━━━━━━━━━━━━━━━━━┩\n",
       "│ embedding_25 (\u001b[38;5;33mEmbedding\u001b[0m)             │ ?                           │     \u001b[38;5;34m0\u001b[0m (unbuilt) │\n",
       "├──────────────────────────────────────┼─────────────────────────────┼─────────────────┤\n",
       "│ dropout_81 (\u001b[38;5;33mDropout\u001b[0m)                 │ ?                           │               \u001b[38;5;34m0\u001b[0m │\n",
       "├──────────────────────────────────────┼─────────────────────────────┼─────────────────┤\n",
       "│ batch_normalization_48               │ ?                           │     \u001b[38;5;34m0\u001b[0m (unbuilt) │\n",
       "│ (\u001b[38;5;33mBatchNormalization\u001b[0m)                 │                             │                 │\n",
       "├──────────────────────────────────────┼─────────────────────────────┼─────────────────┤\n",
       "│ conv1d_24 (\u001b[38;5;33mConv1D\u001b[0m)                   │ ?                           │     \u001b[38;5;34m0\u001b[0m (unbuilt) │\n",
       "├──────────────────────────────────────┼─────────────────────────────┼─────────────────┤\n",
       "│ max_pooling1d_24 (\u001b[38;5;33mMaxPooling1D\u001b[0m)      │ ?                           │     \u001b[38;5;34m0\u001b[0m (unbuilt) │\n",
       "├──────────────────────────────────────┼─────────────────────────────┼─────────────────┤\n",
       "│ dense_67 (\u001b[38;5;33mDense\u001b[0m)                     │ ?                           │     \u001b[38;5;34m0\u001b[0m (unbuilt) │\n",
       "├──────────────────────────────────────┼─────────────────────────────┼─────────────────┤\n",
       "│ dropout_82 (\u001b[38;5;33mDropout\u001b[0m)                 │ ?                           │               \u001b[38;5;34m0\u001b[0m │\n",
       "├──────────────────────────────────────┼─────────────────────────────┼─────────────────┤\n",
       "│ batch_normalization_49               │ ?                           │     \u001b[38;5;34m0\u001b[0m (unbuilt) │\n",
       "│ (\u001b[38;5;33mBatchNormalization\u001b[0m)                 │                             │                 │\n",
       "├──────────────────────────────────────┼─────────────────────────────┼─────────────────┤\n",
       "│ flatten_24 (\u001b[38;5;33mFlatten\u001b[0m)                 │ ?                           │     \u001b[38;5;34m0\u001b[0m (unbuilt) │\n",
       "├──────────────────────────────────────┼─────────────────────────────┼─────────────────┤\n",
       "│ dense_68 (\u001b[38;5;33mDense\u001b[0m)                     │ ?                           │     \u001b[38;5;34m0\u001b[0m (unbuilt) │\n",
       "└──────────────────────────────────────┴─────────────────────────────┴─────────────────┘\n"
      ]
     },
     "metadata": {},
     "output_type": "display_data"
    },
    {
     "data": {
      "text/html": [
       "<pre style=\"white-space:pre;overflow-x:auto;line-height:normal;font-family:Menlo,'DejaVu Sans Mono',consolas,'Courier New',monospace\"><span style=\"font-weight: bold\"> Total params: </span><span style=\"color: #00af00; text-decoration-color: #00af00\">0</span> (0.00 B)\n",
       "</pre>\n"
      ],
      "text/plain": [
       "\u001b[1m Total params: \u001b[0m\u001b[38;5;34m0\u001b[0m (0.00 B)\n"
      ]
     },
     "metadata": {},
     "output_type": "display_data"
    },
    {
     "data": {
      "text/html": [
       "<pre style=\"white-space:pre;overflow-x:auto;line-height:normal;font-family:Menlo,'DejaVu Sans Mono',consolas,'Courier New',monospace\"><span style=\"font-weight: bold\"> Trainable params: </span><span style=\"color: #00af00; text-decoration-color: #00af00\">0</span> (0.00 B)\n",
       "</pre>\n"
      ],
      "text/plain": [
       "\u001b[1m Trainable params: \u001b[0m\u001b[38;5;34m0\u001b[0m (0.00 B)\n"
      ]
     },
     "metadata": {},
     "output_type": "display_data"
    },
    {
     "data": {
      "text/html": [
       "<pre style=\"white-space:pre;overflow-x:auto;line-height:normal;font-family:Menlo,'DejaVu Sans Mono',consolas,'Courier New',monospace\"><span style=\"font-weight: bold\"> Non-trainable params: </span><span style=\"color: #00af00; text-decoration-color: #00af00\">0</span> (0.00 B)\n",
       "</pre>\n"
      ],
      "text/plain": [
       "\u001b[1m Non-trainable params: \u001b[0m\u001b[38;5;34m0\u001b[0m (0.00 B)\n"
      ]
     },
     "metadata": {},
     "output_type": "display_data"
    },
    {
     "name": "stdout",
     "output_type": "stream",
     "text": [
      "None\n",
      "Epoch 1/50\n",
      "\u001b[1m327/327\u001b[0m \u001b[32m━━━━━━━━━━━━━━━━━━━━\u001b[0m\u001b[37m\u001b[0m \u001b[1m18s\u001b[0m 39ms/step - accuracy: 0.6004 - loss: 0.9720\n",
      "Epoch 2/50\n",
      "\u001b[1m327/327\u001b[0m \u001b[32m━━━━━━━━━━━━━━━━━━━━\u001b[0m\u001b[37m\u001b[0m \u001b[1m12s\u001b[0m 38ms/step - accuracy: 0.7337 - loss: 0.6201\n",
      "Epoch 3/50\n",
      "\u001b[1m327/327\u001b[0m \u001b[32m━━━━━━━━━━━━━━━━━━━━\u001b[0m\u001b[37m\u001b[0m \u001b[1m13s\u001b[0m 38ms/step - accuracy: 0.7680 - loss: 0.5438\n",
      "Epoch 4/50\n",
      "\u001b[1m327/327\u001b[0m \u001b[32m━━━━━━━━━━━━━━━━━━━━\u001b[0m\u001b[37m\u001b[0m \u001b[1m12s\u001b[0m 38ms/step - accuracy: 0.7865 - loss: 0.5022\n",
      "Epoch 5/50\n",
      "\u001b[1m327/327\u001b[0m \u001b[32m━━━━━━━━━━━━━━━━━━━━\u001b[0m\u001b[37m\u001b[0m \u001b[1m13s\u001b[0m 40ms/step - accuracy: 0.8003 - loss: 0.4703\n",
      "Epoch 6/50\n",
      "\u001b[1m327/327\u001b[0m \u001b[32m━━━━━━━━━━━━━━━━━━━━\u001b[0m\u001b[37m\u001b[0m \u001b[1m13s\u001b[0m 38ms/step - accuracy: 0.8077 - loss: 0.4516\n",
      "Epoch 7/50\n",
      "\u001b[1m327/327\u001b[0m \u001b[32m━━━━━━━━━━━━━━━━━━━━\u001b[0m\u001b[37m\u001b[0m \u001b[1m13s\u001b[0m 38ms/step - accuracy: 0.8165 - loss: 0.4351\n",
      "Epoch 8/50\n",
      "\u001b[1m327/327\u001b[0m \u001b[32m━━━━━━━━━━━━━━━━━━━━\u001b[0m\u001b[37m\u001b[0m \u001b[1m13s\u001b[0m 38ms/step - accuracy: 0.8234 - loss: 0.4226\n",
      "Epoch 9/50\n",
      "\u001b[1m327/327\u001b[0m \u001b[32m━━━━━━━━━━━━━━━━━━━━\u001b[0m\u001b[37m\u001b[0m \u001b[1m13s\u001b[0m 38ms/step - accuracy: 0.8237 - loss: 0.4166\n",
      "Epoch 10/50\n",
      "\u001b[1m327/327\u001b[0m \u001b[32m━━━━━━━━━━━━━━━━━━━━\u001b[0m\u001b[37m\u001b[0m \u001b[1m13s\u001b[0m 41ms/step - accuracy: 0.8318 - loss: 0.3986\n",
      "Epoch 11/50\n",
      "\u001b[1m327/327\u001b[0m \u001b[32m━━━━━━━━━━━━━━━━━━━━\u001b[0m\u001b[37m\u001b[0m \u001b[1m13s\u001b[0m 38ms/step - accuracy: 0.8321 - loss: 0.3942\n",
      "Epoch 12/50\n",
      "\u001b[1m327/327\u001b[0m \u001b[32m━━━━━━━━━━━━━━━━━━━━\u001b[0m\u001b[37m\u001b[0m \u001b[1m13s\u001b[0m 39ms/step - accuracy: 0.8348 - loss: 0.3920\n",
      "Epoch 13/50\n",
      "\u001b[1m327/327\u001b[0m \u001b[32m━━━━━━━━━━━━━━━━━━━━\u001b[0m\u001b[37m\u001b[0m \u001b[1m13s\u001b[0m 40ms/step - accuracy: 0.8378 - loss: 0.3851\n",
      "Epoch 14/50\n",
      "\u001b[1m327/327\u001b[0m \u001b[32m━━━━━━━━━━━━━━━━━━━━\u001b[0m\u001b[37m\u001b[0m \u001b[1m13s\u001b[0m 39ms/step - accuracy: 0.8416 - loss: 0.3743\n",
      "Epoch 15/50\n",
      "\u001b[1m327/327\u001b[0m \u001b[32m━━━━━━━━━━━━━━━━━━━━\u001b[0m\u001b[37m\u001b[0m \u001b[1m13s\u001b[0m 39ms/step - accuracy: 0.8424 - loss: 0.3767\n",
      "Epoch 16/50\n",
      "\u001b[1m327/327\u001b[0m \u001b[32m━━━━━━━━━━━━━━━━━━━━\u001b[0m\u001b[37m\u001b[0m \u001b[1m13s\u001b[0m 40ms/step - accuracy: 0.8420 - loss: 0.3710\n",
      "Epoch 17/50\n",
      "\u001b[1m327/327\u001b[0m \u001b[32m━━━━━━━━━━━━━━━━━━━━\u001b[0m\u001b[37m\u001b[0m \u001b[1m13s\u001b[0m 39ms/step - accuracy: 0.8451 - loss: 0.3650\n",
      "Epoch 18/50\n",
      "\u001b[1m327/327\u001b[0m \u001b[32m━━━━━━━━━━━━━━━━━━━━\u001b[0m\u001b[37m\u001b[0m \u001b[1m13s\u001b[0m 39ms/step - accuracy: 0.8479 - loss: 0.3608\n",
      "Epoch 19/50\n",
      "\u001b[1m327/327\u001b[0m \u001b[32m━━━━━━━━━━━━━━━━━━━━\u001b[0m\u001b[37m\u001b[0m \u001b[1m13s\u001b[0m 40ms/step - accuracy: 0.8497 - loss: 0.3572\n",
      "Epoch 20/50\n",
      "\u001b[1m327/327\u001b[0m \u001b[32m━━━━━━━━━━━━━━━━━━━━\u001b[0m\u001b[37m\u001b[0m \u001b[1m13s\u001b[0m 39ms/step - accuracy: 0.8492 - loss: 0.3527\n",
      "Epoch 21/50\n",
      "\u001b[1m327/327\u001b[0m \u001b[32m━━━━━━━━━━━━━━━━━━━━\u001b[0m\u001b[37m\u001b[0m \u001b[1m13s\u001b[0m 41ms/step - accuracy: 0.8493 - loss: 0.3556\n",
      "Epoch 22/50\n",
      "\u001b[1m327/327\u001b[0m \u001b[32m━━━━━━━━━━━━━━━━━━━━\u001b[0m\u001b[37m\u001b[0m \u001b[1m13s\u001b[0m 39ms/step - accuracy: 0.8563 - loss: 0.3446\n",
      "Epoch 23/50\n",
      "\u001b[1m327/327\u001b[0m \u001b[32m━━━━━━━━━━━━━━━━━━━━\u001b[0m\u001b[37m\u001b[0m \u001b[1m13s\u001b[0m 40ms/step - accuracy: 0.8551 - loss: 0.3470\n",
      "Epoch 24/50\n",
      "\u001b[1m327/327\u001b[0m \u001b[32m━━━━━━━━━━━━━━━━━━━━\u001b[0m\u001b[37m\u001b[0m \u001b[1m13s\u001b[0m 39ms/step - accuracy: 0.8550 - loss: 0.3446\n",
      "Epoch 25/50\n",
      "\u001b[1m327/327\u001b[0m \u001b[32m━━━━━━━━━━━━━━━━━━━━\u001b[0m\u001b[37m\u001b[0m \u001b[1m13s\u001b[0m 40ms/step - accuracy: 0.8583 - loss: 0.3386\n",
      "Epoch 26/50\n",
      "\u001b[1m327/327\u001b[0m \u001b[32m━━━━━━━━━━━━━━━━━━━━\u001b[0m\u001b[37m\u001b[0m \u001b[1m13s\u001b[0m 39ms/step - accuracy: 0.8601 - loss: 0.3372\n",
      "Epoch 27/50\n",
      "\u001b[1m327/327\u001b[0m \u001b[32m━━━━━━━━━━━━━━━━━━━━\u001b[0m\u001b[37m\u001b[0m \u001b[1m13s\u001b[0m 40ms/step - accuracy: 0.8601 - loss: 0.3344\n",
      "Epoch 28/50\n",
      "\u001b[1m327/327\u001b[0m \u001b[32m━━━━━━━━━━━━━━━━━━━━\u001b[0m\u001b[37m\u001b[0m \u001b[1m13s\u001b[0m 39ms/step - accuracy: 0.8574 - loss: 0.3392\n",
      "Epoch 29/50\n",
      "\u001b[1m327/327\u001b[0m \u001b[32m━━━━━━━━━━━━━━━━━━━━\u001b[0m\u001b[37m\u001b[0m \u001b[1m13s\u001b[0m 40ms/step - accuracy: 0.8599 - loss: 0.3344\n",
      "Epoch 30/50\n",
      "\u001b[1m327/327\u001b[0m \u001b[32m━━━━━━━━━━━━━━━━━━━━\u001b[0m\u001b[37m\u001b[0m \u001b[1m13s\u001b[0m 39ms/step - accuracy: 0.8590 - loss: 0.3314\n",
      "Epoch 31/50\n",
      "\u001b[1m327/327\u001b[0m \u001b[32m━━━━━━━━━━━━━━━━━━━━\u001b[0m\u001b[37m\u001b[0m \u001b[1m13s\u001b[0m 40ms/step - accuracy: 0.8590 - loss: 0.3352\n",
      "Epoch 32/50\n",
      "\u001b[1m327/327\u001b[0m \u001b[32m━━━━━━━━━━━━━━━━━━━━\u001b[0m\u001b[37m\u001b[0m \u001b[1m13s\u001b[0m 40ms/step - accuracy: 0.8614 - loss: 0.3323\n",
      "Epoch 33/50\n",
      "\u001b[1m327/327\u001b[0m \u001b[32m━━━━━━━━━━━━━━━━━━━━\u001b[0m\u001b[37m\u001b[0m \u001b[1m13s\u001b[0m 39ms/step - accuracy: 0.8641 - loss: 0.3240\n",
      "Epoch 34/50\n",
      "\u001b[1m327/327\u001b[0m \u001b[32m━━━━━━━━━━━━━━━━━━━━\u001b[0m\u001b[37m\u001b[0m \u001b[1m13s\u001b[0m 40ms/step - accuracy: 0.8655 - loss: 0.3242\n",
      "Epoch 35/50\n",
      "\u001b[1m327/327\u001b[0m \u001b[32m━━━━━━━━━━━━━━━━━━━━\u001b[0m\u001b[37m\u001b[0m \u001b[1m13s\u001b[0m 39ms/step - accuracy: 0.8659 - loss: 0.3200\n",
      "Epoch 36/50\n",
      "\u001b[1m327/327\u001b[0m \u001b[32m━━━━━━━━━━━━━━━━━━━━\u001b[0m\u001b[37m\u001b[0m \u001b[1m13s\u001b[0m 38ms/step - accuracy: 0.8660 - loss: 0.3233\n",
      "Epoch 37/50\n",
      "\u001b[1m327/327\u001b[0m \u001b[32m━━━━━━━━━━━━━━━━━━━━\u001b[0m\u001b[37m\u001b[0m \u001b[1m13s\u001b[0m 39ms/step - accuracy: 0.8632 - loss: 0.3232\n",
      "Epoch 38/50\n",
      "\u001b[1m327/327\u001b[0m \u001b[32m━━━━━━━━━━━━━━━━━━━━\u001b[0m\u001b[37m\u001b[0m \u001b[1m13s\u001b[0m 40ms/step - accuracy: 0.8657 - loss: 0.3197\n",
      "Epoch 39/50\n",
      "\u001b[1m327/327\u001b[0m \u001b[32m━━━━━━━━━━━━━━━━━━━━\u001b[0m\u001b[37m\u001b[0m \u001b[1m13s\u001b[0m 39ms/step - accuracy: 0.8664 - loss: 0.3205\n",
      "Epoch 40/50\n",
      "\u001b[1m327/327\u001b[0m \u001b[32m━━━━━━━━━━━━━━━━━━━━\u001b[0m\u001b[37m\u001b[0m \u001b[1m13s\u001b[0m 39ms/step - accuracy: 0.8687 - loss: 0.3169\n",
      "Epoch 41/50\n",
      "\u001b[1m327/327\u001b[0m \u001b[32m━━━━━━━━━━━━━━━━━━━━\u001b[0m\u001b[37m\u001b[0m \u001b[1m13s\u001b[0m 40ms/step - accuracy: 0.8712 - loss: 0.3108\n",
      "Epoch 42/50\n",
      "\u001b[1m327/327\u001b[0m \u001b[32m━━━━━━━━━━━━━━━━━━━━\u001b[0m\u001b[37m\u001b[0m \u001b[1m13s\u001b[0m 40ms/step - accuracy: 0.8680 - loss: 0.3155\n",
      "Epoch 43/50\n",
      "\u001b[1m327/327\u001b[0m \u001b[32m━━━━━━━━━━━━━━━━━━━━\u001b[0m\u001b[37m\u001b[0m \u001b[1m13s\u001b[0m 39ms/step - accuracy: 0.8680 - loss: 0.3167\n",
      "Epoch 44/50\n",
      "\u001b[1m327/327\u001b[0m \u001b[32m━━━━━━━━━━━━━━━━━━━━\u001b[0m\u001b[37m\u001b[0m \u001b[1m12s\u001b[0m 38ms/step - accuracy: 0.8725 - loss: 0.3107\n",
      "Epoch 45/50\n",
      "\u001b[1m327/327\u001b[0m \u001b[32m━━━━━━━━━━━━━━━━━━━━\u001b[0m\u001b[37m\u001b[0m \u001b[1m12s\u001b[0m 37ms/step - accuracy: 0.8668 - loss: 0.3128\n",
      "Epoch 46/50\n",
      "\u001b[1m327/327\u001b[0m \u001b[32m━━━━━━━━━━━━━━━━━━━━\u001b[0m\u001b[37m\u001b[0m \u001b[1m13s\u001b[0m 39ms/step - accuracy: 0.8719 - loss: 0.3072\n",
      "Epoch 47/50\n",
      "\u001b[1m327/327\u001b[0m \u001b[32m━━━━━━━━━━━━━━━━━━━━\u001b[0m\u001b[37m\u001b[0m \u001b[1m12s\u001b[0m 38ms/step - accuracy: 0.8718 - loss: 0.3071\n",
      "Epoch 48/50\n",
      "\u001b[1m327/327\u001b[0m \u001b[32m━━━━━━━━━━━━━━━━━━━━\u001b[0m\u001b[37m\u001b[0m \u001b[1m12s\u001b[0m 37ms/step - accuracy: 0.8711 - loss: 0.3116\n",
      "Epoch 49/50\n",
      "\u001b[1m327/327\u001b[0m \u001b[32m━━━━━━━━━━━━━━━━━━━━\u001b[0m\u001b[37m\u001b[0m \u001b[1m12s\u001b[0m 37ms/step - accuracy: 0.8712 - loss: 0.3080\n",
      "Epoch 50/50\n",
      "\u001b[1m327/327\u001b[0m \u001b[32m━━━━━━━━━━━━━━━━━━━━\u001b[0m\u001b[37m\u001b[0m \u001b[1m12s\u001b[0m 38ms/step - accuracy: 0.8722 - loss: 0.3061\n"
     ]
    }
   ],
   "source": [
    "# # Compile\n",
    "\n",
    "# model.compile(loss='mse',              \n",
    "#               # optimizer=Adam(learning_rate=0.2), \n",
    "#               # optimizer='adam',\n",
    "#               optimizer=tf.keras.optimizers.Nadam(learning_rate=0.001),\n",
    "#               # metrics=['mae'])\n",
    "#               metrics=['mse'])\n",
    "\n",
    "print(model.summary()) # Выводим структуру сети\n",
    "# Train NN\n",
    "history=model.fit(X_train,\n",
    "                  y_train,\n",
    "                  batch_size=300,\n",
    "                  epochs=50,\n",
    "                  class_weight=class_weights_dict,\n",
    "                  # Подавляем вывол протоколов обучения.\n",
    "                  # verbose=0,\n",
    "                  # Используем 20% обучающих данных для валидации.\n",
    "                  # validation_split = 0.2)\n",
    "                 )\n",
    "\n"
   ]
  },
  {
   "cell_type": "code",
   "execution_count": 132,
   "id": "5fa5944e-0912-4a70-9c57-7fbbaea71792",
   "metadata": {},
   "outputs": [
    {
     "data": {
      "image/png": "[encoded data removed]",
      "text/plain": [
       "<Figure size 640x480 with 1 Axes>"
      ]
     },
     "metadata": {},
     "output_type": "display_data"
    }
   ],
   "source": [
    "plt.plot(history.history['accuracy'])\n",
    "# plt.plot(history.history['hindle'])\n",
    "plt.show()"
   ]
  },
  {
   "cell_type": "code",
   "execution_count": 86,
   "id": "6059dba0-505a-45f5-ae20-062c7c9acf9f",
   "metadata": {},
   "outputs": [
    {
     "name": "stdout",
     "output_type": "stream",
     "text": [
      "\u001b[1m340/340\u001b[0m \u001b[32m━━━━━━━━━━━━━━━━━━━━\u001b[0m\u001b[37m\u001b[0m \u001b[1m1s\u001b[0m 3ms/step\n"
     ]
    }
   ],
   "source": [
    "test_predictions = model.predict(X_test)"
   ]
  },
  {
   "cell_type": "raw",
   "id": "fa03c34b-1ec7-4c6e-8a07-97b90ddce0dc",
   "metadata": {},
   "source": [
    "accuracy_score(y_test, test_predictions.flatten()) \n",
    "# print('Decision AdaBoost train/test %.3f/%.3f'\n",
    "#       % (ada_train, ada_test))\n"
   ]
  },
  {
   "cell_type": "raw",
   "id": "8b4abfa6-cefd-4b25-83c0-5d213ab80356",
   "metadata": {},
   "source": [
    "test_predictions = model.predict(X_test).flatten()\n",
    "\n",
    "a = plt.axes(aspect='equal')\n",
    "plt.scatter(y_test, test_predictions)\n",
    "plt.xlabel('Истинные значения')\n",
    "plt.ylabel('Предсказанные значения')\n",
    "lims = [0, 10]\n",
    "plt.xlim(lims)\n",
    "plt.ylim(lims)\n",
    "_ = plt.plot(lims, lims)\n",
    "plt.show()"
   ]
  },
  {
   "cell_type": "raw",
   "id": "c2e4d67a-d4c9-453f-a1df-b5b4b1edf3ea",
   "metadata": {},
   "source": [
    "from sklearn.metrics import roc_curve"
   ]
  },
  {
   "cell_type": "raw",
   "id": "f71d2428-5f0f-4470-ba7e-3fea313a11c2",
   "metadata": {},
   "source": [
    "sns.set(font_scale=1.5)\n",
    "sns.set_color_codes(\"muted\")\n",
    "\n",
    "plt.figure(figsize=(10, 8))\n",
    "# fpr, tpr, thresholds = roc_curve(y_test, lr.predict_proba(X_test)[:,1], pos_label=1)\n",
    "fpr, tpr, thresholds = roc_curve(y_test, model.predict(X_test)[:,1], pos_label=1)\n",
    "lw = 2\n",
    "plt.plot(fpr, tpr, lw=lw, label='ROC curve ')\n",
    "plt.plot([0, 1], [0, 1])\n",
    "plt.xlim([0.0, 1.0])\n",
    "plt.ylim([0.0, 1.05])\n",
    "plt.xlabel('False Positive Rate')\n",
    "plt.ylabel('True Positive Rate')\n",
    "plt.title('ROC curve')\n",
    "plt.savefig(\"ROC.png\")\n",
    "plt.show()"
   ]
  }
 ],
 "metadata": {
  "kernelspec": {
   "display_name": "Python 3 (ipykernel)",
   "language": "python",
   "name": "python3"
  },
  "language_info": {
   "codemirror_mode": {
    "name": "ipython",
    "version": 3
   },
   "file_extension": ".py",
   "mimetype": "text/x-python",
   "name": "python",
   "nbconvert_exporter": "python",
   "pygments_lexer": "ipython3",
   "version": "3.12.3"
  }
 },
 "nbformat": 4,
 "nbformat_minor": 5
}
