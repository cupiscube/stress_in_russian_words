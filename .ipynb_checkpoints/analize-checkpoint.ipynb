{
 "cells": [
  {
   "cell_type": "code",
   "execution_count": 1,
   "id": "f52f641f-f550-41fc-9170-2e7219cf306f",
   "metadata": {},
   "outputs": [],
   "source": [
    "import pandas as pd\n",
    "import numpy as np\n",
    "import sklearn as sl\n",
    "import seaborn as sns\n",
    "\n",
    "import math as m"
   ]
  },
  {
   "cell_type": "code",
   "execution_count": 2,
   "id": "bfdd13cf-f43e-424b-ac02-a37917f3752b",
   "metadata": {},
   "outputs": [
    {
     "data": {
      "text/html": [
       "<div>\n",
       "<style scoped>\n",
       "    .dataframe tbody tr th:only-of-type {\n",
       "        vertical-align: middle;\n",
       "    }\n",
       "\n",
       "    .dataframe tbody tr th {\n",
       "        vertical-align: top;\n",
       "    }\n",
       "\n",
       "    .dataframe thead th {\n",
       "        text-align: right;\n",
       "    }\n",
       "</style>\n",
       "<table border=\"1\" class=\"dataframe\">\n",
       "  <thead>\n",
       "    <tr style=\"text-align: right;\">\n",
       "      <th></th>\n",
       "      <th>word</th>\n",
       "      <th>stress</th>\n",
       "      <th>num_syllables</th>\n",
       "      <th>lemma</th>\n",
       "    </tr>\n",
       "    <tr>\n",
       "      <th>id</th>\n",
       "      <th></th>\n",
       "      <th></th>\n",
       "      <th></th>\n",
       "      <th></th>\n",
       "    </tr>\n",
       "  </thead>\n",
       "  <tbody>\n",
       "    <tr>\n",
       "      <th>0</th>\n",
       "      <td>румяной</td>\n",
       "      <td>2</td>\n",
       "      <td>3</td>\n",
       "      <td>румяный</td>\n",
       "    </tr>\n",
       "    <tr>\n",
       "      <th>1</th>\n",
       "      <td>цифрами</td>\n",
       "      <td>1</td>\n",
       "      <td>3</td>\n",
       "      <td>цифра</td>\n",
       "    </tr>\n",
       "    <tr>\n",
       "      <th>2</th>\n",
       "      <td>слугами</td>\n",
       "      <td>1</td>\n",
       "      <td>3</td>\n",
       "      <td>слуга</td>\n",
       "    </tr>\n",
       "  </tbody>\n",
       "</table>\n",
       "</div>"
      ],
      "text/plain": [
       "       word  stress  num_syllables    lemma\n",
       "id                                         \n",
       "0   румяной       2              3  румяный\n",
       "1   цифрами       1              3    цифра\n",
       "2   слугами       1              3    слуга"
      ]
     },
     "execution_count": 2,
     "metadata": {},
     "output_type": "execute_result"
    }
   ],
   "source": [
    "ds = pd.read_csv('./data/train.csv', index_col='id')\n",
    "ds.head(3)"
   ]
  },
  {
   "cell_type": "code",
   "execution_count": 3,
   "id": "225b2a90-6bcc-428c-bef5-a81b2e672d7f",
   "metadata": {},
   "outputs": [
    {
     "data": {
      "text/html": [
       "<div>\n",
       "<style scoped>\n",
       "    .dataframe tbody tr th:only-of-type {\n",
       "        vertical-align: middle;\n",
       "    }\n",
       "\n",
       "    .dataframe tbody tr th {\n",
       "        vertical-align: top;\n",
       "    }\n",
       "\n",
       "    .dataframe thead th {\n",
       "        text-align: right;\n",
       "    }\n",
       "</style>\n",
       "<table border=\"1\" class=\"dataframe\">\n",
       "  <thead>\n",
       "    <tr style=\"text-align: right;\">\n",
       "      <th></th>\n",
       "      <th>stress</th>\n",
       "    </tr>\n",
       "    <tr>\n",
       "      <th>id</th>\n",
       "      <th></th>\n",
       "    </tr>\n",
       "  </thead>\n",
       "  <tbody>\n",
       "    <tr>\n",
       "      <th>0</th>\n",
       "      <td>1</td>\n",
       "    </tr>\n",
       "    <tr>\n",
       "      <th>1</th>\n",
       "      <td>1</td>\n",
       "    </tr>\n",
       "    <tr>\n",
       "      <th>2</th>\n",
       "      <td>1</td>\n",
       "    </tr>\n",
       "  </tbody>\n",
       "</table>\n",
       "</div>"
      ],
      "text/plain": [
       "    stress\n",
       "id        \n",
       "0        1\n",
       "1        1\n",
       "2        1"
      ]
     },
     "execution_count": 3,
     "metadata": {},
     "output_type": "execute_result"
    }
   ],
   "source": [
    "ds_ss = pd.read_csv('./data/sample_submission.csv', index_col='id')\n",
    "ds_ss.head(3)"
   ]
  },
  {
   "cell_type": "code",
   "execution_count": 4,
   "id": "bd1c8e1d-3e02-4f14-81b4-3d6842628b4b",
   "metadata": {},
   "outputs": [
    {
     "data": {
      "text/html": [
       "<div>\n",
       "<style scoped>\n",
       "    .dataframe tbody tr th:only-of-type {\n",
       "        vertical-align: middle;\n",
       "    }\n",
       "\n",
       "    .dataframe tbody tr th {\n",
       "        vertical-align: top;\n",
       "    }\n",
       "\n",
       "    .dataframe thead th {\n",
       "        text-align: right;\n",
       "    }\n",
       "</style>\n",
       "<table border=\"1\" class=\"dataframe\">\n",
       "  <thead>\n",
       "    <tr style=\"text-align: right;\">\n",
       "      <th></th>\n",
       "      <th>stress</th>\n",
       "    </tr>\n",
       "    <tr>\n",
       "      <th>id</th>\n",
       "      <th></th>\n",
       "    </tr>\n",
       "  </thead>\n",
       "  <tbody>\n",
       "  </tbody>\n",
       "</table>\n",
       "</div>"
      ],
      "text/plain": [
       "Empty DataFrame\n",
       "Columns: [stress]\n",
       "Index: []"
      ]
     },
     "execution_count": 4,
     "metadata": {},
     "output_type": "execute_result"
    }
   ],
   "source": [
    "ds_ss.loc[ds_ss['stress'] != 1]"
   ]
  },
  {
   "cell_type": "code",
   "execution_count": 5,
   "id": "2ba9c9de-7e5b-48da-9ae0-4e4cd9b06293",
   "metadata": {},
   "outputs": [
    {
     "data": {
      "text/html": [
       "<div>\n",
       "<style scoped>\n",
       "    .dataframe tbody tr th:only-of-type {\n",
       "        vertical-align: middle;\n",
       "    }\n",
       "\n",
       "    .dataframe tbody tr th {\n",
       "        vertical-align: top;\n",
       "    }\n",
       "\n",
       "    .dataframe thead th {\n",
       "        text-align: right;\n",
       "    }\n",
       "</style>\n",
       "<table border=\"1\" class=\"dataframe\">\n",
       "  <thead>\n",
       "    <tr style=\"text-align: right;\">\n",
       "      <th></th>\n",
       "      <th>word</th>\n",
       "      <th>num_syllables</th>\n",
       "      <th>lemma</th>\n",
       "    </tr>\n",
       "    <tr>\n",
       "      <th>id</th>\n",
       "      <th></th>\n",
       "      <th></th>\n",
       "      <th></th>\n",
       "    </tr>\n",
       "  </thead>\n",
       "  <tbody>\n",
       "    <tr>\n",
       "      <th>0</th>\n",
       "      <td>эпилепсия</td>\n",
       "      <td>5</td>\n",
       "      <td>эпилепсия</td>\n",
       "    </tr>\n",
       "    <tr>\n",
       "      <th>1</th>\n",
       "      <td>относящейся</td>\n",
       "      <td>5</td>\n",
       "      <td>относиться</td>\n",
       "    </tr>\n",
       "    <tr>\n",
       "      <th>2</th>\n",
       "      <td>размышлениями</td>\n",
       "      <td>6</td>\n",
       "      <td>размышление</td>\n",
       "    </tr>\n",
       "  </tbody>\n",
       "</table>\n",
       "</div>"
      ],
      "text/plain": [
       "             word  num_syllables        lemma\n",
       "id                                           \n",
       "0       эпилепсия              5    эпилепсия\n",
       "1     относящейся              5   относиться\n",
       "2   размышлениями              6  размышление"
      ]
     },
     "execution_count": 5,
     "metadata": {},
     "output_type": "execute_result"
    }
   ],
   "source": [
    "ds_test = pd.read_csv('./data/test.csv', index_col='id')\n",
    "ds_test.head(3)"
   ]
  },
  {
   "cell_type": "code",
   "execution_count": 6,
   "id": "abfc2a84-c601-4141-aec0-70cf960dc6fa",
   "metadata": {},
   "outputs": [
    {
     "data": {
      "text/html": [
       "<div>\n",
       "<style scoped>\n",
       "    .dataframe tbody tr th:only-of-type {\n",
       "        vertical-align: middle;\n",
       "    }\n",
       "\n",
       "    .dataframe tbody tr th {\n",
       "        vertical-align: top;\n",
       "    }\n",
       "\n",
       "    .dataframe thead th {\n",
       "        text-align: right;\n",
       "    }\n",
       "</style>\n",
       "<table border=\"1\" class=\"dataframe\">\n",
       "  <thead>\n",
       "    <tr style=\"text-align: right;\">\n",
       "      <th></th>\n",
       "      <th>num_syllables</th>\n",
       "    </tr>\n",
       "  </thead>\n",
       "  <tbody>\n",
       "    <tr>\n",
       "      <th>count</th>\n",
       "      <td>29960.000000</td>\n",
       "    </tr>\n",
       "    <tr>\n",
       "      <th>mean</th>\n",
       "      <td>3.482410</td>\n",
       "    </tr>\n",
       "    <tr>\n",
       "      <th>std</th>\n",
       "      <td>1.152522</td>\n",
       "    </tr>\n",
       "    <tr>\n",
       "      <th>min</th>\n",
       "      <td>1.000000</td>\n",
       "    </tr>\n",
       "    <tr>\n",
       "      <th>25%</th>\n",
       "      <td>3.000000</td>\n",
       "    </tr>\n",
       "    <tr>\n",
       "      <th>50%</th>\n",
       "      <td>3.000000</td>\n",
       "    </tr>\n",
       "    <tr>\n",
       "      <th>75%</th>\n",
       "      <td>4.000000</td>\n",
       "    </tr>\n",
       "    <tr>\n",
       "      <th>max</th>\n",
       "      <td>6.000000</td>\n",
       "    </tr>\n",
       "  </tbody>\n",
       "</table>\n",
       "</div>"
      ],
      "text/plain": [
       "       num_syllables\n",
       "count   29960.000000\n",
       "mean        3.482410\n",
       "std         1.152522\n",
       "min         1.000000\n",
       "25%         3.000000\n",
       "50%         3.000000\n",
       "75%         4.000000\n",
       "max         6.000000"
      ]
     },
     "execution_count": 6,
     "metadata": {},
     "output_type": "execute_result"
    }
   ],
   "source": [
    "pd.set_option('display.max_rows', 10)\n",
    "ds_test.describe()"
   ]
  },
  {
   "cell_type": "raw",
   "id": "baa73029-e30e-49f9-8c69-e89edfdb0210",
   "metadata": {},
   "source": [
    "ds_ss['stress']"
   ]
  },
  {
   "cell_type": "raw",
   "id": "eee74f9b-5e9e-4d33-9a5f-dccc935871cd",
   "metadata": {},
   "source": [
    "sns.histplot(data = {\"stress\": ds_ss['stress']}, \n",
    "             kde=True)"
   ]
  },
  {
   "cell_type": "code",
   "execution_count": 7,
   "id": "db8fbfda-9627-43ae-a49b-efe02945cd12",
   "metadata": {},
   "outputs": [
    {
     "data": {
      "text/html": [
       "<div>\n",
       "<style scoped>\n",
       "    .dataframe tbody tr th:only-of-type {\n",
       "        vertical-align: middle;\n",
       "    }\n",
       "\n",
       "    .dataframe tbody tr th {\n",
       "        vertical-align: top;\n",
       "    }\n",
       "\n",
       "    .dataframe thead th {\n",
       "        text-align: right;\n",
       "    }\n",
       "</style>\n",
       "<table border=\"1\" class=\"dataframe\">\n",
       "  <thead>\n",
       "    <tr style=\"text-align: right;\">\n",
       "      <th></th>\n",
       "      <th>stress</th>\n",
       "      <th>num_syllables</th>\n",
       "    </tr>\n",
       "  </thead>\n",
       "  <tbody>\n",
       "    <tr>\n",
       "      <th>count</th>\n",
       "      <td>63438.000000</td>\n",
       "      <td>63438.000000</td>\n",
       "    </tr>\n",
       "    <tr>\n",
       "      <th>mean</th>\n",
       "      <td>2.209354</td>\n",
       "      <td>3.489691</td>\n",
       "    </tr>\n",
       "    <tr>\n",
       "      <th>std</th>\n",
       "      <td>0.912874</td>\n",
       "      <td>1.158803</td>\n",
       "    </tr>\n",
       "    <tr>\n",
       "      <th>min</th>\n",
       "      <td>1.000000</td>\n",
       "      <td>1.000000</td>\n",
       "    </tr>\n",
       "    <tr>\n",
       "      <th>25%</th>\n",
       "      <td>2.000000</td>\n",
       "      <td>3.000000</td>\n",
       "    </tr>\n",
       "    <tr>\n",
       "      <th>50%</th>\n",
       "      <td>2.000000</td>\n",
       "      <td>3.000000</td>\n",
       "    </tr>\n",
       "    <tr>\n",
       "      <th>75%</th>\n",
       "      <td>3.000000</td>\n",
       "      <td>4.000000</td>\n",
       "    </tr>\n",
       "    <tr>\n",
       "      <th>max</th>\n",
       "      <td>6.000000</td>\n",
       "      <td>6.000000</td>\n",
       "    </tr>\n",
       "  </tbody>\n",
       "</table>\n",
       "</div>"
      ],
      "text/plain": [
       "             stress  num_syllables\n",
       "count  63438.000000   63438.000000\n",
       "mean       2.209354       3.489691\n",
       "std        0.912874       1.158803\n",
       "min        1.000000       1.000000\n",
       "25%        2.000000       3.000000\n",
       "50%        2.000000       3.000000\n",
       "75%        3.000000       4.000000\n",
       "max        6.000000       6.000000"
      ]
     },
     "execution_count": 7,
     "metadata": {},
     "output_type": "execute_result"
    }
   ],
   "source": [
    "ds.describe()"
   ]
  },
  {
   "cell_type": "markdown",
   "id": "9658a29e-07fb-49cc-89de-9efed7646cfc",
   "metadata": {},
   "source": [
    "# Поиск шумов"
   ]
  },
  {
   "cell_type": "raw",
   "id": "f747efc0-0038-433e-bafb-daa127d62c97",
   "metadata": {},
   "source": [
    "Проверка на дурака: ударение на согласную букву не ставится!"
   ]
  },
  {
   "cell_type": "code",
   "execution_count": 8,
   "id": "56a2aa4f-b34b-46bf-b39f-9c1f8eb6d712",
   "metadata": {},
   "outputs": [],
   "source": [
    "ds_copy = ds.copy()"
   ]
  },
  {
   "cell_type": "raw",
   "id": "1051a84d-0832-4917-af64-5be8994b1d6f",
   "metadata": {},
   "source": [
    "# «а» «у» «о» «и» «э» «ы» «я» «ю» «е» «ё»\n",
    "vowels = ['а', 'е', 'ё', 'у', 'о', 'и', 'э', 'ы', 'ю', 'я']\n",
    "ds_ = ds.apply(lambda df: df.word[df.stress - 1] in vowels, axis=1)\n",
    "ds_"
   ]
  },
  {
   "cell_type": "code",
   "execution_count": 9,
   "id": "f6c23602-0f46-4c42-847f-f6a2a0ec1560",
   "metadata": {},
   "outputs": [],
   "source": [
    "# «а» «у» «о» «и» «э» «ы» «я» «ю» «е» «ё»\n",
    "vowels = ['а', 'е', 'ё', 'у', 'о', 'и', 'э', 'ы', 'ю', 'я']"
   ]
  },
  {
   "cell_type": "markdown",
   "id": "9082886e-fe90-4d6e-b7b8-9353b1d7e989",
   "metadata": {},
   "source": [
    "#  Анализ данных"
   ]
  },
  {
   "cell_type": "code",
   "execution_count": 10,
   "id": "73edf54f-fccc-4b98-9d00-15a7f089549f",
   "metadata": {},
   "outputs": [
    {
     "data": {
      "text/html": [
       "<div>\n",
       "<style scoped>\n",
       "    .dataframe tbody tr th:only-of-type {\n",
       "        vertical-align: middle;\n",
       "    }\n",
       "\n",
       "    .dataframe tbody tr th {\n",
       "        vertical-align: top;\n",
       "    }\n",
       "\n",
       "    .dataframe thead th {\n",
       "        text-align: right;\n",
       "    }\n",
       "</style>\n",
       "<table border=\"1\" class=\"dataframe\">\n",
       "  <thead>\n",
       "    <tr style=\"text-align: right;\">\n",
       "      <th></th>\n",
       "      <th>word</th>\n",
       "      <th>stress</th>\n",
       "      <th>num_syllables</th>\n",
       "      <th>lemma</th>\n",
       "    </tr>\n",
       "    <tr>\n",
       "      <th>id</th>\n",
       "      <th></th>\n",
       "      <th></th>\n",
       "      <th></th>\n",
       "      <th></th>\n",
       "    </tr>\n",
       "  </thead>\n",
       "  <tbody>\n",
       "    <tr>\n",
       "      <th>1000</th>\n",
       "      <td>тренировками</td>\n",
       "      <td>3</td>\n",
       "      <td>5</td>\n",
       "      <td>тренировка</td>\n",
       "    </tr>\n",
       "    <tr>\n",
       "      <th>1001</th>\n",
       "      <td>профиле</td>\n",
       "      <td>1</td>\n",
       "      <td>3</td>\n",
       "      <td>профиль</td>\n",
       "    </tr>\n",
       "    <tr>\n",
       "      <th>1002</th>\n",
       "      <td>звала</td>\n",
       "      <td>2</td>\n",
       "      <td>2</td>\n",
       "      <td>звать</td>\n",
       "    </tr>\n",
       "    <tr>\n",
       "      <th>1003</th>\n",
       "      <td>окружающими</td>\n",
       "      <td>3</td>\n",
       "      <td>6</td>\n",
       "      <td>окружающий</td>\n",
       "    </tr>\n",
       "    <tr>\n",
       "      <th>1004</th>\n",
       "      <td>трансплантации</td>\n",
       "      <td>3</td>\n",
       "      <td>5</td>\n",
       "      <td>трансплантация</td>\n",
       "    </tr>\n",
       "    <tr>\n",
       "      <th>...</th>\n",
       "      <td>...</td>\n",
       "      <td>...</td>\n",
       "      <td>...</td>\n",
       "      <td>...</td>\n",
       "    </tr>\n",
       "    <tr>\n",
       "      <th>1025</th>\n",
       "      <td>гибко</td>\n",
       "      <td>1</td>\n",
       "      <td>2</td>\n",
       "      <td>гибко</td>\n",
       "    </tr>\n",
       "    <tr>\n",
       "      <th>1026</th>\n",
       "      <td>протестующие</td>\n",
       "      <td>3</td>\n",
       "      <td>6</td>\n",
       "      <td>протестовать</td>\n",
       "    </tr>\n",
       "    <tr>\n",
       "      <th>1027</th>\n",
       "      <td>затянуло</td>\n",
       "      <td>3</td>\n",
       "      <td>4</td>\n",
       "      <td>затягивать</td>\n",
       "    </tr>\n",
       "    <tr>\n",
       "      <th>1028</th>\n",
       "      <td>анемометры</td>\n",
       "      <td>3</td>\n",
       "      <td>5</td>\n",
       "      <td>анемометр</td>\n",
       "    </tr>\n",
       "    <tr>\n",
       "      <th>1029</th>\n",
       "      <td>ген</td>\n",
       "      <td>1</td>\n",
       "      <td>1</td>\n",
       "      <td>ген</td>\n",
       "    </tr>\n",
       "  </tbody>\n",
       "</table>\n",
       "<p>30 rows × 4 columns</p>\n",
       "</div>"
      ],
      "text/plain": [
       "                word  stress  num_syllables           lemma\n",
       "id                                                         \n",
       "1000    тренировками       3              5      тренировка\n",
       "1001         профиле       1              3         профиль\n",
       "1002           звала       2              2           звать\n",
       "1003     окружающими       3              6      окружающий\n",
       "1004  трансплантации       3              5  трансплантация\n",
       "...              ...     ...            ...             ...\n",
       "1025           гибко       1              2           гибко\n",
       "1026    протестующие       3              6    протестовать\n",
       "1027        затянуло       3              4      затягивать\n",
       "1028      анемометры       3              5       анемометр\n",
       "1029             ген       1              1             ген\n",
       "\n",
       "[30 rows x 4 columns]"
      ]
     },
     "execution_count": 10,
     "metadata": {},
     "output_type": "execute_result"
    }
   ],
   "source": [
    "ds[1000:1030]"
   ]
  },
  {
   "cell_type": "markdown",
   "id": "12d607f8-9288-410f-a6fa-df60997df096",
   "metadata": {},
   "source": [
    "* можно на выход подавать номер слога\n",
    "* можно на выход подавать номер ударной буквы, тогда НС будет как бы бинарно классифицировать падает ли на эту букву ударение"
   ]
  },
  {
   "cell_type": "markdown",
   "id": "91f9f21f-b420-4e34-a8d8-93add2ec8b3e",
   "metadata": {},
   "source": [
    "# Посчитаем длину слов"
   ]
  },
  {
   "cell_type": "code",
   "execution_count": 11,
   "id": "12bb0223-3a11-440d-9764-c8c641de827c",
   "metadata": {},
   "outputs": [
    {
     "data": {
      "text/html": [
       "<div>\n",
       "<style scoped>\n",
       "    .dataframe tbody tr th:only-of-type {\n",
       "        vertical-align: middle;\n",
       "    }\n",
       "\n",
       "    .dataframe tbody tr th {\n",
       "        vertical-align: top;\n",
       "    }\n",
       "\n",
       "    .dataframe thead th {\n",
       "        text-align: right;\n",
       "    }\n",
       "</style>\n",
       "<table border=\"1\" class=\"dataframe\">\n",
       "  <thead>\n",
       "    <tr style=\"text-align: right;\">\n",
       "      <th></th>\n",
       "      <th>word</th>\n",
       "      <th>stress</th>\n",
       "      <th>num_syllables</th>\n",
       "      <th>lemma</th>\n",
       "      <th>words_lenght</th>\n",
       "    </tr>\n",
       "    <tr>\n",
       "      <th>id</th>\n",
       "      <th></th>\n",
       "      <th></th>\n",
       "      <th></th>\n",
       "      <th></th>\n",
       "      <th></th>\n",
       "    </tr>\n",
       "  </thead>\n",
       "  <tbody>\n",
       "    <tr>\n",
       "      <th>2287</th>\n",
       "      <td>наследование</td>\n",
       "      <td>2</td>\n",
       "      <td>6</td>\n",
       "      <td>наследование</td>\n",
       "      <td>12</td>\n",
       "    </tr>\n",
       "    <tr>\n",
       "      <th>46488</th>\n",
       "      <td>молочных</td>\n",
       "      <td>2</td>\n",
       "      <td>3</td>\n",
       "      <td>молочный</td>\n",
       "      <td>8</td>\n",
       "    </tr>\n",
       "    <tr>\n",
       "      <th>51989</th>\n",
       "      <td>углекислый</td>\n",
       "      <td>3</td>\n",
       "      <td>4</td>\n",
       "      <td>углекислый</td>\n",
       "      <td>10</td>\n",
       "    </tr>\n",
       "    <tr>\n",
       "      <th>2557</th>\n",
       "      <td>сахарную</td>\n",
       "      <td>1</td>\n",
       "      <td>4</td>\n",
       "      <td>сахарный</td>\n",
       "      <td>8</td>\n",
       "    </tr>\n",
       "    <tr>\n",
       "      <th>62831</th>\n",
       "      <td>посторонними</td>\n",
       "      <td>3</td>\n",
       "      <td>5</td>\n",
       "      <td>посторонний</td>\n",
       "      <td>12</td>\n",
       "    </tr>\n",
       "  </tbody>\n",
       "</table>\n",
       "</div>"
      ],
      "text/plain": [
       "               word  stress  num_syllables         lemma  words_lenght\n",
       "id                                                                    \n",
       "2287   наследование       2              6  наследование            12\n",
       "46488      молочных       2              3      молочный             8\n",
       "51989    углекислый       3              4    углекислый            10\n",
       "2557       сахарную       1              4      сахарный             8\n",
       "62831  посторонними       3              5   посторонний            12"
      ]
     },
     "execution_count": 11,
     "metadata": {},
     "output_type": "execute_result"
    }
   ],
   "source": [
    "ds['words_lenght'] = [len(word) for word in ds['word']]\n",
    "ds.sample(5)"
   ]
  },
  {
   "cell_type": "code",
   "execution_count": 12,
   "id": "b6bafe92-9f60-433c-a82c-c7bd5bf72c08",
   "metadata": {},
   "outputs": [
    {
     "data": {
      "text/plain": [
       "20"
      ]
     },
     "execution_count": 12,
     "metadata": {},
     "output_type": "execute_result"
    }
   ],
   "source": [
    "max_words_lenght = np.max(ds['words_lenght'])\n",
    "max_words_lenght"
   ]
  },
  {
   "cell_type": "code",
   "execution_count": 13,
   "id": "7eaf3036-84b2-4ea5-a961-de0404b71d50",
   "metadata": {},
   "outputs": [
    {
     "data": {
      "text/html": [
       "<div>\n",
       "<style scoped>\n",
       "    .dataframe tbody tr th:only-of-type {\n",
       "        vertical-align: middle;\n",
       "    }\n",
       "\n",
       "    .dataframe tbody tr th {\n",
       "        vertical-align: top;\n",
       "    }\n",
       "\n",
       "    .dataframe thead th {\n",
       "        text-align: right;\n",
       "    }\n",
       "</style>\n",
       "<table border=\"1\" class=\"dataframe\">\n",
       "  <thead>\n",
       "    <tr style=\"text-align: right;\">\n",
       "      <th></th>\n",
       "      <th>word</th>\n",
       "      <th>stress</th>\n",
       "      <th>num_syllables</th>\n",
       "      <th>lemma</th>\n",
       "      <th>words_lenght</th>\n",
       "      <th>lemmas_lenght</th>\n",
       "    </tr>\n",
       "    <tr>\n",
       "      <th>id</th>\n",
       "      <th></th>\n",
       "      <th></th>\n",
       "      <th></th>\n",
       "      <th></th>\n",
       "      <th></th>\n",
       "      <th></th>\n",
       "    </tr>\n",
       "  </thead>\n",
       "  <tbody>\n",
       "    <tr>\n",
       "      <th>28832</th>\n",
       "      <td>слышат</td>\n",
       "      <td>1</td>\n",
       "      <td>2</td>\n",
       "      <td>слышать</td>\n",
       "      <td>6</td>\n",
       "      <td>7</td>\n",
       "    </tr>\n",
       "    <tr>\n",
       "      <th>45137</th>\n",
       "      <td>усилен</td>\n",
       "      <td>2</td>\n",
       "      <td>3</td>\n",
       "      <td>усиливать</td>\n",
       "      <td>6</td>\n",
       "      <td>9</td>\n",
       "    </tr>\n",
       "    <tr>\n",
       "      <th>32662</th>\n",
       "      <td>эластан</td>\n",
       "      <td>3</td>\n",
       "      <td>3</td>\n",
       "      <td>эластан</td>\n",
       "      <td>7</td>\n",
       "      <td>7</td>\n",
       "    </tr>\n",
       "    <tr>\n",
       "      <th>17889</th>\n",
       "      <td>козырьком</td>\n",
       "      <td>3</td>\n",
       "      <td>3</td>\n",
       "      <td>козырек</td>\n",
       "      <td>9</td>\n",
       "      <td>7</td>\n",
       "    </tr>\n",
       "    <tr>\n",
       "      <th>11350</th>\n",
       "      <td>свежо</td>\n",
       "      <td>2</td>\n",
       "      <td>2</td>\n",
       "      <td>свежо</td>\n",
       "      <td>5</td>\n",
       "      <td>5</td>\n",
       "    </tr>\n",
       "  </tbody>\n",
       "</table>\n",
       "</div>"
      ],
      "text/plain": [
       "            word  stress  num_syllables      lemma  words_lenght  \\\n",
       "id                                                                 \n",
       "28832     слышат       1              2    слышать             6   \n",
       "45137     усилен       2              3  усиливать             6   \n",
       "32662    эластан       3              3    эластан             7   \n",
       "17889  козырьком       3              3    козырек             9   \n",
       "11350      свежо       2              2      свежо             5   \n",
       "\n",
       "       lemmas_lenght  \n",
       "id                    \n",
       "28832              7  \n",
       "45137              9  \n",
       "32662              7  \n",
       "17889              7  \n",
       "11350              5  "
      ]
     },
     "execution_count": 13,
     "metadata": {},
     "output_type": "execute_result"
    }
   ],
   "source": [
    "ds['lemmas_lenght'] = [len(word) for word in ds['lemma']]\n",
    "ds.sample(5)"
   ]
  },
  {
   "cell_type": "code",
   "execution_count": 14,
   "id": "dd18a56f-fdce-4758-8979-ddfdc06cd414",
   "metadata": {},
   "outputs": [
    {
     "data": {
      "text/plain": [
       "20"
      ]
     },
     "execution_count": 14,
     "metadata": {},
     "output_type": "execute_result"
    }
   ],
   "source": [
    "max_lemms_lenght = np.max(ds['lemmas_lenght'])\n",
    "max_lemms_lenght"
   ]
  },
  {
   "cell_type": "code",
   "execution_count": 15,
   "id": "e7e33dea-132d-47f1-b41b-c53f31546aeb",
   "metadata": {},
   "outputs": [
    {
     "data": {
      "text/plain": [
       "2"
      ]
     },
     "execution_count": 15,
     "metadata": {},
     "output_type": "execute_result"
    }
   ],
   "source": [
    "min_lemms_lenght = np.min(ds['lemmas_lenght'])\n",
    "min_lemms_lenght"
   ]
  },
  {
   "cell_type": "code",
   "execution_count": 16,
   "id": "c7bccebd-2734-40d4-ba1d-5f98aa5e93da",
   "metadata": {},
   "outputs": [
    {
     "data": {
      "text/html": [
       "<div>\n",
       "<style scoped>\n",
       "    .dataframe tbody tr th:only-of-type {\n",
       "        vertical-align: middle;\n",
       "    }\n",
       "\n",
       "    .dataframe tbody tr th {\n",
       "        vertical-align: top;\n",
       "    }\n",
       "\n",
       "    .dataframe thead th {\n",
       "        text-align: right;\n",
       "    }\n",
       "</style>\n",
       "<table border=\"1\" class=\"dataframe\">\n",
       "  <thead>\n",
       "    <tr style=\"text-align: right;\">\n",
       "      <th></th>\n",
       "      <th>word</th>\n",
       "      <th>stress</th>\n",
       "      <th>num_syllables</th>\n",
       "      <th>lemma</th>\n",
       "      <th>words_lenght</th>\n",
       "      <th>lemmas_lenght</th>\n",
       "    </tr>\n",
       "    <tr>\n",
       "      <th>id</th>\n",
       "      <th></th>\n",
       "      <th></th>\n",
       "      <th></th>\n",
       "      <th></th>\n",
       "      <th></th>\n",
       "      <th></th>\n",
       "    </tr>\n",
       "  </thead>\n",
       "  <tbody>\n",
       "    <tr>\n",
       "      <th>2994</th>\n",
       "      <td>уму</td>\n",
       "      <td>2</td>\n",
       "      <td>2</td>\n",
       "      <td>ум</td>\n",
       "      <td>3</td>\n",
       "      <td>2</td>\n",
       "    </tr>\n",
       "    <tr>\n",
       "      <th>4199</th>\n",
       "      <td>яру</td>\n",
       "      <td>1</td>\n",
       "      <td>2</td>\n",
       "      <td>яр</td>\n",
       "      <td>3</td>\n",
       "      <td>2</td>\n",
       "    </tr>\n",
       "    <tr>\n",
       "      <th>4738</th>\n",
       "      <td>ля</td>\n",
       "      <td>1</td>\n",
       "      <td>1</td>\n",
       "      <td>ля</td>\n",
       "      <td>2</td>\n",
       "      <td>2</td>\n",
       "    </tr>\n",
       "    <tr>\n",
       "      <th>6076</th>\n",
       "      <td>фе</td>\n",
       "      <td>1</td>\n",
       "      <td>1</td>\n",
       "      <td>фе</td>\n",
       "      <td>2</td>\n",
       "      <td>2</td>\n",
       "    </tr>\n",
       "    <tr>\n",
       "      <th>6191</th>\n",
       "      <td>ин</td>\n",
       "      <td>1</td>\n",
       "      <td>1</td>\n",
       "      <td>ин</td>\n",
       "      <td>2</td>\n",
       "      <td>2</td>\n",
       "    </tr>\n",
       "    <tr>\n",
       "      <th>...</th>\n",
       "      <td>...</td>\n",
       "      <td>...</td>\n",
       "      <td>...</td>\n",
       "      <td>...</td>\n",
       "      <td>...</td>\n",
       "      <td>...</td>\n",
       "    </tr>\n",
       "    <tr>\n",
       "      <th>59275</th>\n",
       "      <td>ша</td>\n",
       "      <td>1</td>\n",
       "      <td>1</td>\n",
       "      <td>ша</td>\n",
       "      <td>2</td>\n",
       "      <td>2</td>\n",
       "    </tr>\n",
       "    <tr>\n",
       "      <th>60673</th>\n",
       "      <td>мю</td>\n",
       "      <td>1</td>\n",
       "      <td>1</td>\n",
       "      <td>мю</td>\n",
       "      <td>2</td>\n",
       "      <td>2</td>\n",
       "    </tr>\n",
       "    <tr>\n",
       "      <th>61309</th>\n",
       "      <td>югу</td>\n",
       "      <td>1</td>\n",
       "      <td>2</td>\n",
       "      <td>юг</td>\n",
       "      <td>3</td>\n",
       "      <td>2</td>\n",
       "    </tr>\n",
       "    <tr>\n",
       "      <th>62254</th>\n",
       "      <td>эс</td>\n",
       "      <td>1</td>\n",
       "      <td>1</td>\n",
       "      <td>эс</td>\n",
       "      <td>2</td>\n",
       "      <td>2</td>\n",
       "    </tr>\n",
       "    <tr>\n",
       "      <th>62440</th>\n",
       "      <td>усе</td>\n",
       "      <td>1</td>\n",
       "      <td>2</td>\n",
       "      <td>ус</td>\n",
       "      <td>3</td>\n",
       "      <td>2</td>\n",
       "    </tr>\n",
       "  </tbody>\n",
       "</table>\n",
       "<p>87 rows × 6 columns</p>\n",
       "</div>"
      ],
      "text/plain": [
       "      word  stress  num_syllables lemma  words_lenght  lemmas_lenght\n",
       "id                                                                  \n",
       "2994   уму       2              2    ум             3              2\n",
       "4199   яру       1              2    яр             3              2\n",
       "4738    ля       1              1    ля             2              2\n",
       "6076    фе       1              1    фе             2              2\n",
       "6191    ин       1              1    ин             2              2\n",
       "...    ...     ...            ...   ...           ...            ...\n",
       "59275   ша       1              1    ша             2              2\n",
       "60673   мю       1              1    мю             2              2\n",
       "61309  югу       1              2    юг             3              2\n",
       "62254   эс       1              1    эс             2              2\n",
       "62440  усе       1              2    ус             3              2\n",
       "\n",
       "[87 rows x 6 columns]"
      ]
     },
     "execution_count": 16,
     "metadata": {},
     "output_type": "execute_result"
    }
   ],
   "source": [
    "ds.loc[ds['lemmas_lenght'] <= 2]"
   ]
  },
  {
   "cell_type": "raw",
   "id": "9c3cdf4e-76ff-46df-ab7d-8c6bd6f4aac3",
   "metadata": {},
   "source": [
    "Заводим список возможных слов из двух букв"
   ]
  },
  {
   "cell_type": "code",
   "execution_count": 17,
   "id": "5c202d6d-889d-4748-918a-bb1d025b5bd0",
   "metadata": {},
   "outputs": [],
   "source": [
    "two_letter_words = ['еж', 'мы', 'уж', 'ус', 'яз', 'юг']"
   ]
  },
  {
   "cell_type": "code",
   "execution_count": 18,
   "id": "9a268b7b-d0ce-4725-ab4f-2d49f8dbb46c",
   "metadata": {},
   "outputs": [],
   "source": [
    "very_short_words = ds.loc[(ds['lemmas_lenght'] <= 2) & (~ds['lemma'].isin(two_letter_words))]"
   ]
  },
  {
   "cell_type": "code",
   "execution_count": 19,
   "id": "efe240a8-5300-4e85-9ce3-d9f2a3a9aa4d",
   "metadata": {},
   "outputs": [],
   "source": [
    "ds = ds.drop(index=very_short_words.index, axis=1)"
   ]
  },
  {
   "cell_type": "code",
   "execution_count": 20,
   "id": "30542b69-2f10-4ffb-9311-a74d85df3df4",
   "metadata": {},
   "outputs": [
    {
     "data": {
      "text/plain": [
       "1318"
      ]
     },
     "execution_count": 20,
     "metadata": {},
     "output_type": "execute_result"
    }
   ],
   "source": [
    "bad_indexes = ds.loc[(ds['num_syllables'] == 1) & (~ds['lemma'].isin(two_letter_words))].index\n",
    "ds = ds.drop(index=bad_indexes, axis=1)\n",
    "len(bad_indexes)"
   ]
  },
  {
   "cell_type": "code",
   "execution_count": 21,
   "id": "8b84fd7b-09a8-4c92-b1ef-8aebb11aecfd",
   "metadata": {},
   "outputs": [
    {
     "data": {
      "text/html": [
       "<div>\n",
       "<style scoped>\n",
       "    .dataframe tbody tr th:only-of-type {\n",
       "        vertical-align: middle;\n",
       "    }\n",
       "\n",
       "    .dataframe tbody tr th {\n",
       "        vertical-align: top;\n",
       "    }\n",
       "\n",
       "    .dataframe thead th {\n",
       "        text-align: right;\n",
       "    }\n",
       "</style>\n",
       "<table border=\"1\" class=\"dataframe\">\n",
       "  <thead>\n",
       "    <tr style=\"text-align: right;\">\n",
       "      <th></th>\n",
       "      <th>word</th>\n",
       "      <th>stress</th>\n",
       "      <th>num_syllables</th>\n",
       "      <th>lemma</th>\n",
       "      <th>words_lenght</th>\n",
       "      <th>lemmas_lenght</th>\n",
       "    </tr>\n",
       "    <tr>\n",
       "      <th>id</th>\n",
       "      <th></th>\n",
       "      <th></th>\n",
       "      <th></th>\n",
       "      <th></th>\n",
       "      <th></th>\n",
       "      <th></th>\n",
       "    </tr>\n",
       "  </thead>\n",
       "  <tbody>\n",
       "    <tr>\n",
       "      <th>591</th>\n",
       "      <td>тыя</td>\n",
       "      <td>1</td>\n",
       "      <td>2</td>\n",
       "      <td>тыя</td>\n",
       "      <td>3</td>\n",
       "      <td>3</td>\n",
       "    </tr>\n",
       "    <tr>\n",
       "      <th>966</th>\n",
       "      <td>гаи</td>\n",
       "      <td>1</td>\n",
       "      <td>2</td>\n",
       "      <td>гаи</td>\n",
       "      <td>3</td>\n",
       "      <td>3</td>\n",
       "    </tr>\n",
       "    <tr>\n",
       "      <th>1047</th>\n",
       "      <td>эва</td>\n",
       "      <td>1</td>\n",
       "      <td>2</td>\n",
       "      <td>эва</td>\n",
       "      <td>3</td>\n",
       "      <td>3</td>\n",
       "    </tr>\n",
       "    <tr>\n",
       "      <th>1239</th>\n",
       "      <td>эла</td>\n",
       "      <td>1</td>\n",
       "      <td>2</td>\n",
       "      <td>эла</td>\n",
       "      <td>3</td>\n",
       "      <td>3</td>\n",
       "    </tr>\n",
       "    <tr>\n",
       "      <th>2054</th>\n",
       "      <td>ное</td>\n",
       "      <td>1</td>\n",
       "      <td>2</td>\n",
       "      <td>ной</td>\n",
       "      <td>3</td>\n",
       "      <td>3</td>\n",
       "    </tr>\n",
       "    <tr>\n",
       "      <th>...</th>\n",
       "      <td>...</td>\n",
       "      <td>...</td>\n",
       "      <td>...</td>\n",
       "      <td>...</td>\n",
       "      <td>...</td>\n",
       "      <td>...</td>\n",
       "    </tr>\n",
       "    <tr>\n",
       "      <th>62213</th>\n",
       "      <td>эго</td>\n",
       "      <td>1</td>\n",
       "      <td>2</td>\n",
       "      <td>эго</td>\n",
       "      <td>3</td>\n",
       "      <td>3</td>\n",
       "    </tr>\n",
       "    <tr>\n",
       "      <th>62526</th>\n",
       "      <td>абэ</td>\n",
       "      <td>1</td>\n",
       "      <td>2</td>\n",
       "      <td>абэ</td>\n",
       "      <td>3</td>\n",
       "      <td>3</td>\n",
       "    </tr>\n",
       "    <tr>\n",
       "      <th>62722</th>\n",
       "      <td>ама</td>\n",
       "      <td>1</td>\n",
       "      <td>2</td>\n",
       "      <td>ама</td>\n",
       "      <td>3</td>\n",
       "      <td>3</td>\n",
       "    </tr>\n",
       "    <tr>\n",
       "      <th>62776</th>\n",
       "      <td>уху</td>\n",
       "      <td>1</td>\n",
       "      <td>2</td>\n",
       "      <td>уха</td>\n",
       "      <td>3</td>\n",
       "      <td>3</td>\n",
       "    </tr>\n",
       "    <tr>\n",
       "      <th>63410</th>\n",
       "      <td>яша</td>\n",
       "      <td>1</td>\n",
       "      <td>2</td>\n",
       "      <td>яша</td>\n",
       "      <td>3</td>\n",
       "      <td>3</td>\n",
       "    </tr>\n",
       "  </tbody>\n",
       "</table>\n",
       "<p>147 rows × 6 columns</p>\n",
       "</div>"
      ],
      "text/plain": [
       "      word  stress  num_syllables lemma  words_lenght  lemmas_lenght\n",
       "id                                                                  \n",
       "591    тыя       1              2   тыя             3              3\n",
       "966    гаи       1              2   гаи             3              3\n",
       "1047   эва       1              2   эва             3              3\n",
       "1239   эла       1              2   эла             3              3\n",
       "2054   ное       1              2   ной             3              3\n",
       "...    ...     ...            ...   ...           ...            ...\n",
       "62213  эго       1              2   эго             3              3\n",
       "62526  абэ       1              2   абэ             3              3\n",
       "62722  ама       1              2   ама             3              3\n",
       "62776  уху       1              2   уха             3              3\n",
       "63410  яша       1              2   яша             3              3\n",
       "\n",
       "[147 rows x 6 columns]"
      ]
     },
     "execution_count": 21,
     "metadata": {},
     "output_type": "execute_result"
    }
   ],
   "source": [
    "# pd.set_option('display.max_rows', None)\n",
    "three_letters_words = ds.loc[(ds['lemmas_lenght'] == 3) & (ds['words_lenght'] == 3)]\n",
    "three_letters_words"
   ]
  },
  {
   "cell_type": "raw",
   "id": "9b090d2e-7011-4df2-93d1-55b36eaeada7",
   "metadata": {},
   "source": [
    "единственный вариант который я вижу это перебрать эти 147 слов руками и удалить какие-то совсем уж не понятные"
   ]
  },
  {
   "cell_type": "raw",
   "id": "4a1f674a-a67d-4322-99fa-d6acc5dd38d2",
   "metadata": {},
   "source": [
    "Однако так как тут в основном имена в целом наверное будет не большой потерей если я их удалю все"
   ]
  },
  {
   "cell_type": "code",
   "execution_count": null,
   "id": "b6bc0ede-42a5-4838-9c5c-5f92f181b547",
   "metadata": {},
   "outputs": [],
   "source": []
  },
  {
   "cell_type": "code",
   "execution_count": 22,
   "id": "8d668f5c-f1ab-4556-8d5a-cfe9bac83fa9",
   "metadata": {},
   "outputs": [
    {
     "data": {
      "text/plain": [
       "62043"
      ]
     },
     "execution_count": 22,
     "metadata": {},
     "output_type": "execute_result"
    }
   ],
   "source": [
    "len(ds['word'].unique())"
   ]
  },
  {
   "cell_type": "code",
   "execution_count": 23,
   "id": "e06c49fe-c4cb-47de-9e55-a10a78358823",
   "metadata": {},
   "outputs": [
    {
     "data": {
      "text/plain": [
       "62043"
      ]
     },
     "execution_count": 23,
     "metadata": {},
     "output_type": "execute_result"
    }
   ],
   "source": [
    "len(ds['word'])"
   ]
  },
  {
   "cell_type": "code",
   "execution_count": null,
   "id": "5b50a693-ff61-4826-bde0-a9532e183548",
   "metadata": {},
   "outputs": [],
   "source": []
  },
  {
   "cell_type": "code",
   "execution_count": 24,
   "id": "da00d83d-ac5a-4c44-ae55-5a925223c433",
   "metadata": {},
   "outputs": [
    {
     "data": {
      "text/html": [
       "<div>\n",
       "<style scoped>\n",
       "    .dataframe tbody tr th:only-of-type {\n",
       "        vertical-align: middle;\n",
       "    }\n",
       "\n",
       "    .dataframe tbody tr th {\n",
       "        vertical-align: top;\n",
       "    }\n",
       "\n",
       "    .dataframe thead th {\n",
       "        text-align: right;\n",
       "    }\n",
       "</style>\n",
       "<table border=\"1\" class=\"dataframe\">\n",
       "  <thead>\n",
       "    <tr style=\"text-align: right;\">\n",
       "      <th></th>\n",
       "      <th>stress</th>\n",
       "      <th>num_syllables</th>\n",
       "      <th>words_lenght</th>\n",
       "      <th>lemmas_lenght</th>\n",
       "    </tr>\n",
       "  </thead>\n",
       "  <tbody>\n",
       "    <tr>\n",
       "      <th>count</th>\n",
       "      <td>62043.000000</td>\n",
       "      <td>62043.000000</td>\n",
       "      <td>62043.000000</td>\n",
       "      <td>62043.000000</td>\n",
       "    </tr>\n",
       "    <tr>\n",
       "      <th>mean</th>\n",
       "      <td>2.236417</td>\n",
       "      <td>3.545235</td>\n",
       "      <td>8.500492</td>\n",
       "      <td>8.387473</td>\n",
       "    </tr>\n",
       "    <tr>\n",
       "      <th>std</th>\n",
       "      <td>0.904789</td>\n",
       "      <td>1.110072</td>\n",
       "      <td>2.442989</td>\n",
       "      <td>2.567415</td>\n",
       "    </tr>\n",
       "    <tr>\n",
       "      <th>min</th>\n",
       "      <td>1.000000</td>\n",
       "      <td>1.000000</td>\n",
       "      <td>2.000000</td>\n",
       "      <td>2.000000</td>\n",
       "    </tr>\n",
       "    <tr>\n",
       "      <th>25%</th>\n",
       "      <td>2.000000</td>\n",
       "      <td>3.000000</td>\n",
       "      <td>7.000000</td>\n",
       "      <td>7.000000</td>\n",
       "    </tr>\n",
       "    <tr>\n",
       "      <th>50%</th>\n",
       "      <td>2.000000</td>\n",
       "      <td>3.000000</td>\n",
       "      <td>8.000000</td>\n",
       "      <td>8.000000</td>\n",
       "    </tr>\n",
       "    <tr>\n",
       "      <th>75%</th>\n",
       "      <td>3.000000</td>\n",
       "      <td>4.000000</td>\n",
       "      <td>10.000000</td>\n",
       "      <td>10.000000</td>\n",
       "    </tr>\n",
       "    <tr>\n",
       "      <th>max</th>\n",
       "      <td>6.000000</td>\n",
       "      <td>6.000000</td>\n",
       "      <td>20.000000</td>\n",
       "      <td>20.000000</td>\n",
       "    </tr>\n",
       "  </tbody>\n",
       "</table>\n",
       "</div>"
      ],
      "text/plain": [
       "             stress  num_syllables  words_lenght  lemmas_lenght\n",
       "count  62043.000000   62043.000000  62043.000000   62043.000000\n",
       "mean       2.236417       3.545235      8.500492       8.387473\n",
       "std        0.904789       1.110072      2.442989       2.567415\n",
       "min        1.000000       1.000000      2.000000       2.000000\n",
       "25%        2.000000       3.000000      7.000000       7.000000\n",
       "50%        2.000000       3.000000      8.000000       8.000000\n",
       "75%        3.000000       4.000000     10.000000      10.000000\n",
       "max        6.000000       6.000000     20.000000      20.000000"
      ]
     },
     "execution_count": 24,
     "metadata": {},
     "output_type": "execute_result"
    }
   ],
   "source": [
    "ds.describe()"
   ]
  },
  {
   "cell_type": "code",
   "execution_count": 25,
   "id": "6a06c945-0563-4bf7-a0ea-05e86aab546e",
   "metadata": {},
   "outputs": [
    {
     "data": {
      "text/html": [
       "<div>\n",
       "<style scoped>\n",
       "    .dataframe tbody tr th:only-of-type {\n",
       "        vertical-align: middle;\n",
       "    }\n",
       "\n",
       "    .dataframe tbody tr th {\n",
       "        vertical-align: top;\n",
       "    }\n",
       "\n",
       "    .dataframe thead th {\n",
       "        text-align: right;\n",
       "    }\n",
       "</style>\n",
       "<table border=\"1\" class=\"dataframe\">\n",
       "  <thead>\n",
       "    <tr style=\"text-align: right;\">\n",
       "      <th></th>\n",
       "      <th>word</th>\n",
       "      <th>stress</th>\n",
       "      <th>num_syllables</th>\n",
       "      <th>lemma</th>\n",
       "      <th>words_lenght</th>\n",
       "      <th>lemmas_lenght</th>\n",
       "    </tr>\n",
       "    <tr>\n",
       "      <th>id</th>\n",
       "      <th></th>\n",
       "      <th></th>\n",
       "      <th></th>\n",
       "      <th></th>\n",
       "      <th></th>\n",
       "      <th></th>\n",
       "    </tr>\n",
       "  </thead>\n",
       "  <tbody>\n",
       "    <tr>\n",
       "      <th>58672</th>\n",
       "      <td>рудники</td>\n",
       "      <td>3</td>\n",
       "      <td>3</td>\n",
       "      <td>рудник</td>\n",
       "      <td>7</td>\n",
       "      <td>6</td>\n",
       "    </tr>\n",
       "  </tbody>\n",
       "</table>\n",
       "</div>"
      ],
      "text/plain": [
       "          word  stress  num_syllables   lemma  words_lenght  lemmas_lenght\n",
       "id                                                                        \n",
       "58672  рудники       3              3  рудник             7              6"
      ]
     },
     "execution_count": 25,
     "metadata": {},
     "output_type": "execute_result"
    }
   ],
   "source": [
    "ds.sample(1)"
   ]
  },
  {
   "cell_type": "code",
   "execution_count": 26,
   "id": "c0302f29-534c-40e9-b31e-4253d508ec5e",
   "metadata": {},
   "outputs": [
    {
     "data": {
      "text/plain": [
       "<Axes: ylabel='Count'>"
      ]
     },
     "execution_count": 26,
     "metadata": {},
     "output_type": "execute_result"
    },
    {
     "data": {
      "image/png": "[encoded data removed]",
      "text/plain": [
       "<Figure size 640x480 with 1 Axes>"
      ]
     },
     "metadata": {},
     "output_type": "display_data"
    }
   ],
   "source": [
    "sns.histplot(data = {\"stress\": ds['stress']}, \n",
    "             kde=True)"
   ]
  },
  {
   "cell_type": "code",
   "execution_count": 27,
   "id": "a0cd4b05-d5f2-47f8-9252-205d5548cbcf",
   "metadata": {},
   "outputs": [
    {
     "data": {
      "text/plain": [
       "24"
      ]
     },
     "execution_count": 27,
     "metadata": {},
     "output_type": "execute_result"
    }
   ],
   "source": [
    "len(ds.loc[ds['stress'] == 6])"
   ]
  },
  {
   "cell_type": "code",
   "execution_count": 28,
   "id": "c5902cd8-9f61-4fd9-b4f5-15fda8a1c815",
   "metadata": {},
   "outputs": [
    {
     "data": {
      "text/plain": [
       "535"
      ]
     },
     "execution_count": 28,
     "metadata": {},
     "output_type": "execute_result"
    }
   ],
   "source": [
    "len(ds.loc[ds['stress'] == 5])"
   ]
  },
  {
   "cell_type": "code",
   "execution_count": 29,
   "id": "5c080c68-1d5e-461c-b10c-bcc57eab7528",
   "metadata": {},
   "outputs": [
    {
     "data": {
      "text/plain": [
       "4180"
      ]
     },
     "execution_count": 29,
     "metadata": {},
     "output_type": "execute_result"
    }
   ],
   "source": [
    "len(ds.loc[ds['stress'] == 4])"
   ]
  },
  {
   "cell_type": "raw",
   "id": "ef23859c-ad4a-4bcd-bf84-deb0098c8c98",
   "metadata": {},
   "source": [
    "Как мы видим выборка очень сильно разбалансирована, попробуем немного выровнять их колличество дублированием до 15000 значений"
   ]
  },
  {
   "cell_type": "markdown",
   "id": "f3b7a6d4-323e-4723-a25e-497592358d62",
   "metadata": {},
   "source": [
    "## Выяснение весов классов"
   ]
  },
  {
   "cell_type": "code",
   "execution_count": 30,
   "id": "83e966b7-ac13-4077-9680-6c2d80988e55",
   "metadata": {},
   "outputs": [],
   "source": [
    "from sklearn.ensemble import RandomForestClassifier\n",
    "from sklearn.utils.class_weight import compute_class_weight"
   ]
  },
  {
   "cell_type": "code",
   "execution_count": 31,
   "id": "ce9169ca-698e-4a2c-9074-dab179f8f808",
   "metadata": {},
   "outputs": [
    {
     "data": {
      "text/plain": [
       "array([7.45744988e-01, 4.14199880e-01, 5.59762897e-01, 2.47380383e+00,\n",
       "       1.93280374e+01, 4.30854167e+02])"
      ]
     },
     "execution_count": 31,
     "metadata": {},
     "output_type": "execute_result"
    }
   ],
   "source": [
    "# Получение весов классов\n",
    "class_weights = compute_class_weight('balanced', classes=np.unique(ds['stress']), y=ds['stress'])\n",
    "class_weights"
   ]
  },
  {
   "cell_type": "markdown",
   "id": "dff76882-c913-4f41-b7c8-c3fc9a613d89",
   "metadata": {},
   "source": [
    "## Балансировка даных в ручную"
   ]
  },
  {
   "cell_type": "code",
   "execution_count": 32,
   "id": "2138910f-cb94-4c0f-9515-799ece66f4de",
   "metadata": {},
   "outputs": [],
   "source": [
    "words_with_4_s = ds.loc[ds['stress'] == 4].reset_index(drop=True)\n",
    "for _ in range(0, int(15000/len(words_with_4_s))):\n",
    "    ds = pd.concat([ds, words_with_4_s], ignore_index=True, axis=0)\n",
    "    ds.reset_index(drop=True)"
   ]
  },
  {
   "cell_type": "raw",
   "id": "61a319e3-0afb-4bae-9f4a-95547c766c27",
   "metadata": {},
   "source": [
    "words_with_5_s = ds.loc[ds['stress'] == 5].reset_index(drop=True)\n",
    "for _ in range(0, int(15000/len(words_with_5_s))):\n",
    "    ds = pd.concat([ds, words_with_5_s], ignore_index=True, axis=0)\n",
    "    ds.reset_index(drop=True)"
   ]
  },
  {
   "cell_type": "raw",
   "id": "8c78ec55-5f33-4652-8664-c014fb890401",
   "metadata": {},
   "source": [
    "words_with_6_s = ds.loc[ds['stress'] == 6].reset_index(drop=True)\n",
    "for _ in range(0, int(15000/len(words_with_6_s))):\n",
    "    ds = pd.concat([ds, words_with_6_s], ignore_index=True, axis=0)\n",
    "    ds.reset_index(drop=True)"
   ]
  },
  {
   "cell_type": "code",
   "execution_count": 33,
   "id": "72641764-47af-4393-8f27-8d85cb52cd7b",
   "metadata": {},
   "outputs": [
    {
     "data": {
      "text/plain": [
       "<Axes: ylabel='Count'>"
      ]
     },
     "execution_count": 33,
     "metadata": {},
     "output_type": "execute_result"
    },
    {
     "data": {
      "image/png": "[encoded data removed]",
      "text/plain": [
       "<Figure size 640x480 with 1 Axes>"
      ]
     },
     "metadata": {},
     "output_type": "display_data"
    }
   ],
   "source": [
    "sns.histplot(data = {\"stress\": ds['stress']}, \n",
    "             kde=True)"
   ]
  },
  {
   "cell_type": "raw",
   "id": "46e7ad5f-f217-4f8d-9f80-bfc6b21f2c93",
   "metadata": {},
   "source": [
    "Было принято опасное решение удалить эти данные, так как их крайне мало"
   ]
  },
  {
   "cell_type": "raw",
   "id": "3b0a4b13-c60d-4822-9913-c4a0bff3c500",
   "metadata": {},
   "source": [
    "ds = ds.drop(index=bad_words_4.index, axis=1)"
   ]
  },
  {
   "cell_type": "raw",
   "id": "4256512c-0882-4fb4-bd26-2a3c6a091309",
   "metadata": {},
   "source": [
    "ds = ds.drop(index=bad_words_5.index, axis=1)"
   ]
  },
  {
   "cell_type": "raw",
   "id": "b6f0d3e8-928b-40f9-a1b3-07512fb8d03a",
   "metadata": {},
   "source": [
    "ds = ds.drop(index=bad_words_6.index, axis=1)"
   ]
  },
  {
   "cell_type": "code",
   "execution_count": 34,
   "id": "548332a9-f098-4848-8452-1d9c61b6bb81",
   "metadata": {},
   "outputs": [
    {
     "data": {
      "text/html": [
       "<div>\n",
       "<style scoped>\n",
       "    .dataframe tbody tr th:only-of-type {\n",
       "        vertical-align: middle;\n",
       "    }\n",
       "\n",
       "    .dataframe tbody tr th {\n",
       "        vertical-align: top;\n",
       "    }\n",
       "\n",
       "    .dataframe thead th {\n",
       "        text-align: right;\n",
       "    }\n",
       "</style>\n",
       "<table border=\"1\" class=\"dataframe\">\n",
       "  <thead>\n",
       "    <tr style=\"text-align: right;\">\n",
       "      <th></th>\n",
       "      <th>word</th>\n",
       "      <th>stress</th>\n",
       "      <th>num_syllables</th>\n",
       "      <th>lemma</th>\n",
       "      <th>words_lenght</th>\n",
       "      <th>lemmas_lenght</th>\n",
       "    </tr>\n",
       "  </thead>\n",
       "  <tbody>\n",
       "    <tr>\n",
       "      <th>0</th>\n",
       "      <td>румяной</td>\n",
       "      <td>2</td>\n",
       "      <td>3</td>\n",
       "      <td>румяный</td>\n",
       "      <td>7</td>\n",
       "      <td>7</td>\n",
       "    </tr>\n",
       "    <tr>\n",
       "      <th>1</th>\n",
       "      <td>цифрами</td>\n",
       "      <td>1</td>\n",
       "      <td>3</td>\n",
       "      <td>цифра</td>\n",
       "      <td>7</td>\n",
       "      <td>5</td>\n",
       "    </tr>\n",
       "    <tr>\n",
       "      <th>2</th>\n",
       "      <td>слугами</td>\n",
       "      <td>1</td>\n",
       "      <td>3</td>\n",
       "      <td>слуга</td>\n",
       "      <td>7</td>\n",
       "      <td>5</td>\n",
       "    </tr>\n",
       "    <tr>\n",
       "      <th>3</th>\n",
       "      <td>выбирает</td>\n",
       "      <td>3</td>\n",
       "      <td>4</td>\n",
       "      <td>выбирать</td>\n",
       "      <td>8</td>\n",
       "      <td>8</td>\n",
       "    </tr>\n",
       "    <tr>\n",
       "      <th>4</th>\n",
       "      <td>управдом</td>\n",
       "      <td>3</td>\n",
       "      <td>3</td>\n",
       "      <td>управдом</td>\n",
       "      <td>8</td>\n",
       "      <td>8</td>\n",
       "    </tr>\n",
       "    <tr>\n",
       "      <th>...</th>\n",
       "      <td>...</td>\n",
       "      <td>...</td>\n",
       "      <td>...</td>\n",
       "      <td>...</td>\n",
       "      <td>...</td>\n",
       "      <td>...</td>\n",
       "    </tr>\n",
       "    <tr>\n",
       "      <th>75712</th>\n",
       "      <td>меркнет</td>\n",
       "      <td>1</td>\n",
       "      <td>2</td>\n",
       "      <td>меркнуть</td>\n",
       "      <td>7</td>\n",
       "      <td>8</td>\n",
       "    </tr>\n",
       "    <tr>\n",
       "      <th>75713</th>\n",
       "      <td>держишься</td>\n",
       "      <td>1</td>\n",
       "      <td>3</td>\n",
       "      <td>держаться</td>\n",
       "      <td>9</td>\n",
       "      <td>9</td>\n",
       "    </tr>\n",
       "    <tr>\n",
       "      <th>75714</th>\n",
       "      <td>ценностях</td>\n",
       "      <td>1</td>\n",
       "      <td>3</td>\n",
       "      <td>ценность</td>\n",
       "      <td>9</td>\n",
       "      <td>8</td>\n",
       "    </tr>\n",
       "    <tr>\n",
       "      <th>75715</th>\n",
       "      <td>грабят</td>\n",
       "      <td>1</td>\n",
       "      <td>2</td>\n",
       "      <td>грабить</td>\n",
       "      <td>6</td>\n",
       "      <td>7</td>\n",
       "    </tr>\n",
       "    <tr>\n",
       "      <th>75716</th>\n",
       "      <td>божию</td>\n",
       "      <td>1</td>\n",
       "      <td>3</td>\n",
       "      <td>божий</td>\n",
       "      <td>5</td>\n",
       "      <td>5</td>\n",
       "    </tr>\n",
       "  </tbody>\n",
       "</table>\n",
       "<p>75717 rows × 6 columns</p>\n",
       "</div>"
      ],
      "text/plain": [
       "            word  stress  num_syllables      lemma  words_lenght  \\\n",
       "0        румяной       2              3    румяный             7   \n",
       "1        цифрами       1              3      цифра             7   \n",
       "2        слугами       1              3      слуга             7   \n",
       "3       выбирает       3              4   выбирать             8   \n",
       "4       управдом       3              3   управдом             8   \n",
       "...          ...     ...            ...        ...           ...   \n",
       "75712    меркнет       1              2   меркнуть             7   \n",
       "75713  держишься       1              3  держаться             9   \n",
       "75714  ценностях       1              3   ценность             9   \n",
       "75715     грабят       1              2    грабить             6   \n",
       "75716      божию       1              3      божий             5   \n",
       "\n",
       "       lemmas_lenght  \n",
       "0                  7  \n",
       "1                  5  \n",
       "2                  5  \n",
       "3                  8  \n",
       "4                  8  \n",
       "...              ...  \n",
       "75712              8  \n",
       "75713              9  \n",
       "75714              8  \n",
       "75715              7  \n",
       "75716              5  \n",
       "\n",
       "[75717 rows x 6 columns]"
      ]
     },
     "execution_count": 34,
     "metadata": {},
     "output_type": "execute_result"
    }
   ],
   "source": [
    "words_with_1_s = ds.loc[ds['stress'] == 1]\n",
    "ds = pd.concat([ds, words_with_1_s.sample(int(15000 - len(words_with_1_s)))], ignore_index=True, axis=0)\n",
    "ds.reset_index(drop=True)"
   ]
  },
  {
   "cell_type": "raw",
   "id": "68fad727-01af-41f0-a12c-04a5cda41754",
   "metadata": {},
   "source": [
    "Удалим случайные слова из многочисленных случаев"
   ]
  },
  {
   "cell_type": "code",
   "execution_count": 35,
   "id": "3cac6b1c-350b-4636-9334-ed59c6042dae",
   "metadata": {},
   "outputs": [
    {
     "data": {
      "text/html": [
       "<div>\n",
       "<style scoped>\n",
       "    .dataframe tbody tr th:only-of-type {\n",
       "        vertical-align: middle;\n",
       "    }\n",
       "\n",
       "    .dataframe tbody tr th {\n",
       "        vertical-align: top;\n",
       "    }\n",
       "\n",
       "    .dataframe thead th {\n",
       "        text-align: right;\n",
       "    }\n",
       "</style>\n",
       "<table border=\"1\" class=\"dataframe\">\n",
       "  <thead>\n",
       "    <tr style=\"text-align: right;\">\n",
       "      <th></th>\n",
       "      <th>word</th>\n",
       "      <th>stress</th>\n",
       "      <th>num_syllables</th>\n",
       "      <th>lemma</th>\n",
       "      <th>words_lenght</th>\n",
       "      <th>lemmas_lenght</th>\n",
       "    </tr>\n",
       "  </thead>\n",
       "  <tbody>\n",
       "    <tr>\n",
       "      <th>0</th>\n",
       "      <td>румяной</td>\n",
       "      <td>2</td>\n",
       "      <td>3</td>\n",
       "      <td>румяный</td>\n",
       "      <td>7</td>\n",
       "      <td>7</td>\n",
       "    </tr>\n",
       "    <tr>\n",
       "      <th>1</th>\n",
       "      <td>цифрами</td>\n",
       "      <td>1</td>\n",
       "      <td>3</td>\n",
       "      <td>цифра</td>\n",
       "      <td>7</td>\n",
       "      <td>5</td>\n",
       "    </tr>\n",
       "    <tr>\n",
       "      <th>2</th>\n",
       "      <td>слугами</td>\n",
       "      <td>1</td>\n",
       "      <td>3</td>\n",
       "      <td>слуга</td>\n",
       "      <td>7</td>\n",
       "      <td>5</td>\n",
       "    </tr>\n",
       "    <tr>\n",
       "      <th>3</th>\n",
       "      <td>выбирает</td>\n",
       "      <td>3</td>\n",
       "      <td>4</td>\n",
       "      <td>выбирать</td>\n",
       "      <td>8</td>\n",
       "      <td>8</td>\n",
       "    </tr>\n",
       "    <tr>\n",
       "      <th>4</th>\n",
       "      <td>управдом</td>\n",
       "      <td>3</td>\n",
       "      <td>3</td>\n",
       "      <td>управдом</td>\n",
       "      <td>8</td>\n",
       "      <td>8</td>\n",
       "    </tr>\n",
       "    <tr>\n",
       "      <th>...</th>\n",
       "      <td>...</td>\n",
       "      <td>...</td>\n",
       "      <td>...</td>\n",
       "      <td>...</td>\n",
       "      <td>...</td>\n",
       "      <td>...</td>\n",
       "    </tr>\n",
       "    <tr>\n",
       "      <th>65747</th>\n",
       "      <td>меркнет</td>\n",
       "      <td>1</td>\n",
       "      <td>2</td>\n",
       "      <td>меркнуть</td>\n",
       "      <td>7</td>\n",
       "      <td>8</td>\n",
       "    </tr>\n",
       "    <tr>\n",
       "      <th>65748</th>\n",
       "      <td>держишься</td>\n",
       "      <td>1</td>\n",
       "      <td>3</td>\n",
       "      <td>держаться</td>\n",
       "      <td>9</td>\n",
       "      <td>9</td>\n",
       "    </tr>\n",
       "    <tr>\n",
       "      <th>65749</th>\n",
       "      <td>ценностях</td>\n",
       "      <td>1</td>\n",
       "      <td>3</td>\n",
       "      <td>ценность</td>\n",
       "      <td>9</td>\n",
       "      <td>8</td>\n",
       "    </tr>\n",
       "    <tr>\n",
       "      <th>65750</th>\n",
       "      <td>грабят</td>\n",
       "      <td>1</td>\n",
       "      <td>2</td>\n",
       "      <td>грабить</td>\n",
       "      <td>6</td>\n",
       "      <td>7</td>\n",
       "    </tr>\n",
       "    <tr>\n",
       "      <th>65751</th>\n",
       "      <td>божию</td>\n",
       "      <td>1</td>\n",
       "      <td>3</td>\n",
       "      <td>божий</td>\n",
       "      <td>5</td>\n",
       "      <td>5</td>\n",
       "    </tr>\n",
       "  </tbody>\n",
       "</table>\n",
       "<p>65752 rows × 6 columns</p>\n",
       "</div>"
      ],
      "text/plain": [
       "            word  stress  num_syllables      lemma  words_lenght  \\\n",
       "0        румяной       2              3    румяный             7   \n",
       "1        цифрами       1              3      цифра             7   \n",
       "2        слугами       1              3      слуга             7   \n",
       "3       выбирает       3              4   выбирать             8   \n",
       "4       управдом       3              3   управдом             8   \n",
       "...          ...     ...            ...        ...           ...   \n",
       "65747    меркнет       1              2   меркнуть             7   \n",
       "65748  держишься       1              3  держаться             9   \n",
       "65749  ценностях       1              3   ценность             9   \n",
       "65750     грабят       1              2    грабить             6   \n",
       "65751      божию       1              3      божий             5   \n",
       "\n",
       "       lemmas_lenght  \n",
       "0                  7  \n",
       "1                  5  \n",
       "2                  5  \n",
       "3                  8  \n",
       "4                  8  \n",
       "...              ...  \n",
       "65747              8  \n",
       "65748              9  \n",
       "65749              8  \n",
       "65750              7  \n",
       "65751              5  \n",
       "\n",
       "[65752 rows x 6 columns]"
      ]
     },
     "execution_count": 35,
     "metadata": {},
     "output_type": "execute_result"
    }
   ],
   "source": [
    "words_with_2_s = ds.loc[ds['stress'] == 2]\n",
    "ids = words_with_2_s.sample(int(m.sqrt((len(words_with_2_s) - 15000)**2))).index\n",
    "ds = ds.drop(index=ids, axis=1)\n",
    "ds.reset_index(drop=True)"
   ]
  },
  {
   "cell_type": "code",
   "execution_count": 36,
   "id": "d7e05754-10d9-4c06-b513-253ab95ab081",
   "metadata": {},
   "outputs": [
    {
     "data": {
      "text/html": [
       "<div>\n",
       "<style scoped>\n",
       "    .dataframe tbody tr th:only-of-type {\n",
       "        vertical-align: middle;\n",
       "    }\n",
       "\n",
       "    .dataframe tbody tr th {\n",
       "        vertical-align: top;\n",
       "    }\n",
       "\n",
       "    .dataframe thead th {\n",
       "        text-align: right;\n",
       "    }\n",
       "</style>\n",
       "<table border=\"1\" class=\"dataframe\">\n",
       "  <thead>\n",
       "    <tr style=\"text-align: right;\">\n",
       "      <th></th>\n",
       "      <th>word</th>\n",
       "      <th>stress</th>\n",
       "      <th>num_syllables</th>\n",
       "      <th>lemma</th>\n",
       "      <th>words_lenght</th>\n",
       "      <th>lemmas_lenght</th>\n",
       "    </tr>\n",
       "  </thead>\n",
       "  <tbody>\n",
       "    <tr>\n",
       "      <th>0</th>\n",
       "      <td>румяной</td>\n",
       "      <td>2</td>\n",
       "      <td>3</td>\n",
       "      <td>румяный</td>\n",
       "      <td>7</td>\n",
       "      <td>7</td>\n",
       "    </tr>\n",
       "    <tr>\n",
       "      <th>1</th>\n",
       "      <td>цифрами</td>\n",
       "      <td>1</td>\n",
       "      <td>3</td>\n",
       "      <td>цифра</td>\n",
       "      <td>7</td>\n",
       "      <td>5</td>\n",
       "    </tr>\n",
       "    <tr>\n",
       "      <th>2</th>\n",
       "      <td>слугами</td>\n",
       "      <td>1</td>\n",
       "      <td>3</td>\n",
       "      <td>слуга</td>\n",
       "      <td>7</td>\n",
       "      <td>5</td>\n",
       "    </tr>\n",
       "    <tr>\n",
       "      <th>3</th>\n",
       "      <td>выбирает</td>\n",
       "      <td>3</td>\n",
       "      <td>4</td>\n",
       "      <td>выбирать</td>\n",
       "      <td>8</td>\n",
       "      <td>8</td>\n",
       "    </tr>\n",
       "    <tr>\n",
       "      <th>4</th>\n",
       "      <td>управдом</td>\n",
       "      <td>3</td>\n",
       "      <td>3</td>\n",
       "      <td>управдом</td>\n",
       "      <td>8</td>\n",
       "      <td>8</td>\n",
       "    </tr>\n",
       "    <tr>\n",
       "      <th>...</th>\n",
       "      <td>...</td>\n",
       "      <td>...</td>\n",
       "      <td>...</td>\n",
       "      <td>...</td>\n",
       "      <td>...</td>\n",
       "      <td>...</td>\n",
       "    </tr>\n",
       "    <tr>\n",
       "      <th>62274</th>\n",
       "      <td>меркнет</td>\n",
       "      <td>1</td>\n",
       "      <td>2</td>\n",
       "      <td>меркнуть</td>\n",
       "      <td>7</td>\n",
       "      <td>8</td>\n",
       "    </tr>\n",
       "    <tr>\n",
       "      <th>62275</th>\n",
       "      <td>держишься</td>\n",
       "      <td>1</td>\n",
       "      <td>3</td>\n",
       "      <td>держаться</td>\n",
       "      <td>9</td>\n",
       "      <td>9</td>\n",
       "    </tr>\n",
       "    <tr>\n",
       "      <th>62276</th>\n",
       "      <td>ценностях</td>\n",
       "      <td>1</td>\n",
       "      <td>3</td>\n",
       "      <td>ценность</td>\n",
       "      <td>9</td>\n",
       "      <td>8</td>\n",
       "    </tr>\n",
       "    <tr>\n",
       "      <th>62277</th>\n",
       "      <td>грабят</td>\n",
       "      <td>1</td>\n",
       "      <td>2</td>\n",
       "      <td>грабить</td>\n",
       "      <td>6</td>\n",
       "      <td>7</td>\n",
       "    </tr>\n",
       "    <tr>\n",
       "      <th>62278</th>\n",
       "      <td>божию</td>\n",
       "      <td>1</td>\n",
       "      <td>3</td>\n",
       "      <td>божий</td>\n",
       "      <td>5</td>\n",
       "      <td>5</td>\n",
       "    </tr>\n",
       "  </tbody>\n",
       "</table>\n",
       "<p>62279 rows × 6 columns</p>\n",
       "</div>"
      ],
      "text/plain": [
       "            word  stress  num_syllables      lemma  words_lenght  \\\n",
       "0        румяной       2              3    румяный             7   \n",
       "1        цифрами       1              3      цифра             7   \n",
       "2        слугами       1              3      слуга             7   \n",
       "3       выбирает       3              4   выбирать             8   \n",
       "4       управдом       3              3   управдом             8   \n",
       "...          ...     ...            ...        ...           ...   \n",
       "62274    меркнет       1              2   меркнуть             7   \n",
       "62275  держишься       1              3  держаться             9   \n",
       "62276  ценностях       1              3   ценность             9   \n",
       "62277     грабят       1              2    грабить             6   \n",
       "62278      божию       1              3      божий             5   \n",
       "\n",
       "       lemmas_lenght  \n",
       "0                  7  \n",
       "1                  5  \n",
       "2                  5  \n",
       "3                  8  \n",
       "4                  8  \n",
       "...              ...  \n",
       "62274              8  \n",
       "62275              9  \n",
       "62276              8  \n",
       "62277              7  \n",
       "62278              5  \n",
       "\n",
       "[62279 rows x 6 columns]"
      ]
     },
     "execution_count": 36,
     "metadata": {},
     "output_type": "execute_result"
    }
   ],
   "source": [
    "words_with_3_s = ds.loc[ds['stress'] == 3]\n",
    "ids = words_with_3_s.sample(int(m.sqrt((len(words_with_3_s) - 15000)**2))).index\n",
    "ds = ds.drop(index=ids, axis=1)\n",
    "ds.reset_index(drop=True)"
   ]
  },
  {
   "cell_type": "raw",
   "id": "a2dcb818-0736-4132-bf0e-dd38d2db804a",
   "metadata": {},
   "source": [
    "words_with_4_s = ds.loc[ds['stress'] == 4]\n",
    "ids = words_with_4_s.sample(int(m.sqrt((len(words_with_4_s) - 15000)**2))).index\n",
    "ds = ds.drop(index=ids, axis=1)\n",
    "ds.reset_index(drop=True)"
   ]
  },
  {
   "cell_type": "code",
   "execution_count": null,
   "id": "c2f16778-fc83-4c23-a427-20558d782dcc",
   "metadata": {},
   "outputs": [],
   "source": []
  },
  {
   "cell_type": "code",
   "execution_count": 37,
   "id": "15ccdec8-41cd-43db-9aad-35d2472392d5",
   "metadata": {},
   "outputs": [
    {
     "data": {
      "text/plain": [
       "<Axes: ylabel='Count'>"
      ]
     },
     "execution_count": 37,
     "metadata": {},
     "output_type": "execute_result"
    },
    {
     "data": {
      "image/png": "[encoded data removed]",
      "text/plain": [
       "<Figure size 640x480 with 1 Axes>"
      ]
     },
     "metadata": {},
     "output_type": "display_data"
    }
   ],
   "source": [
    "sns.histplot(data = {\"stress\": ds['stress']}, \n",
    "             kde=True)"
   ]
  },
  {
   "cell_type": "code",
   "execution_count": null,
   "id": "950a9a01-d89a-4149-abbc-a4441174f29d",
   "metadata": {},
   "outputs": [],
   "source": []
  },
  {
   "cell_type": "raw",
   "id": "6e2fd780-5790-42a1-9ac3-105074783e85",
   "metadata": {},
   "source": [
    "ds = ds.drop(index=three_letters_words.index, axis=1)"
   ]
  },
  {
   "cell_type": "code",
   "execution_count": 38,
   "id": "50319068-e89e-4a5b-ac04-e4d299c6e2cd",
   "metadata": {},
   "outputs": [],
   "source": [
    "pd.set_option('display.max_rows', 5)"
   ]
  },
  {
   "cell_type": "code",
   "execution_count": 39,
   "id": "8bbbeb25-884c-4db8-a47c-eb1c5553ea54",
   "metadata": {},
   "outputs": [
    {
     "data": {
      "text/html": [
       "<div>\n",
       "<style scoped>\n",
       "    .dataframe tbody tr th:only-of-type {\n",
       "        vertical-align: middle;\n",
       "    }\n",
       "\n",
       "    .dataframe tbody tr th {\n",
       "        vertical-align: top;\n",
       "    }\n",
       "\n",
       "    .dataframe thead th {\n",
       "        text-align: right;\n",
       "    }\n",
       "</style>\n",
       "<table border=\"1\" class=\"dataframe\">\n",
       "  <thead>\n",
       "    <tr style=\"text-align: right;\">\n",
       "      <th></th>\n",
       "      <th>word</th>\n",
       "      <th>stress</th>\n",
       "      <th>num_syllables</th>\n",
       "      <th>lemma</th>\n",
       "      <th>words_lenght</th>\n",
       "      <th>lemmas_lenght</th>\n",
       "    </tr>\n",
       "  </thead>\n",
       "  <tbody>\n",
       "    <tr>\n",
       "      <th>6</th>\n",
       "      <td>чёрта</td>\n",
       "      <td>1</td>\n",
       "      <td>2</td>\n",
       "      <td>черт</td>\n",
       "      <td>5</td>\n",
       "      <td>4</td>\n",
       "    </tr>\n",
       "    <tr>\n",
       "      <th>33</th>\n",
       "      <td>хроник</td>\n",
       "      <td>1</td>\n",
       "      <td>2</td>\n",
       "      <td>хроника</td>\n",
       "      <td>6</td>\n",
       "      <td>7</td>\n",
       "    </tr>\n",
       "    <tr>\n",
       "      <th>...</th>\n",
       "      <td>...</td>\n",
       "      <td>...</td>\n",
       "      <td>...</td>\n",
       "      <td>...</td>\n",
       "      <td>...</td>\n",
       "      <td>...</td>\n",
       "    </tr>\n",
       "    <tr>\n",
       "      <th>75712</th>\n",
       "      <td>меркнет</td>\n",
       "      <td>1</td>\n",
       "      <td>2</td>\n",
       "      <td>меркнуть</td>\n",
       "      <td>7</td>\n",
       "      <td>8</td>\n",
       "    </tr>\n",
       "    <tr>\n",
       "      <th>75715</th>\n",
       "      <td>грабят</td>\n",
       "      <td>1</td>\n",
       "      <td>2</td>\n",
       "      <td>грабить</td>\n",
       "      <td>6</td>\n",
       "      <td>7</td>\n",
       "    </tr>\n",
       "  </tbody>\n",
       "</table>\n",
       "<p>10006 rows × 6 columns</p>\n",
       "</div>"
      ],
      "text/plain": [
       "          word  stress  num_syllables     lemma  words_lenght  lemmas_lenght\n",
       "6        чёрта       1              2      черт             5              4\n",
       "33      хроник       1              2   хроника             6              7\n",
       "...        ...     ...            ...       ...           ...            ...\n",
       "75712  меркнет       1              2  меркнуть             7              8\n",
       "75715   грабят       1              2   грабить             6              7\n",
       "\n",
       "[10006 rows x 6 columns]"
      ]
     },
     "execution_count": 39,
     "metadata": {},
     "output_type": "execute_result"
    }
   ],
   "source": [
    "ds.loc[ds['num_syllables'] == 2]"
   ]
  },
  {
   "cell_type": "code",
   "execution_count": 40,
   "id": "be700cfc-6af1-4ee2-8e4a-9f53d609d026",
   "metadata": {},
   "outputs": [
    {
     "data": {
      "text/html": [
       "<div>\n",
       "<style scoped>\n",
       "    .dataframe tbody tr th:only-of-type {\n",
       "        vertical-align: middle;\n",
       "    }\n",
       "\n",
       "    .dataframe tbody tr th {\n",
       "        vertical-align: top;\n",
       "    }\n",
       "\n",
       "    .dataframe thead th {\n",
       "        text-align: right;\n",
       "    }\n",
       "</style>\n",
       "<table border=\"1\" class=\"dataframe\">\n",
       "  <thead>\n",
       "    <tr style=\"text-align: right;\">\n",
       "      <th></th>\n",
       "      <th>word</th>\n",
       "      <th>stress</th>\n",
       "      <th>num_syllables</th>\n",
       "      <th>lemma</th>\n",
       "      <th>words_lenght</th>\n",
       "      <th>lemmas_lenght</th>\n",
       "    </tr>\n",
       "  </thead>\n",
       "  <tbody>\n",
       "    <tr>\n",
       "      <th>40360</th>\n",
       "      <td>сунув</td>\n",
       "      <td>1</td>\n",
       "      <td>2</td>\n",
       "      <td>сунуть</td>\n",
       "      <td>5</td>\n",
       "      <td>6</td>\n",
       "    </tr>\n",
       "    <tr>\n",
       "      <th>20001</th>\n",
       "      <td>хлопковые</td>\n",
       "      <td>1</td>\n",
       "      <td>4</td>\n",
       "      <td>хлопковый</td>\n",
       "      <td>9</td>\n",
       "      <td>9</td>\n",
       "    </tr>\n",
       "    <tr>\n",
       "      <th>22295</th>\n",
       "      <td>пополнению</td>\n",
       "      <td>3</td>\n",
       "      <td>5</td>\n",
       "      <td>пополнение</td>\n",
       "      <td>10</td>\n",
       "      <td>10</td>\n",
       "    </tr>\n",
       "    <tr>\n",
       "      <th>29980</th>\n",
       "      <td>вводу</td>\n",
       "      <td>1</td>\n",
       "      <td>2</td>\n",
       "      <td>ввод</td>\n",
       "      <td>5</td>\n",
       "      <td>4</td>\n",
       "    </tr>\n",
       "    <tr>\n",
       "      <th>21194</th>\n",
       "      <td>вылил</td>\n",
       "      <td>1</td>\n",
       "      <td>2</td>\n",
       "      <td>выливать</td>\n",
       "      <td>5</td>\n",
       "      <td>8</td>\n",
       "    </tr>\n",
       "  </tbody>\n",
       "</table>\n",
       "</div>"
      ],
      "text/plain": [
       "             word  stress  num_syllables       lemma  words_lenght  \\\n",
       "40360       сунув       1              2      сунуть             5   \n",
       "20001   хлопковые       1              4   хлопковый             9   \n",
       "22295  пополнению       3              5  пополнение            10   \n",
       "29980       вводу       1              2        ввод             5   \n",
       "21194       вылил       1              2    выливать             5   \n",
       "\n",
       "       lemmas_lenght  \n",
       "40360              6  \n",
       "20001              9  \n",
       "22295             10  \n",
       "29980              4  \n",
       "21194              8  "
      ]
     },
     "execution_count": 40,
     "metadata": {},
     "output_type": "execute_result"
    }
   ],
   "source": [
    "ds.sample(5)"
   ]
  },
  {
   "cell_type": "markdown",
   "id": "8ac89a45-93ae-4a39-86ab-a34e7fa7a91d",
   "metadata": {},
   "source": [
    "# Токенизируем слово и лемму"
   ]
  },
  {
   "cell_type": "raw",
   "id": "8c76269d-b769-424b-89f0-8b685bb312cc",
   "metadata": {},
   "source": [
    "# Tokenize words\n",
    "for id_ in ds['id']:\n",
    "    word = ds.loc[ds['id'] == 8288]['word'].name\n",
    "    word_len = len(word)\n",
    "    for i in range(0, max_words_lenght):\n",
    "        ds[]\n",
    "        \n",
    "        \n",
    "    "
   ]
  },
  {
   "cell_type": "code",
   "execution_count": 41,
   "id": "afa16ff6-65c7-42e7-8b74-92ed469cbd96",
   "metadata": {
    "scrolled": true
   },
   "outputs": [
    {
     "data": {
      "text/plain": [
       "{'а': 1,\n",
       " 'б': 2,\n",
       " 'в': 3,\n",
       " 'г': 4,\n",
       " 'д': 5,\n",
       " 'е': 6,\n",
       " 'ё': 7,\n",
       " 'ж': 8,\n",
       " 'з': 9,\n",
       " 'и': 10,\n",
       " 'й': 11,\n",
       " 'к': 12,\n",
       " 'л': 13,\n",
       " 'м': 14,\n",
       " 'н': 15,\n",
       " 'о': 16,\n",
       " 'п': 17,\n",
       " 'р': 18,\n",
       " 'с': 19,\n",
       " 'т': 20,\n",
       " 'у': 21,\n",
       " 'ф': 22,\n",
       " 'х': 23,\n",
       " 'ц': 24,\n",
       " 'ч': 25,\n",
       " 'ш': 26,\n",
       " 'щ': 27,\n",
       " 'ъ': 28,\n",
       " 'ы': 29,\n",
       " 'ь': 30,\n",
       " 'э': 31,\n",
       " 'ю': 32,\n",
       " 'я': 33}"
      ]
     },
     "execution_count": 41,
     "metadata": {},
     "output_type": "execute_result"
    }
   ],
   "source": [
    "letter_list = ['а', 'б', 'в', 'г', 'д', 'е', 'ё', 'ж', 'з', 'и', 'й', 'к', 'л', 'м', 'н', 'о', 'п', 'р', 'с', 'т', 'у', 'ф', 'х', 'ц', 'ч', 'ш', 'щ', 'ъ', 'ы', 'ь', 'э', 'ю', 'я']\n",
    "letter_by_number = {}\n",
    "i = 1\n",
    "for letter in letter_list:\n",
    "    letter_by_number[letter] = i\n",
    "    i+=1\n",
    "letter_by_number"
   ]
  },
  {
   "cell_type": "code",
   "execution_count": 42,
   "id": "71b690c9-96be-4457-a9eb-982cf9c1ec56",
   "metadata": {},
   "outputs": [
    {
     "data": {
      "text/plain": [
       "33"
      ]
     },
     "execution_count": 42,
     "metadata": {},
     "output_type": "execute_result"
    }
   ],
   "source": [
    "len(letter_by_number)"
   ]
  },
  {
   "cell_type": "raw",
   "id": "9d85d181-c4f9-430a-8185-b4dc434ada8e",
   "metadata": {},
   "source": [
    "ds.loc[ds['id'] == 0, 'word'] = 'румЯной'"
   ]
  },
  {
   "cell_type": "raw",
   "id": "b356004c-4b4c-47e9-97d8-a5611b6febff",
   "metadata": {},
   "source": [
    "ds.loc[ds['id'] == 0]"
   ]
  },
  {
   "cell_type": "raw",
   "id": "58ea186f-e05a-48de-bde7-7b1afac3c8de",
   "metadata": {},
   "source": [
    "# Добавим еще указатель на то глассная ли это буква (1) или нет"
   ]
  },
  {
   "cell_type": "code",
   "execution_count": 43,
   "id": "77d279d0-a1d4-4bcc-b2f2-c5c8b603d4c9",
   "metadata": {},
   "outputs": [],
   "source": [
    "# Tokenize words\n",
    "for i in range(0, max_words_lenght):\n",
    "    ds[f'wl{i+1}'] = [(letter_by_number[word[i]] if len(word) > i else 0) for word in ds['word']]\n",
    "    # is letter vowel?\n",
    "    # ds[f'is_wl_v{i+1}'] = [(1 if (len(word) > i and word[i] in vowels) else 0) for word in ds['word']]\n",
    "    # # How many vowels in the word?\n",
    "    # i = 0\n",
    "    # num_lemmas_syllables = 0\n",
    "    # for id_ in ds['id']:\n",
    "    #     word = ds.loc[ds['id'] == id_]['word']\n",
    "    #     for letter in word:\n",
    "    #         if letter in vowels:\n",
    "    #             num_lemmas_syllables += 1\n",
    "    #     ds.loc[ds['id'] == id_, 'num_lemmas_syllables'] = num_lemmas_syllables"
   ]
  },
  {
   "cell_type": "raw",
   "id": "ebfdd1e5-9285-4b2e-95fc-50e89b7b7bb6",
   "metadata": {},
   "source": [
    "# Tokenize lemms\n",
    "for i in range(0, max_lemms_lenght):\n",
    "    ds[f'll{i+1}'] = [(letter_by_number[lemma[i]] if len(lemma) > i else 0) for lemma in ds['lemma']]\n",
    "    # is letter vowel?\n",
    "    # ds[f'is_ll_v{i+1}'] = [(1 if (len(lemma) > i and lemma[i] in vowels) else 0) for lemma in ds['lemma']]"
   ]
  },
  {
   "cell_type": "raw",
   "id": "b291e51e-7e41-41ea-8bd4-cd089e89dc0a",
   "metadata": {},
   "source": [
    "ds.loc[ds['wl20'] != 0]"
   ]
  },
  {
   "cell_type": "raw",
   "id": "83f2a1cd-db63-4801-97ef-61732783a537",
   "metadata": {},
   "source": [
    "from sklearn import preprocessing \n",
    "\n",
    "label_encoder = preprocessing.LabelEncoder() \n",
    "  \n",
    "# Encode labels in column 'species'. \n",
    "df['species']= label_encoder.fit_transform(df['species']) "
   ]
  },
  {
   "cell_type": "raw",
   "id": "ec235daf-5f83-4478-9c21-7c8487f687d1",
   "metadata": {},
   "source": [
    "ds.replace({'fruit': {'banana': -1, 'apple': 1}, 'color': {'yellow': -1, 'red': 1}},inplace=True)"
   ]
  },
  {
   "cell_type": "raw",
   "id": "9a59d654-1738-469e-ac2c-aac225d2b5ce",
   "metadata": {},
   "source": [
    "Для колонок:\n",
    "pd.set_option('display.max_columns', None)\n",
    "Для строк:\n",
    "pd.set_option('display.max_rows', None)"
   ]
  },
  {
   "cell_type": "code",
   "execution_count": 44,
   "id": "cbe1ba3d-19e5-40a2-9033-cd1d71d7cd8d",
   "metadata": {},
   "outputs": [
    {
     "data": {
      "text/html": [
       "<div>\n",
       "<style scoped>\n",
       "    .dataframe tbody tr th:only-of-type {\n",
       "        vertical-align: middle;\n",
       "    }\n",
       "\n",
       "    .dataframe tbody tr th {\n",
       "        vertical-align: top;\n",
       "    }\n",
       "\n",
       "    .dataframe thead th {\n",
       "        text-align: right;\n",
       "    }\n",
       "</style>\n",
       "<table border=\"1\" class=\"dataframe\">\n",
       "  <thead>\n",
       "    <tr style=\"text-align: right;\">\n",
       "      <th></th>\n",
       "      <th>word</th>\n",
       "      <th>stress</th>\n",
       "      <th>num_syllables</th>\n",
       "      <th>lemma</th>\n",
       "      <th>words_lenght</th>\n",
       "      <th>lemmas_lenght</th>\n",
       "      <th>wl1</th>\n",
       "      <th>wl2</th>\n",
       "      <th>wl3</th>\n",
       "      <th>wl4</th>\n",
       "      <th>...</th>\n",
       "      <th>wl11</th>\n",
       "      <th>wl12</th>\n",
       "      <th>wl13</th>\n",
       "      <th>wl14</th>\n",
       "      <th>wl15</th>\n",
       "      <th>wl16</th>\n",
       "      <th>wl17</th>\n",
       "      <th>wl18</th>\n",
       "      <th>wl19</th>\n",
       "      <th>wl20</th>\n",
       "    </tr>\n",
       "  </thead>\n",
       "  <tbody>\n",
       "    <tr>\n",
       "      <th>17137</th>\n",
       "      <td>креативные</td>\n",
       "      <td>3</td>\n",
       "      <td>5</td>\n",
       "      <td>креативный</td>\n",
       "      <td>10</td>\n",
       "      <td>10</td>\n",
       "      <td>12</td>\n",
       "      <td>18</td>\n",
       "      <td>6</td>\n",
       "      <td>1</td>\n",
       "      <td>...</td>\n",
       "      <td>0</td>\n",
       "      <td>0</td>\n",
       "      <td>0</td>\n",
       "      <td>0</td>\n",
       "      <td>0</td>\n",
       "      <td>0</td>\n",
       "      <td>0</td>\n",
       "      <td>0</td>\n",
       "      <td>0</td>\n",
       "      <td>0</td>\n",
       "    </tr>\n",
       "    <tr>\n",
       "      <th>66119</th>\n",
       "      <td>асимметричные</td>\n",
       "      <td>4</td>\n",
       "      <td>6</td>\n",
       "      <td>асимметричный</td>\n",
       "      <td>13</td>\n",
       "      <td>13</td>\n",
       "      <td>1</td>\n",
       "      <td>19</td>\n",
       "      <td>10</td>\n",
       "      <td>14</td>\n",
       "      <td>...</td>\n",
       "      <td>15</td>\n",
       "      <td>29</td>\n",
       "      <td>6</td>\n",
       "      <td>0</td>\n",
       "      <td>0</td>\n",
       "      <td>0</td>\n",
       "      <td>0</td>\n",
       "      <td>0</td>\n",
       "      <td>0</td>\n",
       "      <td>0</td>\n",
       "    </tr>\n",
       "    <tr>\n",
       "      <th>41930</th>\n",
       "      <td>неофициальным</td>\n",
       "      <td>5</td>\n",
       "      <td>6</td>\n",
       "      <td>неофициальный</td>\n",
       "      <td>13</td>\n",
       "      <td>13</td>\n",
       "      <td>15</td>\n",
       "      <td>6</td>\n",
       "      <td>16</td>\n",
       "      <td>22</td>\n",
       "      <td>...</td>\n",
       "      <td>15</td>\n",
       "      <td>29</td>\n",
       "      <td>14</td>\n",
       "      <td>0</td>\n",
       "      <td>0</td>\n",
       "      <td>0</td>\n",
       "      <td>0</td>\n",
       "      <td>0</td>\n",
       "      <td>0</td>\n",
       "      <td>0</td>\n",
       "    </tr>\n",
       "  </tbody>\n",
       "</table>\n",
       "<p>3 rows × 26 columns</p>\n",
       "</div>"
      ],
      "text/plain": [
       "                word  stress  num_syllables          lemma  words_lenght  \\\n",
       "17137     креативные       3              5     креативный            10   \n",
       "66119  асимметричные       4              6  асимметричный            13   \n",
       "41930  неофициальным       5              6  неофициальный            13   \n",
       "\n",
       "       lemmas_lenght  wl1  wl2  wl3  wl4  ...  wl11  wl12  wl13  wl14  wl15  \\\n",
       "17137             10   12   18    6    1  ...     0     0     0     0     0   \n",
       "66119             13    1   19   10   14  ...    15    29     6     0     0   \n",
       "41930             13   15    6   16   22  ...    15    29    14     0     0   \n",
       "\n",
       "       wl16  wl17  wl18  wl19  wl20  \n",
       "17137     0     0     0     0     0  \n",
       "66119     0     0     0     0     0  \n",
       "41930     0     0     0     0     0  \n",
       "\n",
       "[3 rows x 26 columns]"
      ]
     },
     "execution_count": 44,
     "metadata": {},
     "output_type": "execute_result"
    }
   ],
   "source": [
    "# pd.set_option('display.max_columns', None)\n",
    "ds.sample(3)"
   ]
  },
  {
   "cell_type": "raw",
   "id": "d2d7b177-56a4-4e38-b1fa-29b11c729917",
   "metadata": {},
   "source": [
    "ds.loc[ds['is_ll_v20'] != 0]"
   ]
  },
  {
   "cell_type": "code",
   "execution_count": 45,
   "id": "f4b1c406-49ed-4578-a7e2-65deb1675f20",
   "metadata": {
    "scrolled": true
   },
   "outputs": [
    {
     "data": {
      "text/html": [
       "<div>\n",
       "<style scoped>\n",
       "    .dataframe tbody tr th:only-of-type {\n",
       "        vertical-align: middle;\n",
       "    }\n",
       "\n",
       "    .dataframe tbody tr th {\n",
       "        vertical-align: top;\n",
       "    }\n",
       "\n",
       "    .dataframe thead th {\n",
       "        text-align: right;\n",
       "    }\n",
       "</style>\n",
       "<table border=\"1\" class=\"dataframe\">\n",
       "  <thead>\n",
       "    <tr style=\"text-align: right;\">\n",
       "      <th></th>\n",
       "      <th>stress</th>\n",
       "      <th>num_syllables</th>\n",
       "      <th>words_lenght</th>\n",
       "      <th>lemmas_lenght</th>\n",
       "      <th>wl1</th>\n",
       "      <th>wl2</th>\n",
       "      <th>wl3</th>\n",
       "      <th>wl4</th>\n",
       "      <th>wl5</th>\n",
       "      <th>wl6</th>\n",
       "      <th>...</th>\n",
       "      <th>wl11</th>\n",
       "      <th>wl12</th>\n",
       "      <th>wl13</th>\n",
       "      <th>wl14</th>\n",
       "      <th>wl15</th>\n",
       "      <th>wl16</th>\n",
       "      <th>wl17</th>\n",
       "      <th>wl18</th>\n",
       "      <th>wl19</th>\n",
       "      <th>wl20</th>\n",
       "    </tr>\n",
       "  </thead>\n",
       "  <tbody>\n",
       "    <tr>\n",
       "      <th>stress</th>\n",
       "      <td>1.000000</td>\n",
       "      <td>0.769351</td>\n",
       "      <td>0.692478</td>\n",
       "      <td>0.692037</td>\n",
       "      <td>0.019775</td>\n",
       "      <td>-0.083017</td>\n",
       "      <td>0.000235</td>\n",
       "      <td>-0.090385</td>\n",
       "      <td>0.012525</td>\n",
       "      <td>0.057126</td>\n",
       "      <td>...</td>\n",
       "      <td>0.449793</td>\n",
       "      <td>0.411156</td>\n",
       "      <td>0.335029</td>\n",
       "      <td>0.251296</td>\n",
       "      <td>0.172758</td>\n",
       "      <td>0.110368</td>\n",
       "      <td>0.067812</td>\n",
       "      <td>0.044177</td>\n",
       "      <td>0.032723</td>\n",
       "      <td>0.018999</td>\n",
       "    </tr>\n",
       "    <tr>\n",
       "      <th>num_syllables</th>\n",
       "      <td>0.769351</td>\n",
       "      <td>1.000000</td>\n",
       "      <td>0.858442</td>\n",
       "      <td>0.797906</td>\n",
       "      <td>0.002546</td>\n",
       "      <td>-0.052912</td>\n",
       "      <td>-0.015803</td>\n",
       "      <td>-0.071353</td>\n",
       "      <td>0.038251</td>\n",
       "      <td>0.118901</td>\n",
       "      <td>...</td>\n",
       "      <td>0.561583</td>\n",
       "      <td>0.517196</td>\n",
       "      <td>0.424131</td>\n",
       "      <td>0.323879</td>\n",
       "      <td>0.226501</td>\n",
       "      <td>0.144209</td>\n",
       "      <td>0.096398</td>\n",
       "      <td>0.061044</td>\n",
       "      <td>0.045697</td>\n",
       "      <td>0.025568</td>\n",
       "    </tr>\n",
       "    <tr>\n",
       "      <th>...</th>\n",
       "      <td>...</td>\n",
       "      <td>...</td>\n",
       "      <td>...</td>\n",
       "      <td>...</td>\n",
       "      <td>...</td>\n",
       "      <td>...</td>\n",
       "      <td>...</td>\n",
       "      <td>...</td>\n",
       "      <td>...</td>\n",
       "      <td>...</td>\n",
       "      <td>...</td>\n",
       "      <td>...</td>\n",
       "      <td>...</td>\n",
       "      <td>...</td>\n",
       "      <td>...</td>\n",
       "      <td>...</td>\n",
       "      <td>...</td>\n",
       "      <td>...</td>\n",
       "      <td>...</td>\n",
       "      <td>...</td>\n",
       "      <td>...</td>\n",
       "    </tr>\n",
       "    <tr>\n",
       "      <th>wl19</th>\n",
       "      <td>0.032723</td>\n",
       "      <td>0.045697</td>\n",
       "      <td>0.100830</td>\n",
       "      <td>0.098126</td>\n",
       "      <td>0.013998</td>\n",
       "      <td>0.000887</td>\n",
       "      <td>-0.002820</td>\n",
       "      <td>0.012789</td>\n",
       "      <td>0.017357</td>\n",
       "      <td>-0.000158</td>\n",
       "      <td>...</td>\n",
       "      <td>0.047889</td>\n",
       "      <td>0.034093</td>\n",
       "      <td>0.059193</td>\n",
       "      <td>0.081308</td>\n",
       "      <td>0.099002</td>\n",
       "      <td>0.163527</td>\n",
       "      <td>0.305216</td>\n",
       "      <td>0.539887</td>\n",
       "      <td>1.000000</td>\n",
       "      <td>0.574457</td>\n",
       "    </tr>\n",
       "    <tr>\n",
       "      <th>wl20</th>\n",
       "      <td>0.018999</td>\n",
       "      <td>0.025568</td>\n",
       "      <td>0.060030</td>\n",
       "      <td>0.057968</td>\n",
       "      <td>0.011614</td>\n",
       "      <td>-0.012125</td>\n",
       "      <td>-0.000375</td>\n",
       "      <td>0.035024</td>\n",
       "      <td>0.012075</td>\n",
       "      <td>-0.000171</td>\n",
       "      <td>...</td>\n",
       "      <td>0.047991</td>\n",
       "      <td>0.014845</td>\n",
       "      <td>0.041196</td>\n",
       "      <td>0.061146</td>\n",
       "      <td>0.012197</td>\n",
       "      <td>0.040519</td>\n",
       "      <td>0.175722</td>\n",
       "      <td>0.272217</td>\n",
       "      <td>0.574457</td>\n",
       "      <td>1.000000</td>\n",
       "    </tr>\n",
       "  </tbody>\n",
       "</table>\n",
       "<p>24 rows × 24 columns</p>\n",
       "</div>"
      ],
      "text/plain": [
       "                 stress  num_syllables  words_lenght  lemmas_lenght       wl1  \\\n",
       "stress         1.000000       0.769351      0.692478       0.692037  0.019775   \n",
       "num_syllables  0.769351       1.000000      0.858442       0.797906  0.002546   \n",
       "...                 ...            ...           ...            ...       ...   \n",
       "wl19           0.032723       0.045697      0.100830       0.098126  0.013998   \n",
       "wl20           0.018999       0.025568      0.060030       0.057968  0.011614   \n",
       "\n",
       "                    wl2       wl3       wl4       wl5       wl6  ...  \\\n",
       "stress        -0.083017  0.000235 -0.090385  0.012525  0.057126  ...   \n",
       "num_syllables -0.052912 -0.015803 -0.071353  0.038251  0.118901  ...   \n",
       "...                 ...       ...       ...       ...       ...  ...   \n",
       "wl19           0.000887 -0.002820  0.012789  0.017357 -0.000158  ...   \n",
       "wl20          -0.012125 -0.000375  0.035024  0.012075 -0.000171  ...   \n",
       "\n",
       "                   wl11      wl12      wl13      wl14      wl15      wl16  \\\n",
       "stress         0.449793  0.411156  0.335029  0.251296  0.172758  0.110368   \n",
       "num_syllables  0.561583  0.517196  0.424131  0.323879  0.226501  0.144209   \n",
       "...                 ...       ...       ...       ...       ...       ...   \n",
       "wl19           0.047889  0.034093  0.059193  0.081308  0.099002  0.163527   \n",
       "wl20           0.047991  0.014845  0.041196  0.061146  0.012197  0.040519   \n",
       "\n",
       "                   wl17      wl18      wl19      wl20  \n",
       "stress         0.067812  0.044177  0.032723  0.018999  \n",
       "num_syllables  0.096398  0.061044  0.045697  0.025568  \n",
       "...                 ...       ...       ...       ...  \n",
       "wl19           0.305216  0.539887  1.000000  0.574457  \n",
       "wl20           0.175722  0.272217  0.574457  1.000000  \n",
       "\n",
       "[24 rows x 24 columns]"
      ]
     },
     "execution_count": 45,
     "metadata": {},
     "output_type": "execute_result"
    }
   ],
   "source": [
    "# pd.set_option('display.max_columns', None)\n",
    "ds.drop(['word', 'lemma'], axis=1).corr()"
   ]
  },
  {
   "cell_type": "code",
   "execution_count": 46,
   "id": "e06d3860-5aab-45bc-8c63-97f6a1422e55",
   "metadata": {
    "scrolled": true
   },
   "outputs": [
    {
     "data": {
      "text/plain": [
       "[1.0,\n",
       " 0.7693508310984958,\n",
       " 0.0197749712225472,\n",
       " -0.08301744247123857,\n",
       " 0.00023530177910098416,\n",
       " -0.0903853487655535,\n",
       " 0.012524805415048442,\n",
       " 0.05712637903423647,\n",
       " 0.1815141660749761,\n",
       " 0.29625921559475193,\n",
       " 0.406741669246382,\n",
       " 0.4587285691547083,\n",
       " 0.4497926422813688,\n",
       " 0.4111557840943556,\n",
       " 0.3350294931381104,\n",
       " 0.2512963455310662,\n",
       " 0.17275799966112743,\n",
       " 0.11036771213915504,\n",
       " 0.06781181234191515,\n",
       " 0.04417746215192892,\n",
       " 0.03272349589785422,\n",
       " 0.01899887036489777]"
      ]
     },
     "execution_count": 46,
     "metadata": {},
     "output_type": "execute_result"
    }
   ],
   "source": [
    "ds.drop(['word', 'lemma', 'words_lenght', 'lemmas_lenght'], axis=1).corr()['stress'].to_list()"
   ]
  },
  {
   "cell_type": "code",
   "execution_count": 47,
   "id": "3451e9a1-9200-45ba-9757-3fb85aeec0ce",
   "metadata": {},
   "outputs": [],
   "source": [
    "# ds_ = ds.drop(['id', 'word', 'lemma', 'words_lenght', 'lemmas_lenght'], axis=1)\n",
    "ds_ = ds.drop(['word', 'lemma'], axis=1)"
   ]
  },
  {
   "cell_type": "code",
   "execution_count": 48,
   "id": "52196729-fbbb-4bc4-a54c-7aa8c21c2f2c",
   "metadata": {},
   "outputs": [],
   "source": [
    "from sklearn.utils import shuffle\n",
    "ds_ = shuffle(ds_)"
   ]
  },
  {
   "cell_type": "markdown",
   "id": "0e664a51-9e4b-48ec-bdc3-b8201c7fcd80",
   "metadata": {},
   "source": [
    "# Prepare data"
   ]
  },
  {
   "cell_type": "code",
   "execution_count": 49,
   "id": "45f80d9f-ecf8-474e-aa4b-6668c27229b1",
   "metadata": {},
   "outputs": [],
   "source": [
    "from tensorflow.keras.layers import Dense, Input, Dropout, BatchNormalization, LeakyReLU, Conv1D, MaxPooling1D, Embedding, Flatten\n",
    "import tensorflow as tf\n",
    "from tensorflow.keras import Sequential\n",
    "from sklearn.preprocessing import LabelEncoder, MinMaxScaler\n",
    "from sklearn.metrics import accuracy_score\n",
    "from sklearn.metrics import mean_squared_error, mean_absolute_error, r2_score\n",
    "\n",
    "from matplotlib import pyplot as plt\n",
    "import seaborn as sns\n",
    "\n",
    "%matplotlib inline"
   ]
  },
  {
   "cell_type": "code",
   "execution_count": 50,
   "id": "0d4e3cb6-8adb-47ca-8779-dc0ae25329dc",
   "metadata": {},
   "outputs": [],
   "source": [
    "# X, y = df.values[:, :-1], df.values[:, -1]\n",
    "X = ds_.drop(['stress', 'num_syllables', 'words_lenght', 'lemmas_lenght'], axis=1)\n",
    "# y = ds_['stress']"
   ]
  },
  {
   "cell_type": "code",
   "execution_count": 84,
   "id": "6d63eb02-d104-40ef-8e38-09d0b1ef0243",
   "metadata": {},
   "outputs": [],
   "source": [
    "from sklearn.preprocessing import OneHotEncoder\n",
    "encoder = OneHotEncoder(handle_unknown='ignore')\n",
    "# y = pd.DataFrame(encoder.fit_transform(ds_[['stress']]).toarray())\n",
    "y = pd.DataFrame(ds_[['stress']])"
   ]
  },
  {
   "cell_type": "code",
   "execution_count": 55,
   "id": "6b81a7b4-9647-4e6f-8d68-625a6ef2ef3c",
   "metadata": {},
   "outputs": [
    {
     "data": {
      "text/plain": [
       "array([  0.69198889,   0.69198889,   0.69198889,   0.62080343,\n",
       "        19.40155763, 432.49305556])"
      ]
     },
     "execution_count": 55,
     "metadata": {},
     "output_type": "execute_result"
    }
   ],
   "source": [
    "# Получение весов классов\n",
    "class_weights = compute_class_weight('balanced', classes=np.unique(ds_['stress']), y=ds_['stress'])\n",
    "class_weights"
   ]
  },
  {
   "cell_type": "code",
   "execution_count": 70,
   "id": "cf767577-f9e8-4aac-b7d6-b1bff176a6eb",
   "metadata": {},
   "outputs": [],
   "source": [
    "i = 0\n",
    "class_weights_dict = {}\n",
    "for e in class_weights:\n",
    "    class_weights_dict[e] = e\n",
    "    i+=1"
   ]
  },
  {
   "cell_type": "code",
   "execution_count": 85,
   "id": "97539bbb-eb21-4973-8ebf-292fa5d6b0c9",
   "metadata": {},
   "outputs": [],
   "source": [
    "from sklearn.model_selection import train_test_split\n",
    "X_train, X_test, y_train, y_test = train_test_split(X, y, test_size = 0.1, shuffle=True)"
   ]
  },
  {
   "cell_type": "code",
   "execution_count": 57,
   "id": "083ed451-1e72-4a16-b163-2fd587bc75cd",
   "metadata": {},
   "outputs": [
    {
     "data": {
      "text/html": [
       "<div>\n",
       "<style scoped>\n",
       "    .dataframe tbody tr th:only-of-type {\n",
       "        vertical-align: middle;\n",
       "    }\n",
       "\n",
       "    .dataframe tbody tr th {\n",
       "        vertical-align: top;\n",
       "    }\n",
       "\n",
       "    .dataframe thead th {\n",
       "        text-align: right;\n",
       "    }\n",
       "</style>\n",
       "<table border=\"1\" class=\"dataframe\">\n",
       "  <thead>\n",
       "    <tr style=\"text-align: right;\">\n",
       "      <th></th>\n",
       "      <th>wl1</th>\n",
       "      <th>wl2</th>\n",
       "      <th>wl3</th>\n",
       "      <th>wl4</th>\n",
       "      <th>wl5</th>\n",
       "      <th>wl6</th>\n",
       "      <th>wl7</th>\n",
       "      <th>wl8</th>\n",
       "      <th>wl9</th>\n",
       "      <th>wl10</th>\n",
       "      <th>wl11</th>\n",
       "      <th>wl12</th>\n",
       "      <th>wl13</th>\n",
       "      <th>wl14</th>\n",
       "      <th>wl15</th>\n",
       "      <th>wl16</th>\n",
       "      <th>wl17</th>\n",
       "      <th>wl18</th>\n",
       "      <th>wl19</th>\n",
       "      <th>wl20</th>\n",
       "    </tr>\n",
       "  </thead>\n",
       "  <tbody>\n",
       "    <tr>\n",
       "      <th>19091</th>\n",
       "      <td>21</td>\n",
       "      <td>19</td>\n",
       "      <td>17</td>\n",
       "      <td>6</td>\n",
       "      <td>3</td>\n",
       "      <td>1</td>\n",
       "      <td>6</td>\n",
       "      <td>14</td>\n",
       "      <td>16</td>\n",
       "      <td>19</td>\n",
       "      <td>20</td>\n",
       "      <td>10</td>\n",
       "      <td>0</td>\n",
       "      <td>0</td>\n",
       "      <td>0</td>\n",
       "      <td>0</td>\n",
       "      <td>0</td>\n",
       "      <td>0</td>\n",
       "      <td>0</td>\n",
       "      <td>0</td>\n",
       "    </tr>\n",
       "    <tr>\n",
       "      <th>73078</th>\n",
       "      <td>18</td>\n",
       "      <td>6</td>\n",
       "      <td>12</td>\n",
       "      <td>16</td>\n",
       "      <td>14</td>\n",
       "      <td>6</td>\n",
       "      <td>15</td>\n",
       "      <td>5</td>\n",
       "      <td>21</td>\n",
       "      <td>6</td>\n",
       "      <td>14</td>\n",
       "      <td>29</td>\n",
       "      <td>11</td>\n",
       "      <td>0</td>\n",
       "      <td>0</td>\n",
       "      <td>0</td>\n",
       "      <td>0</td>\n",
       "      <td>0</td>\n",
       "      <td>0</td>\n",
       "      <td>0</td>\n",
       "    </tr>\n",
       "    <tr>\n",
       "      <th>...</th>\n",
       "      <td>...</td>\n",
       "      <td>...</td>\n",
       "      <td>...</td>\n",
       "      <td>...</td>\n",
       "      <td>...</td>\n",
       "      <td>...</td>\n",
       "      <td>...</td>\n",
       "      <td>...</td>\n",
       "      <td>...</td>\n",
       "      <td>...</td>\n",
       "      <td>...</td>\n",
       "      <td>...</td>\n",
       "      <td>...</td>\n",
       "      <td>...</td>\n",
       "      <td>...</td>\n",
       "      <td>...</td>\n",
       "      <td>...</td>\n",
       "      <td>...</td>\n",
       "      <td>...</td>\n",
       "      <td>...</td>\n",
       "    </tr>\n",
       "    <tr>\n",
       "      <th>39009</th>\n",
       "      <td>19</td>\n",
       "      <td>6</td>\n",
       "      <td>3</td>\n",
       "      <td>6</td>\n",
       "      <td>18</td>\n",
       "      <td>15</td>\n",
       "      <td>16</td>\n",
       "      <td>6</td>\n",
       "      <td>0</td>\n",
       "      <td>0</td>\n",
       "      <td>0</td>\n",
       "      <td>0</td>\n",
       "      <td>0</td>\n",
       "      <td>0</td>\n",
       "      <td>0</td>\n",
       "      <td>0</td>\n",
       "      <td>0</td>\n",
       "      <td>0</td>\n",
       "      <td>0</td>\n",
       "      <td>0</td>\n",
       "    </tr>\n",
       "    <tr>\n",
       "      <th>70193</th>\n",
       "      <td>19</td>\n",
       "      <td>16</td>\n",
       "      <td>16</td>\n",
       "      <td>2</td>\n",
       "      <td>18</td>\n",
       "      <td>1</td>\n",
       "      <td>9</td>\n",
       "      <td>10</td>\n",
       "      <td>13</td>\n",
       "      <td>0</td>\n",
       "      <td>0</td>\n",
       "      <td>0</td>\n",
       "      <td>0</td>\n",
       "      <td>0</td>\n",
       "      <td>0</td>\n",
       "      <td>0</td>\n",
       "      <td>0</td>\n",
       "      <td>0</td>\n",
       "      <td>0</td>\n",
       "      <td>0</td>\n",
       "    </tr>\n",
       "  </tbody>\n",
       "</table>\n",
       "<p>56051 rows × 20 columns</p>\n",
       "</div>"
      ],
      "text/plain": [
       "       wl1  wl2  wl3  wl4  wl5  wl6  wl7  wl8  wl9  wl10  wl11  wl12  wl13  \\\n",
       "19091   21   19   17    6    3    1    6   14   16    19    20    10     0   \n",
       "73078   18    6   12   16   14    6   15    5   21     6    14    29    11   \n",
       "...    ...  ...  ...  ...  ...  ...  ...  ...  ...   ...   ...   ...   ...   \n",
       "39009   19    6    3    6   18   15   16    6    0     0     0     0     0   \n",
       "70193   19   16   16    2   18    1    9   10   13     0     0     0     0   \n",
       "\n",
       "       wl14  wl15  wl16  wl17  wl18  wl19  wl20  \n",
       "19091     0     0     0     0     0     0     0  \n",
       "73078     0     0     0     0     0     0     0  \n",
       "...     ...   ...   ...   ...   ...   ...   ...  \n",
       "39009     0     0     0     0     0     0     0  \n",
       "70193     0     0     0     0     0     0     0  \n",
       "\n",
       "[56051 rows x 20 columns]"
      ]
     },
     "execution_count": 57,
     "metadata": {},
     "output_type": "execute_result"
    }
   ],
   "source": [
    "pd.set_option('display.max_columns', None)\n",
    "X_train"
   ]
  },
  {
   "cell_type": "code",
   "execution_count": 58,
   "id": "4179cc7e-9b47-4d8e-b3a0-849f4e402839",
   "metadata": {},
   "outputs": [
    {
     "data": {
      "text/html": [
       "<div>\n",
       "<style scoped>\n",
       "    .dataframe tbody tr th:only-of-type {\n",
       "        vertical-align: middle;\n",
       "    }\n",
       "\n",
       "    .dataframe tbody tr th {\n",
       "        vertical-align: top;\n",
       "    }\n",
       "\n",
       "    .dataframe thead th {\n",
       "        text-align: right;\n",
       "    }\n",
       "</style>\n",
       "<table border=\"1\" class=\"dataframe\">\n",
       "  <thead>\n",
       "    <tr style=\"text-align: right;\">\n",
       "      <th></th>\n",
       "      <th>0</th>\n",
       "      <th>1</th>\n",
       "      <th>2</th>\n",
       "      <th>3</th>\n",
       "      <th>4</th>\n",
       "      <th>5</th>\n",
       "    </tr>\n",
       "  </thead>\n",
       "  <tbody>\n",
       "    <tr>\n",
       "      <th>38350</th>\n",
       "      <td>0.0</td>\n",
       "      <td>0.0</td>\n",
       "      <td>1.0</td>\n",
       "      <td>0.0</td>\n",
       "      <td>0.0</td>\n",
       "      <td>0.0</td>\n",
       "    </tr>\n",
       "    <tr>\n",
       "      <th>37286</th>\n",
       "      <td>0.0</td>\n",
       "      <td>0.0</td>\n",
       "      <td>0.0</td>\n",
       "      <td>1.0</td>\n",
       "      <td>0.0</td>\n",
       "      <td>0.0</td>\n",
       "    </tr>\n",
       "    <tr>\n",
       "      <th>...</th>\n",
       "      <td>...</td>\n",
       "      <td>...</td>\n",
       "      <td>...</td>\n",
       "      <td>...</td>\n",
       "      <td>...</td>\n",
       "      <td>...</td>\n",
       "    </tr>\n",
       "    <tr>\n",
       "      <th>11144</th>\n",
       "      <td>1.0</td>\n",
       "      <td>0.0</td>\n",
       "      <td>0.0</td>\n",
       "      <td>0.0</td>\n",
       "      <td>0.0</td>\n",
       "      <td>0.0</td>\n",
       "    </tr>\n",
       "    <tr>\n",
       "      <th>23743</th>\n",
       "      <td>0.0</td>\n",
       "      <td>0.0</td>\n",
       "      <td>0.0</td>\n",
       "      <td>1.0</td>\n",
       "      <td>0.0</td>\n",
       "      <td>0.0</td>\n",
       "    </tr>\n",
       "  </tbody>\n",
       "</table>\n",
       "<p>56051 rows × 6 columns</p>\n",
       "</div>"
      ],
      "text/plain": [
       "         0    1    2    3    4    5\n",
       "38350  0.0  0.0  1.0  0.0  0.0  0.0\n",
       "37286  0.0  0.0  0.0  1.0  0.0  0.0\n",
       "...    ...  ...  ...  ...  ...  ...\n",
       "11144  1.0  0.0  0.0  0.0  0.0  0.0\n",
       "23743  0.0  0.0  0.0  1.0  0.0  0.0\n",
       "\n",
       "[56051 rows x 6 columns]"
      ]
     },
     "execution_count": 58,
     "metadata": {},
     "output_type": "execute_result"
    }
   ],
   "source": [
    "y_train"
   ]
  },
  {
   "cell_type": "raw",
   "id": "f485f692-23e4-46c1-91f0-9342252f64c7",
   "metadata": {},
   "source": [
    "# Нормализуем данные\n",
    "scaler = MinMaxScaler()\n",
    "X_train = scaler.fit_transform(X_train)\n",
    "X_test = scaler.transform(X_test)\n",
    "# NN_normalizators.append(scaler) "
   ]
  },
  {
   "cell_type": "raw",
   "id": "6ccdd459-e48a-4ce7-80db-021520f32d15",
   "metadata": {},
   "source": [
    "X_train[0]"
   ]
  },
  {
   "cell_type": "code",
   "execution_count": 59,
   "id": "cb71aa92-0eba-4dfe-ac1a-a5a5fe7b02c6",
   "metadata": {},
   "outputs": [
    {
     "data": {
      "text/plain": [
       "20"
      ]
     },
     "execution_count": 59,
     "metadata": {},
     "output_type": "execute_result"
    }
   ],
   "source": [
    "n_futures = len(X.columns)\n",
    "n_futures"
   ]
  },
  {
   "cell_type": "markdown",
   "id": "08f02c5c-33f8-4047-8d4c-de5c26651358",
   "metadata": {},
   "source": [
    "# Trying Ansables"
   ]
  },
  {
   "cell_type": "code",
   "execution_count": 73,
   "id": "4c66dab2-443e-4ff4-8ef1-fef5a88cb39e",
   "metadata": {},
   "outputs": [],
   "source": [
    "from sklearn.tree import DecisionTreeClassifier\n",
    "from sklearn.ensemble import AdaBoostClassifier"
   ]
  },
  {
   "cell_type": "code",
   "execution_count": 74,
   "id": "72d38f88-8d23-401c-ab5d-f3a0944c844d",
   "metadata": {},
   "outputs": [],
   "source": [
    "# Create base classifier decision tree\n",
    "tree = DecisionTreeClassifier(criterion='entropy', \n",
    "                              max_depth=20,\n",
    "                              random_state=1)"
   ]
  },
  {
   "cell_type": "code",
   "execution_count": 90,
   "id": "82f4c83a-9c5f-405f-b5a6-e1c885e4905d",
   "metadata": {},
   "outputs": [],
   "source": [
    "# Create AdaBoost classifier\n",
    "ada = AdaBoostClassifier(estimator=tree,  # base_estimator in old version\n",
    "                         n_estimators=500, \n",
    "                         learning_rate=0.1,\n",
    "                         random_state=1)"
   ]
  },
  {
   "cell_type": "code",
   "execution_count": 76,
   "id": "b252e117-2cae-4266-b962-d80f858bab25",
   "metadata": {},
   "outputs": [
    {
     "name": "stdout",
     "output_type": "stream",
     "text": [
      "Decision tree train/test accuracies 0.934/0.750\n"
     ]
    }
   ],
   "source": [
    "# Train simple tree classifier\n",
    "\n",
    "tree = tree.fit(X_train, y_train)\n",
    "y_train_pred = tree.predict(X_train)\n",
    "y_test_pred = tree.predict(X_test)\n",
    "\n",
    "tree_train = accuracy_score(y_train, y_train_pred)\n",
    "tree_test = accuracy_score(y_test, y_test_pred)\n",
    "print('Decision tree train/test accuracies %.3f/%.3f'\n",
    "      % (tree_train, tree_test))"
   ]
  },
  {
   "cell_type": "code",
   "execution_count": 79,
   "id": "302434a5-876f-482a-a23f-48686841c08b",
   "metadata": {},
   "outputs": [
    {
     "data": {
      "text/html": [
       "<div>\n",
       "<style scoped>\n",
       "    .dataframe tbody tr th:only-of-type {\n",
       "        vertical-align: middle;\n",
       "    }\n",
       "\n",
       "    .dataframe tbody tr th {\n",
       "        vertical-align: top;\n",
       "    }\n",
       "\n",
       "    .dataframe thead th {\n",
       "        text-align: right;\n",
       "    }\n",
       "</style>\n",
       "<table border=\"1\" class=\"dataframe\">\n",
       "  <thead>\n",
       "    <tr style=\"text-align: right;\">\n",
       "      <th></th>\n",
       "      <th>0</th>\n",
       "      <th>1</th>\n",
       "      <th>2</th>\n",
       "      <th>3</th>\n",
       "      <th>4</th>\n",
       "      <th>5</th>\n",
       "    </tr>\n",
       "  </thead>\n",
       "  <tbody>\n",
       "    <tr>\n",
       "      <th>38350</th>\n",
       "      <td>0.0</td>\n",
       "      <td>0.0</td>\n",
       "      <td>1.0</td>\n",
       "      <td>0.0</td>\n",
       "      <td>0.0</td>\n",
       "      <td>0.0</td>\n",
       "    </tr>\n",
       "    <tr>\n",
       "      <th>37286</th>\n",
       "      <td>0.0</td>\n",
       "      <td>0.0</td>\n",
       "      <td>0.0</td>\n",
       "      <td>1.0</td>\n",
       "      <td>0.0</td>\n",
       "      <td>0.0</td>\n",
       "    </tr>\n",
       "    <tr>\n",
       "      <th>...</th>\n",
       "      <td>...</td>\n",
       "      <td>...</td>\n",
       "      <td>...</td>\n",
       "      <td>...</td>\n",
       "      <td>...</td>\n",
       "      <td>...</td>\n",
       "    </tr>\n",
       "    <tr>\n",
       "      <th>11144</th>\n",
       "      <td>1.0</td>\n",
       "      <td>0.0</td>\n",
       "      <td>0.0</td>\n",
       "      <td>0.0</td>\n",
       "      <td>0.0</td>\n",
       "      <td>0.0</td>\n",
       "    </tr>\n",
       "    <tr>\n",
       "      <th>23743</th>\n",
       "      <td>0.0</td>\n",
       "      <td>0.0</td>\n",
       "      <td>0.0</td>\n",
       "      <td>1.0</td>\n",
       "      <td>0.0</td>\n",
       "      <td>0.0</td>\n",
       "    </tr>\n",
       "  </tbody>\n",
       "</table>\n",
       "<p>56051 rows × 6 columns</p>\n",
       "</div>"
      ],
      "text/plain": [
       "         0    1    2    3    4    5\n",
       "38350  0.0  0.0  1.0  0.0  0.0  0.0\n",
       "37286  0.0  0.0  0.0  1.0  0.0  0.0\n",
       "...    ...  ...  ...  ...  ...  ...\n",
       "11144  1.0  0.0  0.0  0.0  0.0  0.0\n",
       "23743  0.0  0.0  0.0  1.0  0.0  0.0\n",
       "\n",
       "[56051 rows x 6 columns]"
      ]
     },
     "execution_count": 79,
     "metadata": {},
     "output_type": "execute_result"
    }
   ],
   "source": [
    "y_train"
   ]
  },
  {
   "cell_type": "code",
   "execution_count": 91,
   "id": "51d07253-e852-4b86-b422-f7dad41a62d6",
   "metadata": {},
   "outputs": [
    {
     "name": "stderr",
     "output_type": "stream",
     "text": [
      "D:\\PycharmProjects\\words\\venv\\lib\\site-packages\\sklearn\\ensemble\\_weight_boosting.py:519: FutureWarning: The SAMME.R algorithm (the default) is deprecated and will be removed in 1.6. Use the SAMME algorithm to circumvent this warning.\n",
      "  warnings.warn(\n"
     ]
    },
    {
     "name": "stdout",
     "output_type": "stream",
     "text": [
      "Decision AdaBoost train/test 1.000/0.811\n"
     ]
    }
   ],
   "source": [
    "# Train AdaBoost classifier\n",
    "\n",
    "ada = ada.fit(X_train, y_train.values.ravel())\n",
    "y_train_pred = ada.predict(X_train)\n",
    "y_test_pred = ada.predict(X_test)\n",
    "\n",
    "ada_train = accuracy_score(y_train, y_train_pred) \n",
    "ada_test = accuracy_score(y_test, y_test_pred) \n",
    "print('Decision AdaBoost train/test %.3f/%.3f'\n",
    "      % (ada_train, ada_test))"
   ]
  },
  {
   "cell_type": "markdown",
   "id": "8d5dad31-209c-4f06-8990-28340dd05ac3",
   "metadata": {
    "jp-MarkdownHeadingCollapsed": true
   },
   "source": [
    "# Trying AI"
   ]
  },
  {
   "cell_type": "raw",
   "id": "5d06f6fe-379c-4f1c-a9a1-b76bf9c42944",
   "metadata": {},
   "source": [
    "# Create a model\n",
    "model = Sequential()\n",
    "\n",
    "# model.add(BatchNormalization())\n",
    "\n",
    "# Add input layer\n",
    "# model.add(Dense(83, activation='softmax', input_shape = (n_futures,) ))\n",
    "# model.add(Dense(100, activation='relu', input_shape = (n_futures,) ))\n",
    "model.add(Embedding(input_dim=33, output_dim=6))\n",
    "\n",
    "# model.add(Dropout(0.1))\n",
    "# model.add(Dense(100, activation='relu'))\n",
    "\n",
    "model.add(Dropout(0.1))\n",
    "# model.add(Dropout(0.25))\n",
    "\n",
    "model.add(BatchNormalization())\n",
    "# model.add(Conv1D(filters=20 , kernel_size=4, strides=1, padding='same', activation='relu'))\n",
    "model.add(Conv1D(filters=20 , kernel_size=4, strides=1, padding='same', activation='relu'))\n",
    "model.add(MaxPooling1D(2))\n",
    "\n",
    "# model.add(Dense(100, activation='relu', input_shape = (n_futures,) ))\n",
    "model.add(Dense(100, activation='softmax'))\n",
    "# model.add(Dropout(0.1))\n",
    "model.add(Dense(100, activation='relu'))\n",
    "\n",
    "# model.add(Conv1D(filters=20 , kernel_size=4, strides=1, padding='same', activation='relu'))\n",
    "# model.add(MaxPooling1D(2))\n",
    "# model.add(Dense(100, activation='relu'))\n",
    "\n",
    "model.add(Dropout(0.2))\n",
    "\n",
    "model.add(BatchNormalization())\n",
    "\n",
    "model.add(Flatten())\n",
    "\n",
    "# output layer\n",
    "model.add(Dense(6, activation='softmax'))\n",
    "\n",
    "# Compile the model\n",
    "model.compile(optimizer=tf.keras.optimizers.Adam(learning_rate=0.01),\n",
    "              # optimizer='adam', \n",
    "              loss='categorical_crossentropy', \n",
    "              metrics=['accuracy'],\n",
    "             )"
   ]
  },
  {
   "cell_type": "raw",
   "id": "2c48a057-0246-4e23-8508-beec3be39826",
   "metadata": {},
   "source": [
    "# # Compile\n",
    "\n",
    "# model.compile(loss='mse',              \n",
    "#               # optimizer=Adam(learning_rate=0.2), \n",
    "#               # optimizer='adam',\n",
    "#               optimizer=tf.keras.optimizers.Nadam(learning_rate=0.001),\n",
    "#               # metrics=['mae'])\n",
    "#               metrics=['mse'])\n",
    "\n",
    "print(model.summary()) # Выводим структуру сети\n",
    "# Train NN\n",
    "history=model.fit(X_train,\n",
    "                  y_train,\n",
    "                  batch_size=100,\n",
    "                  epochs=50,\n",
    "                  class_weight=class_weights_dict,\n",
    "                  # Подавляем вывол протоколов обучения.\n",
    "                  # verbose=0,\n",
    "                  # Используем 20% обучающих данных для валидации.\n",
    "                  # validation_split = 0.2)\n",
    "                 )\n",
    "\n"
   ]
  },
  {
   "cell_type": "raw",
   "id": "200b77b9-2afd-4550-97b2-d812c70061b8",
   "metadata": {},
   "source": [
    "plt.plot(history.history['accuracy'])\n",
    "# plt.plot(history.history['hindle'])\n",
    "plt.show()"
   ]
  },
  {
   "cell_type": "raw",
   "id": "8b4abfa6-cefd-4b25-83c0-5d213ab80356",
   "metadata": {},
   "source": [
    "test_predictions = model.predict(X_test).flatten()\n",
    "\n",
    "a = plt.axes(aspect='equal')\n",
    "plt.scatter(y_test, test_predictions)\n",
    "plt.xlabel('Истинные значения')\n",
    "plt.ylabel('Предсказанные значения')\n",
    "lims = [0, 10]\n",
    "plt.xlim(lims)\n",
    "plt.ylim(lims)\n",
    "_ = plt.plot(lims, lims)\n",
    "plt.show()"
   ]
  },
  {
   "cell_type": "raw",
   "id": "c2e4d67a-d4c9-453f-a1df-b5b4b1edf3ea",
   "metadata": {},
   "source": [
    "from sklearn.metrics import roc_curve"
   ]
  },
  {
   "cell_type": "raw",
   "id": "f71d2428-5f0f-4470-ba7e-3fea313a11c2",
   "metadata": {},
   "source": [
    "sns.set(font_scale=1.5)\n",
    "sns.set_color_codes(\"muted\")\n",
    "\n",
    "plt.figure(figsize=(10, 8))\n",
    "# fpr, tpr, thresholds = roc_curve(y_test, lr.predict_proba(X_test)[:,1], pos_label=1)\n",
    "fpr, tpr, thresholds = roc_curve(y_test, model.predict(X_test)[:,1], pos_label=1)\n",
    "lw = 2\n",
    "plt.plot(fpr, tpr, lw=lw, label='ROC curve ')\n",
    "plt.plot([0, 1], [0, 1])\n",
    "plt.xlim([0.0, 1.0])\n",
    "plt.ylim([0.0, 1.05])\n",
    "plt.xlabel('False Positive Rate')\n",
    "plt.ylabel('True Positive Rate')\n",
    "plt.title('ROC curve')\n",
    "plt.savefig(\"ROC.png\")\n",
    "plt.show()"
   ]
  }
 ],
 "metadata": {
  "kernelspec": {
   "display_name": "Python 3 (ipykernel)",
   "language": "python",
   "name": "python3"
  },
  "language_info": {
   "codemirror_mode": {
    "name": "ipython",
    "version": 3
   },
   "file_extension": ".py",
   "mimetype": "text/x-python",
   "name": "python",
   "nbconvert_exporter": "python",
   "pygments_lexer": "ipython3",
   "version": "3.10.0"
  }
 },
 "nbformat": 4,
 "nbformat_minor": 5
}
